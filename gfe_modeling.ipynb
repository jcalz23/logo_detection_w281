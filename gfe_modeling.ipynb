{
  "cells": [
    {
      "cell_type": "code",
      "source": [
        "# Mount Drive to Access Data\n",
        "from google.colab import drive\n",
        "drive.mount('/content/drive')"
      ],
      "metadata": {
        "colab": {
          "base_uri": "https://localhost:8080/"
        },
        "id": "Q2gP5owzn7r1",
        "outputId": "0658ba94-78b9-4411-f31d-7abe4529d8ab"
      },
      "execution_count": null,
      "outputs": [
        {
          "output_type": "stream",
          "name": "stdout",
          "text": [
            "Drive already mounted at /content/drive; to attempt to forcibly remount, call drive.mount(\"/content/drive\", force_remount=True).\n"
          ]
        }
      ]
    },
    {
      "cell_type": "code",
      "source": [
        "# Authenticate to access cloud bucket\n",
        "from google.colab import auth\n",
        "auth.authenticate_user()\n",
        "\n",
        "# create a LOCAL directory in /content/  so you can move stuff from bucket to local\n",
        "!mkdir /content/w281FinalProjectLogo\n",
        "# copy from google bucket to local directory\n",
        "!gsutil -m -q cp -r gs://w281finalprojectlogo/Logos-32plus_v1.0.1/preprocessedv2 /content/w281FinalProjectLogo/"
      ],
      "metadata": {
        "id": "9qCvMTAY3tZI"
      },
      "execution_count": null,
      "outputs": []
    },
    {
      "cell_type": "markdown",
      "metadata": {
        "id": "Ex6BlS6tn5wA"
      },
      "source": [
        "### Import Libraries and Set Paths"
      ]
    },
    {
      "cell_type": "code",
      "source": [
        "# Define directories\n",
        "base_dir = '/content/drive/MyDrive/w281FinalProjectLogo/'\n",
        "bucket = '/content/w281FinalProjectLogo/Logos-32plus_v1.0.1/'\n",
        "john_dir = base_dir + '/john/'\n",
        "fe_dir = base_dir + '/john/feature_extraction/'\n",
        "model_dir = base_dir + '/john/manual_model/'\n",
        "drive_save_dir = base_dir + 'Logos-32plus_v1.0.1/feature_extraction/'\n",
        "\n",
        "# reading, writing to bucket\n",
        "preproc_dir = bucket + 'preprocessedv2/'\n",
        "bucket_save_dir = bucket + 'feature_extraction/'\n",
        "da_path = preproc_dir + 'da/'\n",
        "bb_path = preproc_dir + 'bb/'\n",
        "cn_path = preproc_dir + 'cn/'"
      ],
      "metadata": {
        "id": "Ka8ucJ-VoYRr"
      },
      "execution_count": null,
      "outputs": []
    },
    {
      "cell_type": "code",
      "execution_count": null,
      "metadata": {
        "id": "Pt39Njp4n5wD"
      },
      "outputs": [],
      "source": [
        "import numpy as np\n",
        "import pandas as pd\n",
        "import sys\n",
        "import matplotlib.pyplot as plt\n",
        "from sklearn.model_selection import train_test_split\n",
        "from sklearn.metrics import classification_report, plot_confusion_matrix, \\\n",
        "      roc_auc_score, confusion_matrix, accuracy_score\n",
        "from sklearn.neighbors import KNeighborsClassifier\n",
        "from sklearn.svm import LinearSVC\n",
        "from sklearn.model_selection import GridSearchCV\n",
        "from sklearn.preprocessing import StandardScaler\n",
        "from sklearn.multiclass import OneVsRestClassifier\n",
        "from sklearn.linear_model import LogisticRegression\n",
        "from sklearn.model_selection import cross_val_score\n",
        "from sklearn.model_selection import RepeatedStratifiedKFold\n",
        "from sklearn.decomposition import PCA\n",
        "import seaborn as sns\n",
        "\n",
        "sys.path.append(model_dir)\n",
        "from eval_fns import roc_ovr_all, visualize_errors"
      ]
    },
    {
      "cell_type": "markdown",
      "metadata": {
        "id": "IM_NeU3Pn5wE"
      },
      "source": [
        "### Load Data, Split"
      ]
    },
    {
      "cell_type": "code",
      "execution_count": null,
      "metadata": {
        "colab": {
          "base_uri": "https://localhost:8080/"
        },
        "id": "mkI-QApcn5wF",
        "outputId": "17af7e62-38dd-4b75-b611-95ffc5a58dbd"
      },
      "outputs": [
        {
          "output_type": "stream",
          "name": "stdout",
          "text": [
            "Num Bboxes: 11446\n",
            "train    10653\n",
            "test       433\n",
            "val        360\n",
            "Name: split, dtype: int64\n"
          ]
        }
      ],
      "source": [
        "# Load df with extracted features\n",
        "df = pd.read_pickle(drive_save_dir + 'fe_merged_all_112722.csv')\n",
        "df.dropna(subset=['norm_hist'], inplace=True)\n",
        "print(f\"Num Bboxes: {len(df)}\")\n",
        "print(df['split'].value_counts())"
      ]
    },
    {
      "cell_type": "code",
      "source": [
        "# Prepare class map\n",
        "df.sort_values('class_code', ascending=True, inplace=True)\n",
        "class_df = df[['class_code', 'class']].drop_duplicates()\n",
        "class_map = dict(class_df[['class_code', 'class']].values)\n",
        "class_names = class_df['class'].unique()"
      ],
      "metadata": {
        "id": "hBugBWIbQz2-"
      },
      "execution_count": null,
      "outputs": []
    },
    {
      "cell_type": "code",
      "execution_count": null,
      "metadata": {
        "id": "mjVjIss0n5wG"
      },
      "outputs": [],
      "source": [
        "## Select features to use in modeling\n",
        "# Section 1: Non-SIFT features\n",
        "ns_features = ['cm_hsv_mean', 'cm_hsv_var', 'cm_hsv_skew',\n",
        "                'cm_rgb_mean', 'cm_rgb_var', 'cm_rgb_skew',\n",
        "                'cm_ycrcb_mean','cm_ycrcb_var', 'cm_ycrcb_skew',\n",
        "                'hu_moments', 'contrast', 'dissimilarity',\n",
        "                'homogeneity', 'energy', 'correlation', 'ASM']\n",
        "                \n",
        "# Non-SIFT: Combine each feature vector into 1-D array\n",
        "features_ns = []\n",
        "for idx, row in df.iterrows():\n",
        "  vals = []\n",
        "  for col in ns_features:\n",
        "    vals.extend(list(row[col]))\n",
        "  features_ns.append(vals)\n",
        "df['features_ns'] = features_ns\n",
        "\n",
        "\n",
        "# Section 2: All Features\n",
        "all_features = ns_features + ['norm_hist']\n",
        "                \n",
        "# Combine each feature vector into 1-D array\n",
        "features_all = []\n",
        "for idx, row in df.iterrows():\n",
        "  vals = []\n",
        "  for col in all_features:\n",
        "    vals.extend(list(row[col]))\n",
        "  features_all.append(vals)\n",
        "df['features_all'] = features_all"
      ]
    },
    {
      "cell_type": "code",
      "source": [
        "## split df\n",
        "train_df = df.loc[df['split']=='train', ].copy()\n",
        "val_df = df.loc[df['split']=='val', ].copy()\n",
        "test_df = df.loc[df['split']=='test', ].copy()\n",
        "\n",
        "## split X, y\n",
        "y_train = train_df['class_code'].values\n",
        "y_val = val_df['class_code'].values\n",
        "y_test = test_df['class_code'].values\n",
        "\n",
        "# Section 1: Non-SIFT features\n",
        "X_train_ns = train_df['features_ns'].tolist()\n",
        "X_val_ns = val_df['features_ns'].tolist()\n",
        "X_test_ns = test_df['features_ns'].tolist()\n",
        "\n",
        "# Section 2: All Features\n",
        "X_train_all = train_df['features_all'].tolist()\n",
        "X_val_all = val_df['features_all'].tolist()\n",
        "X_test_all = test_df['features_all'].tolist()\n",
        "\n",
        "# Section 3: SIFT Features Only\n",
        "X_train_sift = train_df['norm_hist'].tolist()\n",
        "X_val_sift = val_df['norm_hist'].tolist()\n",
        "X_test_sift = test_df['norm_hist'].tolist()"
      ],
      "metadata": {
        "id": "68ctKTRgsQZN"
      },
      "execution_count": null,
      "outputs": []
    },
    {
      "cell_type": "code",
      "source": [
        "## Standardize inputs\n",
        "# Section 1: Non-SIFT features\n",
        "scaler = StandardScaler() \n",
        "X_train_scaled_ns = scaler.fit_transform(X_train_ns)\n",
        "X_val_scaled_ns = scaler.transform(X_val_ns)\n",
        "X_test_scaled_ns = scaler.transform(X_test_ns)\n",
        "\n",
        "# Section 2: All Features\n",
        "scaler = StandardScaler() \n",
        "X_train_scaled_all = scaler.fit_transform(X_train_all)\n",
        "X_val_scaled_all = scaler.transform(X_val_all)\n",
        "X_test_scaled_all = scaler.transform(X_test_all)\n",
        "\n",
        "# Section 3: SIFT Features\n",
        "scaler = StandardScaler() \n",
        "X_train_scaled_sift = scaler.fit_transform(X_train_sift)\n",
        "X_val_scaled_sift = scaler.transform(X_val_sift)\n",
        "X_test_scaled_sift = scaler.transform(X_test_sift)"
      ],
      "metadata": {
        "id": "KUWuC26QqpCH"
      },
      "execution_count": null,
      "outputs": []
    },
    {
      "cell_type": "markdown",
      "source": [
        "# Section 1: Non-SIFT Feature Modeling"
      ],
      "metadata": {
        "id": "nCoVx-sBC6SK"
      }
    },
    {
      "cell_type": "markdown",
      "metadata": {
        "id": "0E3XOZfon5wJ"
      },
      "source": [
        "## Model 1.1: SVM"
      ]
    },
    {
      "cell_type": "code",
      "execution_count": null,
      "metadata": {
        "colab": {
          "base_uri": "https://localhost:8080/"
        },
        "id": "8KAZkjdPn5wJ",
        "outputId": "1e619779-6e19-4be2-a834-1ad8773a43e5"
      },
      "outputs": [
        {
          "output_type": "stream",
          "name": "stdout",
          "text": [
            "Accuracy: 72.29%\n",
            "\n"
          ]
        }
      ],
      "source": [
        "# Instantiate linear SVC (manually tuned params)\n",
        "lsvc = LinearSVC(penalty='l2', dual=False, multi_class = 'ovr', max_iter = 1000,\n",
        "                C = 0.25, class_weight='balanced')\n",
        "\n",
        "# Fit the training histograms and predict with SVC on training data itself\n",
        "lsvc.fit(X_train_scaled_ns, y_train)\n",
        "\n",
        "# Generate preds\n",
        "lsvc_preds = lsvc.predict(X_test_scaled_ns)\n",
        "\n",
        "# Get accuracy\n",
        "acc = accuracy_score(y_test, lsvc_preds)\n",
        "print(f\"Accuracy: {acc:.2%}\\n\")"
      ]
    },
    {
      "cell_type": "code",
      "execution_count": null,
      "metadata": {
        "colab": {
          "base_uri": "https://localhost:8080/"
        },
        "id": "Xi3Gq8ajn5wK",
        "outputId": "7eda5267-a11f-4163-ce54-e10ea1beb9de"
      },
      "outputs": [
        {
          "output_type": "stream",
          "name": "stdout",
          "text": [
            "              precision    recall  f1-score   support\n",
            "\n",
            "      adidas       0.65      0.31      0.42        35\n",
            "         dhl       0.85      0.87      0.86        45\n",
            "       apple       0.49      0.71      0.58        31\n",
            "         bmw       0.86      0.68      0.76        28\n",
            "    cocacola       0.53      0.84      0.65        37\n",
            "       fedex       0.80      0.84      0.82        44\n",
            "    heineken       0.64      0.42      0.51        66\n",
            "       pepsi       0.95      0.88      0.91        91\n",
            "   starbucks       0.50      0.70      0.58        27\n",
            "         ups       0.84      0.93      0.89        29\n",
            "\n",
            "    accuracy                           0.72       433\n",
            "   macro avg       0.71      0.72      0.70       433\n",
            "weighted avg       0.74      0.72      0.72       433\n",
            "\n"
          ]
        }
      ],
      "source": [
        "# Classification Report\n",
        "print(classification_report(y_test, lsvc_preds, target_names=class_names))"
      ]
    },
    {
      "cell_type": "code",
      "source": [
        "# # Visualize Errors\n",
        "# val_df['pred'] = lsvc_preds\n",
        "# val_df['pred_name'] = val_df[\"pred\"].replace(class_map)\n",
        "\n",
        "# for c in class_names:\n",
        "#   visualize_errors(val_df, c, cn_path)"
      ],
      "metadata": {
        "id": "OpFd9ysx2WLZ"
      },
      "execution_count": null,
      "outputs": []
    },
    {
      "cell_type": "markdown",
      "metadata": {
        "id": "TJgZ-a8nn5wH"
      },
      "source": [
        "## Model 1.2: K Nearest-Neighbors"
      ]
    },
    {
      "cell_type": "code",
      "source": [
        "# Fit model (manually tuned params on val set)\n",
        "neigh = KNeighborsClassifier(n_neighbors=16, weights='distance')\n",
        "neigh.fit(X_train_scaled_ns, y_train)\n",
        "\n",
        "# Generate preds\n",
        "preds = neigh.predict(X_test_scaled_ns)\n",
        "y_proba = neigh.predict_proba(X_test_scaled_ns)\n",
        "\n",
        "# Get accuracy\n",
        "acc = accuracy_score(y_test, preds)\n",
        "print(f\"Accuracy: {acc:.2%}\\n\")"
      ],
      "metadata": {
        "colab": {
          "base_uri": "https://localhost:8080/"
        },
        "id": "8EysOk8asxh6",
        "outputId": "8e3cbd70-f1be-48fa-a74a-c5fe04f8f428"
      },
      "execution_count": null,
      "outputs": [
        {
          "output_type": "stream",
          "name": "stdout",
          "text": [
            "Accuracy: 67.67%\n",
            "\n"
          ]
        }
      ]
    },
    {
      "cell_type": "markdown",
      "metadata": {
        "id": "FMxyEWn8n5wL"
      },
      "source": [
        "## Model 1.3: Log Regression"
      ]
    },
    {
      "cell_type": "code",
      "execution_count": null,
      "metadata": {
        "colab": {
          "base_uri": "https://localhost:8080/"
        },
        "id": "ZuLZBrkon5wL",
        "outputId": "33ef94cd-d14c-4cc1-831e-2fa499776d32"
      },
      "outputs": [
        {
          "output_type": "stream",
          "name": "stdout",
          "text": [
            "\n",
            "Accuracy: 73.33%\n",
            "\n"
          ]
        },
        {
          "output_type": "stream",
          "name": "stderr",
          "text": [
            "/usr/local/lib/python3.7/dist-packages/sklearn/linear_model/_sag.py:354: ConvergenceWarning: The max_iter was reached which means the coef_ did not converge\n",
            "  ConvergenceWarning,\n"
          ]
        }
      ],
      "source": [
        "# Init multinomial logreg model (manually tuned on val set)\n",
        "logreg = LogisticRegression(penalty='elasticnet', multi_class='multinomial',\n",
        "                            solver='saga', max_iter=500, l1_ratio = 0.8)\n",
        "logreg.fit(X_train_scaled_ns, y_train)\n",
        "\n",
        "# Generate preds\n",
        "lr_preds = logreg.predict(X_test_scaled_ns)\n",
        "\n",
        "# Get accuracy\n",
        "acc = accuracy_score(y_test, lr_preds)\n",
        "print(f\"\\nAccuracy: {acc:.2%}\\n\")"
      ]
    },
    {
      "cell_type": "markdown",
      "source": [
        "# Section 2: All Features (Including SIFT)"
      ],
      "metadata": {
        "id": "zi9cBlSvEFJ4"
      }
    },
    {
      "cell_type": "markdown",
      "source": [
        "## Model 2.1: Multinomial Logistic Regression"
      ],
      "metadata": {
        "id": "w7BB37ztFx6q"
      }
    },
    {
      "cell_type": "code",
      "source": [
        "# Init multinomial logreg model (manually tuned on val set)\n",
        "logreg = LogisticRegression(penalty='l2', multi_class='multinomial',\n",
        "                            solver='lbfgs', max_iter=100, C=0.001)\n",
        "logreg.fit(X_train_scaled_all, y_train)\n",
        "\n",
        "# Generate preds\n",
        "lr_preds = logreg.predict(X_test_scaled_all)\n",
        "\n",
        "# Get accuracy\n",
        "acc = accuracy_score(y_test, lr_preds)\n",
        "print(f\"Accuracy: {acc:.2%}\\n\")"
      ],
      "metadata": {
        "colab": {
          "base_uri": "https://localhost:8080/"
        },
        "id": "ygiBBlqUF1GD",
        "outputId": "1687e48e-19a8-4a10-da12-307f001ec040"
      },
      "execution_count": null,
      "outputs": [
        {
          "output_type": "stream",
          "name": "stdout",
          "text": [
            "Accuracy: 82.45%\n",
            "\n"
          ]
        }
      ]
    },
    {
      "cell_type": "markdown",
      "source": [
        "## Model 2.2: SVM"
      ],
      "metadata": {
        "id": "E19uLgpIElhi"
      }
    },
    {
      "cell_type": "code",
      "source": [
        "# Instantiate linear SVC\n",
        "lsvc = LinearSVC(penalty='l2', dual=False, multi_class = 'ovr', \n",
        "                 max_iter = 10000, C = 0.0001, class_weight=None)\n",
        "\n",
        "# Fit the training histograms and predict with SVC on training data itself\n",
        "lsvc.fit(X_train_scaled_all, y_train)\n",
        "\n",
        "# Generate preds\n",
        "lsvc_preds = lsvc.predict(X_test_scaled_all)\n",
        "\n",
        "# Get accuracy\n",
        "acc = accuracy_score(y_test, lsvc_preds)\n",
        "print(f\"Accuracy: {acc:.2%}\\n\")"
      ],
      "metadata": {
        "colab": {
          "base_uri": "https://localhost:8080/"
        },
        "id": "eNJEh83YEtKm",
        "outputId": "0e91d1c4-ec8b-4cfa-e320-2ab99ce1ac18"
      },
      "execution_count": null,
      "outputs": [
        {
          "output_type": "stream",
          "name": "stdout",
          "text": [
            "Accuracy: 85.22%\n",
            "\n"
          ]
        }
      ]
    },
    {
      "cell_type": "code",
      "source": [
        "# Classification Report\n",
        "print(classification_report(y_test, lsvc_preds, target_names=class_names))"
      ],
      "metadata": {
        "colab": {
          "base_uri": "https://localhost:8080/"
        },
        "id": "2d8BZtAxqTlp",
        "outputId": "8c258b99-692d-43eb-f5a1-be56ddee88cd"
      },
      "execution_count": null,
      "outputs": [
        {
          "output_type": "stream",
          "name": "stdout",
          "text": [
            "              precision    recall  f1-score   support\n",
            "\n",
            "      adidas       0.87      0.74      0.80        35\n",
            "         dhl       0.92      0.98      0.95        45\n",
            "       apple       0.58      0.84      0.68        31\n",
            "         bmw       0.73      0.79      0.76        28\n",
            "    cocacola       0.79      0.84      0.82        37\n",
            "       fedex       0.86      0.82      0.84        44\n",
            "    heineken       0.93      0.83      0.88        66\n",
            "       pepsi       0.95      0.82      0.88        91\n",
            "   starbucks       0.84      0.96      0.90        27\n",
            "         ups       0.93      0.97      0.95        29\n",
            "\n",
            "    accuracy                           0.85       433\n",
            "   macro avg       0.84      0.86      0.85       433\n",
            "weighted avg       0.87      0.85      0.85       433\n",
            "\n"
          ]
        }
      ]
    },
    {
      "cell_type": "code",
      "source": [
        "# Confusion Matrix\n",
        "cm = confusion_matrix(y_test, lsvc_preds)\n",
        "\n",
        "fig, ax = plt.subplots(1, 1, figsize=(10, 7))\n",
        "sns.heatmap(cm, annot=True, fmt='g', ax=ax);  #annot=True to annotate cells, ftm='g' to disable scientific notation\n",
        "ax.set_xlabel('Predicted labels');ax.set_ylabel('True labels'); \n",
        "ax.set_title('Confusion Matrix')\n",
        "ax.set_xticklabels(class_names, rotation=45, ha='right')\n",
        "ax.set_yticklabels(class_names, rotation=0, ha='right')\n",
        "plt.show()"
      ],
      "metadata": {
        "colab": {
          "base_uri": "https://localhost:8080/",
          "height": 490
        },
        "id": "v7IGd3Ipro0s",
        "outputId": "91601259-b786-42f5-ae37-186219f0ec1e"
      },
      "execution_count": null,
      "outputs": [
        {
          "output_type": "display_data",
          "data": {
            "text/plain": [
              "<Figure size 720x504 with 2 Axes>"
            ],
            "image/png": "[encoded data removed]"
          },
          "metadata": {
            "needs_background": "light"
          }
        }
      ]
    },
    {
      "cell_type": "code",
      "source": [
        "test_df['preds'] = lsvc_preds\n",
        "test_df.loc[(test_df['preds']==2)&(test_df['class']=='pepsi'), 'merge_key'][:3]\n",
        "\n",
        "# find the images in cn folder"
      ],
      "metadata": {
        "colab": {
          "base_uri": "https://localhost:8080/"
        },
        "id": "9hyu6839rrSx",
        "outputId": "f9d63319-88b5-40d9-99bd-90aa508a513a"
      },
      "execution_count": null,
      "outputs": [
        {
          "output_type": "execute_result",
          "data": {
            "text/plain": [
              "11366    005873_06_bb_cn\n",
              "11385    005851_01_bb_cn\n",
              "11376    005873_16_bb_cn\n",
              "Name: merge_key, dtype: object"
            ]
          },
          "metadata": {},
          "execution_count": 50
        }
      ]
    },
    {
      "cell_type": "markdown",
      "source": [
        "## Model 2.3: KNN"
      ],
      "metadata": {
        "id": "PuuSQQoJEHl4"
      }
    },
    {
      "cell_type": "code",
      "execution_count": null,
      "metadata": {
        "id": "Gxmry10Cn5wM",
        "colab": {
          "base_uri": "https://localhost:8080/"
        },
        "outputId": "9de514cb-274b-4958-bce3-558f8414fbf2"
      },
      "outputs": [
        {
          "output_type": "stream",
          "name": "stdout",
          "text": [
            "Accuracy: 46.88%\n",
            "\n"
          ]
        }
      ],
      "source": [
        "# Fit model\n",
        "neigh = KNeighborsClassifier(n_neighbors=8, weights='distance') #<--- tuned n value on val set\n",
        "neigh.fit(X_train_scaled_all, y_train)\n",
        "\n",
        "# Generate preds\n",
        "preds = neigh.predict(X_test_scaled_all)\n",
        "y_proba = neigh.predict_proba(X_test_scaled_all)\n",
        "\n",
        "# Get accuracy\n",
        "acc = accuracy_score(y_test, preds)\n",
        "print(f\"Accuracy: {acc:.2%}\\n\")"
      ]
    },
    {
      "cell_type": "markdown",
      "source": [
        "# Section 3: SIFT-only Modeling"
      ],
      "metadata": {
        "id": "TWGIR00UV-6U"
      }
    },
    {
      "cell_type": "code",
      "source": [
        "# Instantiate linear SVC\n",
        "lsvc = LinearSVC(penalty='l2', dual=False, multi_class = 'ovr', \n",
        "                 max_iter = 5000, C = 0.0001, class_weight=None)\n",
        "\n",
        "# Fit the training histograms and predict with SVC on training data itself\n",
        "lsvc.fit(X_train_scaled_sift, y_train)\n",
        "\n",
        "# Generate preds\n",
        "lsvc_preds = lsvc.predict(X_test_scaled_sift)\n",
        "\n",
        "# Get accuracy\n",
        "acc = accuracy_score(y_test, lsvc_preds)\n",
        "print(f\"Accuracy: {acc:.2%}\\n\")"
      ],
      "metadata": {
        "id": "JodhPKhDbvI4",
        "colab": {
          "base_uri": "https://localhost:8080/"
        },
        "outputId": "6923a709-1ac1-47ef-9fab-f0f365c387c1"
      },
      "execution_count": null,
      "outputs": [
        {
          "output_type": "stream",
          "name": "stdout",
          "text": [
            "Accuracy: 75.52%\n",
            "\n"
          ]
        }
      ]
    },
    {
      "cell_type": "code",
      "source": [
        "# Classification Report\n",
        "print(classification_report(y_test, lsvc_preds, target_names=class_names))"
      ],
      "metadata": {
        "colab": {
          "base_uri": "https://localhost:8080/"
        },
        "id": "s2kpTosBojrr",
        "outputId": "b80a0ec0-bebd-40fb-8e48-5e3ad6d8deca"
      },
      "execution_count": null,
      "outputs": [
        {
          "output_type": "stream",
          "name": "stdout",
          "text": [
            "              precision    recall  f1-score   support\n",
            "\n",
            "      adidas       0.78      0.71      0.75        35\n",
            "         dhl       0.83      0.84      0.84        45\n",
            "       apple       0.36      0.61      0.45        31\n",
            "         bmw       0.56      0.68      0.61        28\n",
            "    cocacola       0.82      0.73      0.77        37\n",
            "       fedex       0.83      0.80      0.81        44\n",
            "    heineken       0.92      0.85      0.88        66\n",
            "       pepsi       0.77      0.60      0.68        91\n",
            "   starbucks       0.81      0.96      0.88        27\n",
            "         ups       0.93      0.93      0.93        29\n",
            "\n",
            "    accuracy                           0.76       433\n",
            "   macro avg       0.76      0.77      0.76       433\n",
            "weighted avg       0.78      0.76      0.76       433\n",
            "\n"
          ]
        }
      ]
    }
  ],
  "metadata": {
    "kernelspec": {
      "display_name": "Python 3.10.0 ('w281')",
      "language": "python",
      "name": "python3"
    },
    "language_info": {
      "codemirror_mode": {
        "name": "ipython",
        "version": 3
      },
      "file_extension": ".py",
      "mimetype": "text/x-python",
      "name": "python",
      "nbconvert_exporter": "python",
      "pygments_lexer": "ipython3",
      "version": "3.10.0"
    },
    "orig_nbformat": 4,
    "vscode": {
      "interpreter": {
        "hash": "7690e95adedd8191f0ce86c5df02585ffc130729bec63a8b5bda66e6900601ad"
      }
    },
    "colab": {
      "provenance": []
    }
  },
  "nbformat": 4,
  "nbformat_minor": 0
}