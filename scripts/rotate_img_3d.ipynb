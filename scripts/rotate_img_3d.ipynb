{
 "cells": [
  {
   "cell_type": "code",
   "execution_count": 5,
   "metadata": {},
   "outputs": [],
   "source": [
    "# Playing with labeled image data\n",
    "import os\n",
    "import math\n",
    "import numpy as np\n",
    "import pandas as pd\n",
    "import matplotlib.pyplot as plt\n",
    "import cv2\n",
    "\n",
    "# Define directories\n",
    "base_dir = '/Users/jetcalz07/Desktop/MIDS/W281_CV/logo_detection_w281/'\n",
    "image_dir = base_dir + 'data/images/'\n",
    "bbox_dir = base_dir + 'data/yolofinalset/obj_train_data/'\n",
    "ref_dir = base_dir + 'data/logo_references/adidas/'"
   ]
  },
  {
   "cell_type": "code",
   "execution_count": 6,
   "metadata": {},
   "outputs": [
    {
     "data": {
      "text/plain": [
       "<matplotlib.image.AxesImage at 0x13f875960>"
      ]
     },
     "execution_count": 6,
     "metadata": {},
     "output_type": "execute_result"
    },
    {
     "data": {
      "image/png": "[encoded data removed]",
      "text/plain": [
       "<Figure size 432x288 with 1 Axes>"
      ]
     },
     "metadata": {
      "needs_background": "light"
     },
     "output_type": "display_data"
    }
   ],
   "source": [
    "# Load list of train images\n",
    "with open(base_dir + 'data/yolofinalset/train.txt') as f:\n",
    "    train = f.readlines()\n",
    "train = [x.replace('\\n', '').split('/')[-1] for x in train]\n",
    "\n",
    "# Load adidas image, template, bounding boxes\n",
    "z = 0\n",
    "img_file = image_dir + train[z]\n",
    "ref_file = ref_dir + os.listdir(ref_dir)[0] \n",
    "img_bbox = bbox_dir +  train[z].replace('.jpg', '.txt')\n",
    "\n",
    "# Read in image and bounding box info, format\n",
    "im = plt.imread(ref_file)\n",
    "img = im[:, :, 0].copy()\n",
    "\n",
    "plt.imshow(img, cmap='gray')"
   ]
  },
  {
   "cell_type": "code",
   "execution_count": 9,
   "metadata": {},
   "outputs": [
    {
     "data": {
      "text/plain": [
       "-1"
      ]
     },
     "execution_count": 9,
     "metadata": {},
     "output_type": "execute_result"
    }
   ],
   "source": [
    "# Goal: Transform image by applying homography to tilt it 15 degrees forward, backward, left, right (maybe then combos?)\n",
    "def rotate_3d(img, x=0.0, y=0.0, z=0.0):\n",
    "\n",
    "    #2d to 3d (projection)\n",
    "    proj2dto3d = np.array([[1,0,-img.shape[1]/2],\n",
    "                        [0,1,-img.shape[0]/2],\n",
    "                        [0,0,0],\n",
    "                        [0,0,1]],np.float32)\n",
    "\n",
    "    proj3dto2d = np.array([ [200,0,img.shape[1]/2,0],\n",
    "                            [0,200,img.shape[0]/2,0],\n",
    "                            [0,0,1,0] ],np.float32)\n",
    "\n",
    "    trans= np.array([[1,0,0,0],\n",
    "                    [0,1,0,0],\n",
    "                    [0,0,1,400], #400 to move the image back in z axis so full logo shown after y-rotation\n",
    "                    [0,0,0,1]],np.float32)\n",
    "\n",
    "    # Define rotation\n",
    "    ax = float(x * (math.pi / 180.0))\n",
    "    ay = float(y * (math.pi / 180.0)) \n",
    "    az = float(z * (math.pi / 180.0))\n",
    "    rx   = np.array([[1,0,0,0],\n",
    "                    [0,math.cos(ax),-math.sin(ax),0],\n",
    "                    [0,math.sin(ax),math.cos(ax),0],\n",
    "                    [0,0,0,1]],np.float32)  #0\n",
    "    ry   = np.array([[math.cos(ay),0,-math.sin(ay),0],\n",
    "                    [0,1,0,0],\n",
    "                    [math.sin(ay),0,math.cos(ay),0],\n",
    "                    [0,0,0,1]],np.float32)\n",
    "    rz   = np.array([[math.cos(az),-math.sin(az),0,0],\n",
    "                    [math.sin(az),math.cos(az),0,0],\n",
    "                    [0,0,1,0],\n",
    "                    [0,0,0,1]],np.float32)\n",
    "\n",
    "    # Execute rotation\n",
    "    r =rx.dot(ry).dot(rz)\n",
    "    final = proj3dto2d.dot(trans.dot(r.dot(proj2dto3d)))\n",
    "    dst = cv2.warpPerspective(img, final,(img.shape[1],img.shape[0]),None,cv2.INTER_LINEAR\n",
    "                                ,cv2.BORDER_CONSTANT,(255,255,255))\n",
    "\n",
    "    return dst\n",
    "\n",
    "# define degree rotation\n",
    "dst = rotate_3d(img, x=0.0, y=45.0, z=45.0)\n",
    "cv2.imshow(\"dst\",dst)\n",
    "cv2.waitKey(25)"
   ]
  },
  {
   "cell_type": "code",
   "execution_count": null,
   "metadata": {},
   "outputs": [],
   "source": []
  },
  {
   "cell_type": "code",
   "execution_count": null,
   "metadata": {},
   "outputs": [],
   "source": []
  },
  {
   "cell_type": "code",
   "execution_count": null,
   "metadata": {},
   "outputs": [],
   "source": []
  }
 ],
 "metadata": {
  "kernelspec": {
   "display_name": "Python 3.10.0 ('w281')",
   "language": "python",
   "name": "python3"
  },
  "language_info": {
   "codemirror_mode": {
    "name": "ipython",
    "version": 3
   },
   "file_extension": ".py",
   "mimetype": "text/x-python",
   "name": "python",
   "nbconvert_exporter": "python",
   "pygments_lexer": "ipython3",
   "version": "3.10.0"
  },
  "orig_nbformat": 4,
  "vscode": {
   "interpreter": {
    "hash": "7690e95adedd8191f0ce86c5df02585ffc130729bec63a8b5bda66e6900601ad"
   }
  }
 },
 "nbformat": 4,
 "nbformat_minor": 2
}
