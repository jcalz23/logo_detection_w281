{
 "cells": [
  {
   "cell_type": "markdown",
   "metadata": {},
   "source": [
    "## 1. Imports and Paths"
   ]
  },
  {
   "cell_type": "code",
   "execution_count": 4,
   "metadata": {},
   "outputs": [],
   "source": [
    "# Playing with labeled image data\n",
    "import os\n",
    "import numpy as np\n",
    "import pandas as pd\n",
    "import matplotlib.pyplot as plt\n",
    "import cv2\n",
    "\n",
    "from kp_descriptor_fns import overlay_bboxes, HarrisKeypointDetector, SimpleFeatureDescriptor, ORB_SIFT_FeatureDescriptor"
   ]
  },
  {
   "cell_type": "code",
   "execution_count": 5,
   "metadata": {},
   "outputs": [],
   "source": [
    "# Define directories\n",
    "base_dir = '/Users/jetcalz07/Desktop/MIDS/W281_CV/logo_detection_w281/'\n",
    "image_dir = base_dir + 'data/images/'\n",
    "bbox_dir = base_dir + 'data/yolofinalset/obj_train_data/'\n",
    "\n",
    "# Load list of train images\n",
    "with open(base_dir + 'data/yolofinalset/train.txt') as f:\n",
    "    train = f.readlines()\n",
    "train = [x.replace('\\n', '').split('/')[-1] for x in train]"
   ]
  },
  {
   "cell_type": "markdown",
   "metadata": {},
   "source": [
    "## 2. Loop through train images, bboxes, extract features and save to DF row"
   ]
  },
  {
   "cell_type": "code",
   "execution_count": 6,
   "metadata": {},
   "outputs": [
    {
     "name": "stdout",
     "output_type": "stream",
     "text": [
      "1641\n"
     ]
    },
    {
     "data": {
      "text/html": [
       "<div>\n",
       "<style scoped>\n",
       "    .dataframe tbody tr th:only-of-type {\n",
       "        vertical-align: middle;\n",
       "    }\n",
       "\n",
       "    .dataframe tbody tr th {\n",
       "        vertical-align: top;\n",
       "    }\n",
       "\n",
       "    .dataframe thead th {\n",
       "        text-align: right;\n",
       "    }\n",
       "</style>\n",
       "<table border=\"1\" class=\"dataframe\">\n",
       "  <thead>\n",
       "    <tr style=\"text-align: right;\">\n",
       "      <th></th>\n",
       "      <th>img_file</th>\n",
       "      <th>bbox_file</th>\n",
       "      <th>label</th>\n",
       "      <th>bbox_num</th>\n",
       "      <th>bbox_corners</th>\n",
       "      <th>simple_feature</th>\n",
       "      <th>harris_orb_feature</th>\n",
       "      <th>orb_kp_feature</th>\n",
       "      <th>harris_sift_feature</th>\n",
       "      <th>sift_kp_feature</th>\n",
       "    </tr>\n",
       "  </thead>\n",
       "  <tbody>\n",
       "    <tr>\n",
       "      <th>0</th>\n",
       "      <td>002837.jpg</td>\n",
       "      <td>002837.txt</td>\n",
       "      <td>1.0</td>\n",
       "      <td>1</td>\n",
       "      <td>[[762, 932, 347, 403], [185, 279, 250, 278], [...</td>\n",
       "      <td>[[0.0, 0.0, 0.0, 0.0, 0.0, 0.0, 0.0, 0.0, 0.0,...</td>\n",
       "      <td>[[133, 5, 14, 178, 133, 237, 35, 232, 80, 210,...</td>\n",
       "      <td>[[22, 108, 189, 147, 148, 31, 254, 198, 102, 1...</td>\n",
       "      <td>[[0.0, 0.0, 0.0, 0.0, 0.0, 0.0, 0.0, 0.0, 0.0,...</td>\n",
       "      <td>[[24.0, 0.0, 0.0, 0.0, 0.0, 0.0, 0.0, 0.0, 167...</td>\n",
       "    </tr>\n",
       "    <tr>\n",
       "      <th>1</th>\n",
       "      <td>002837.jpg</td>\n",
       "      <td>002837.txt</td>\n",
       "      <td>1.0</td>\n",
       "      <td>2</td>\n",
       "      <td>[[762, 932, 347, 403], [185, 279, 250, 278], [...</td>\n",
       "      <td>[[0.0, 0.0, 0.0, 0.0, 0.0, 0.0, 0.0, 0.0, 0.0,...</td>\n",
       "      <td>[[7, 13, 74, 146, 134, 185, 38, 227, 90, 64, 1...</td>\n",
       "      <td>[[29, 92, 93, 110, 27, 228, 82, 59, 197, 72, 2...</td>\n",
       "      <td>[[0.0, 0.0, 0.0, 0.0, 0.0, 0.0, 0.0, 0.0, 0.0,...</td>\n",
       "      <td>[[0.0, 0.0, 0.0, 0.0, 0.0, 0.0, 0.0, 0.0, 2.0,...</td>\n",
       "    </tr>\n",
       "    <tr>\n",
       "      <th>2</th>\n",
       "      <td>002837.jpg</td>\n",
       "      <td>002837.txt</td>\n",
       "      <td>1.0</td>\n",
       "      <td>3</td>\n",
       "      <td>[[762, 932, 347, 403], [185, 279, 250, 278], [...</td>\n",
       "      <td>[[0.0, 0.0, 0.0, 0.0, 0.0, 0.0, 0.0, 0.0, 0.0,...</td>\n",
       "      <td>[[3, 147, 6, 162, 164, 143, 176, 102, 72, 81, ...</td>\n",
       "      <td>[[40, 28, 59, 78, 82, 228, 179, 82, 84, 28, 62...</td>\n",
       "      <td>[[0.0, 0.0, 0.0, 0.0, 0.0, 0.0, 0.0, 0.0, 0.0,...</td>\n",
       "      <td>[[16.0, 2.0, 0.0, 0.0, 0.0, 0.0, 0.0, 0.0, 131...</td>\n",
       "    </tr>\n",
       "    <tr>\n",
       "      <th>3</th>\n",
       "      <td>002837.jpg</td>\n",
       "      <td>002837.txt</td>\n",
       "      <td>1.0</td>\n",
       "      <td>4</td>\n",
       "      <td>[[762, 932, 347, 403], [185, 279, 250, 278], [...</td>\n",
       "      <td>[[0.0, 0.0, 0.0, 0.0, 0.0, 0.0, 0.0, 0.0, 0.0,...</td>\n",
       "      <td>[[135, 2, 0, 162, 197, 21, 123, 56, 113, 193, ...</td>\n",
       "      <td>[[162, 21, 204, 66, 125, 195, 157, 24, 11, 68,...</td>\n",
       "      <td>[[0.0, 0.0, 0.0, 0.0, 0.0, 0.0, 0.0, 0.0, 0.0,...</td>\n",
       "      <td>None</td>\n",
       "    </tr>\n",
       "    <tr>\n",
       "      <th>4</th>\n",
       "      <td>002836.jpg</td>\n",
       "      <td>002836.txt</td>\n",
       "      <td>1.0</td>\n",
       "      <td>1</td>\n",
       "      <td>[[751, 773, 300, 306], [827, 849, 293, 299], [...</td>\n",
       "      <td>[[0.0, 0.0, 0.0, 0.0, 0.0, 0.0, 0.0, 0.0, 0.0,...</td>\n",
       "      <td>[[181, 153, 92, 144, 166, 235, 4, 227, 226, 21...</td>\n",
       "      <td>None</td>\n",
       "      <td>[[0.0, 0.0, 0.0, 0.0, 0.0, 0.0, 0.0, 0.0, 0.0,...</td>\n",
       "      <td>None</td>\n",
       "    </tr>\n",
       "  </tbody>\n",
       "</table>\n",
       "</div>"
      ],
      "text/plain": [
       "     img_file   bbox_file  label  bbox_num  \\\n",
       "0  002837.jpg  002837.txt    1.0         1   \n",
       "1  002837.jpg  002837.txt    1.0         2   \n",
       "2  002837.jpg  002837.txt    1.0         3   \n",
       "3  002837.jpg  002837.txt    1.0         4   \n",
       "4  002836.jpg  002836.txt    1.0         1   \n",
       "\n",
       "                                        bbox_corners  \\\n",
       "0  [[762, 932, 347, 403], [185, 279, 250, 278], [...   \n",
       "1  [[762, 932, 347, 403], [185, 279, 250, 278], [...   \n",
       "2  [[762, 932, 347, 403], [185, 279, 250, 278], [...   \n",
       "3  [[762, 932, 347, 403], [185, 279, 250, 278], [...   \n",
       "4  [[751, 773, 300, 306], [827, 849, 293, 299], [...   \n",
       "\n",
       "                                      simple_feature  \\\n",
       "0  [[0.0, 0.0, 0.0, 0.0, 0.0, 0.0, 0.0, 0.0, 0.0,...   \n",
       "1  [[0.0, 0.0, 0.0, 0.0, 0.0, 0.0, 0.0, 0.0, 0.0,...   \n",
       "2  [[0.0, 0.0, 0.0, 0.0, 0.0, 0.0, 0.0, 0.0, 0.0,...   \n",
       "3  [[0.0, 0.0, 0.0, 0.0, 0.0, 0.0, 0.0, 0.0, 0.0,...   \n",
       "4  [[0.0, 0.0, 0.0, 0.0, 0.0, 0.0, 0.0, 0.0, 0.0,...   \n",
       "\n",
       "                                  harris_orb_feature  \\\n",
       "0  [[133, 5, 14, 178, 133, 237, 35, 232, 80, 210,...   \n",
       "1  [[7, 13, 74, 146, 134, 185, 38, 227, 90, 64, 1...   \n",
       "2  [[3, 147, 6, 162, 164, 143, 176, 102, 72, 81, ...   \n",
       "3  [[135, 2, 0, 162, 197, 21, 123, 56, 113, 193, ...   \n",
       "4  [[181, 153, 92, 144, 166, 235, 4, 227, 226, 21...   \n",
       "\n",
       "                                      orb_kp_feature  \\\n",
       "0  [[22, 108, 189, 147, 148, 31, 254, 198, 102, 1...   \n",
       "1  [[29, 92, 93, 110, 27, 228, 82, 59, 197, 72, 2...   \n",
       "2  [[40, 28, 59, 78, 82, 228, 179, 82, 84, 28, 62...   \n",
       "3  [[162, 21, 204, 66, 125, 195, 157, 24, 11, 68,...   \n",
       "4                                               None   \n",
       "\n",
       "                                 harris_sift_feature  \\\n",
       "0  [[0.0, 0.0, 0.0, 0.0, 0.0, 0.0, 0.0, 0.0, 0.0,...   \n",
       "1  [[0.0, 0.0, 0.0, 0.0, 0.0, 0.0, 0.0, 0.0, 0.0,...   \n",
       "2  [[0.0, 0.0, 0.0, 0.0, 0.0, 0.0, 0.0, 0.0, 0.0,...   \n",
       "3  [[0.0, 0.0, 0.0, 0.0, 0.0, 0.0, 0.0, 0.0, 0.0,...   \n",
       "4  [[0.0, 0.0, 0.0, 0.0, 0.0, 0.0, 0.0, 0.0, 0.0,...   \n",
       "\n",
       "                                     sift_kp_feature  \n",
       "0  [[24.0, 0.0, 0.0, 0.0, 0.0, 0.0, 0.0, 0.0, 167...  \n",
       "1  [[0.0, 0.0, 0.0, 0.0, 0.0, 0.0, 0.0, 0.0, 2.0,...  \n",
       "2  [[16.0, 2.0, 0.0, 0.0, 0.0, 0.0, 0.0, 0.0, 131...  \n",
       "3                                               None  \n",
       "4                                               None  "
      ]
     },
     "execution_count": 6,
     "metadata": {},
     "output_type": "execute_result"
    }
   ],
   "source": [
    "# Init DF\n",
    "df = pd.DataFrame({\n",
    "    'img_file': pd.Series(dtype='str'),\n",
    "    'bbox_file': pd.Series(dtype='str'),\n",
    "    'label':  pd.Series(dtype='int'),\n",
    "    'bbox_num': pd.Series(dtype='int'),\n",
    "    'bbox_corners': pd.Series(dtype='int'),\n",
    "    'simple_feature': pd.Series(dtype='float32'),\n",
    "    'harris_orb_feature': pd.Series(dtype='float32'),\n",
    "    'orb_kp_feature': pd.Series(dtype='float32'),\n",
    "    'harris_sift_feature': pd.Series(dtype='float32'),\n",
    "    'sift_kp_feature': pd.Series(dtype='float32'),\n",
    "    })\n",
    "\n",
    "# Load first image, template, bounding boxes\n",
    "for z in range(len(train)):\n",
    "    img_file = image_dir + train[z]\n",
    "    img_bbox_file = bbox_dir +  train[z].replace('.jpg', '.txt')\n",
    "\n",
    "    # Load image, overlay bboxes\n",
    "    im_gray, im_bboxes, bboxes, label = overlay_bboxes(img_file, img_bbox_file)\n",
    "\n",
    "    # loop through each box, get features and append to df row\n",
    "    for i in range(len(bboxes)):\n",
    "        x_min, x_max, y_min, y_max = bboxes[i]\n",
    "        img_bbox = im_bboxes[y_min:y_max, x_min:x_max]\n",
    "\n",
    "        # get keyopints and feature descriptors\n",
    "        harris_kp = HarrisKeypointDetector(img_bbox, n=2, w=3, k=0.04, p=0.9, verbose=False)\n",
    "        simple_feature = SimpleFeatureDescriptor(img_bbox, harris_kp, w=5)\n",
    "        harris_orb_feature = ORB_SIFT_FeatureDescriptor(img_bbox, use_orb = True, use_harris=True, nfeatures=10, harris_kp=harris_kp)\n",
    "        orb_kp_feature = ORB_SIFT_FeatureDescriptor(img_bbox, use_orb = True, use_harris=False, nfeatures=10, harris_kp=None)\n",
    "        harris_sift_feature = ORB_SIFT_FeatureDescriptor(img_bbox, use_orb = False, use_harris=True, nfeatures=10, harris_kp=harris_kp)\n",
    "        sift_kp_feature = ORB_SIFT_FeatureDescriptor(img_bbox, use_orb = False, use_harris=False, nfeatures=10, harris_kp=None)\n",
    "\n",
    "        # append to df\n",
    "        row = {\n",
    "            'img_file': train[z],\n",
    "            'bbox_file': train[z].replace('.jpg', '.txt'),\n",
    "            'label': label,\n",
    "            'bbox_num': i+1,\n",
    "            'bbox_corners': np.array(bboxes, dtype='int'),\n",
    "            'simple_feature': simple_feature,\n",
    "            'harris_orb_feature': harris_orb_feature,\n",
    "            'orb_kp_feature': orb_kp_feature,\n",
    "            'harris_sift_feature': harris_sift_feature,\n",
    "            'sift_kp_feature': sift_kp_feature,\n",
    "            }\n",
    "        df = df.append(row, ignore_index=True)\n",
    "\n",
    "# display\n",
    "print(len(df))\n",
    "df.head()"
   ]
  },
  {
   "cell_type": "code",
   "execution_count": 8,
   "metadata": {},
   "outputs": [
    {
     "data": {
      "text/plain": [
       "(5, 32)"
      ]
     },
     "execution_count": 8,
     "metadata": {},
     "output_type": "execute_result"
    }
   ],
   "source": [
    "harris_orb_feature.shape"
   ]
  },
  {
   "cell_type": "code",
   "execution_count": null,
   "metadata": {},
   "outputs": [],
   "source": []
  },
  {
   "cell_type": "code",
   "execution_count": null,
   "metadata": {},
   "outputs": [],
   "source": []
  }
 ],
 "metadata": {
  "kernelspec": {
   "display_name": "Python 3.10.0 ('w281')",
   "language": "python",
   "name": "python3"
  },
  "language_info": {
   "codemirror_mode": {
    "name": "ipython",
    "version": 3
   },
   "file_extension": ".py",
   "mimetype": "text/x-python",
   "name": "python",
   "nbconvert_exporter": "python",
   "pygments_lexer": "ipython3",
   "version": "3.10.0"
  },
  "orig_nbformat": 4,
  "vscode": {
   "interpreter": {
    "hash": "7690e95adedd8191f0ce86c5df02585ffc130729bec63a8b5bda66e6900601ad"
   }
  }
 },
 "nbformat": 4,
 "nbformat_minor": 2
}
