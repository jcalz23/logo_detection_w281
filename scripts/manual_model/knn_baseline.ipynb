{
 "cells": [
  {
   "cell_type": "markdown",
   "metadata": {},
   "source": [
    "### Import Libraries and Set Paths"
   ]
  },
  {
   "cell_type": "code",
   "execution_count": 1,
   "metadata": {},
   "outputs": [],
   "source": [
    "import numpy as np\n",
    "import pandas as pd\n",
    "import matplotlib.pyplot as plt\n",
    "from sklearn.model_selection import train_test_split\n",
    "from sklearn.metrics import classification_report, plot_confusion_matrix, roc_auc_score, confusion_matrix, accuracy_score\n",
    "from sklearn.neighbors import KNeighborsClassifier\n",
    "from sklearn.svm import LinearSVC\n",
    "from sklearn.multiclass import OneVsRestClassifier\n",
    "from sklearn.linear_model import LogisticRegression\n",
    "import seaborn as sns\n",
    "\n",
    "from roc_fns import roc_ovr_all"
   ]
  },
  {
   "cell_type": "code",
   "execution_count": 2,
   "metadata": {},
   "outputs": [],
   "source": [
    "# Define directories\n",
    "base_dir = '/Users/jetcalz07/Desktop/MIDS/W281_CV/logo_detection_w281/'\n",
    "image_dir = base_dir + 'data/images/'\n",
    "bbox_dir = base_dir + 'data/yolofinalset/obj_train_data/'"
   ]
  },
  {
   "cell_type": "markdown",
   "metadata": {},
   "source": [
    "### Load Data, Split"
   ]
  },
  {
   "cell_type": "code",
   "execution_count": 3,
   "metadata": {},
   "outputs": [
    {
     "name": "stdout",
     "output_type": "stream",
     "text": [
      "Num Bboxes: 14769\n"
     ]
    },
    {
     "data": {
      "text/html": [
       "<div>\n",
       "<style scoped>\n",
       "    .dataframe tbody tr th:only-of-type {\n",
       "        vertical-align: middle;\n",
       "    }\n",
       "\n",
       "    .dataframe tbody tr th {\n",
       "        vertical-align: top;\n",
       "    }\n",
       "\n",
       "    .dataframe thead th {\n",
       "        text-align: right;\n",
       "    }\n",
       "</style>\n",
       "<table border=\"1\" class=\"dataframe\">\n",
       "  <thead>\n",
       "    <tr style=\"text-align: right;\">\n",
       "      <th></th>\n",
       "      <th>img_file</th>\n",
       "      <th>bbox_file</th>\n",
       "      <th>label</th>\n",
       "      <th>bbox_num</th>\n",
       "      <th>bbox_corners</th>\n",
       "      <th>simple_feature</th>\n",
       "      <th>harris_orb_feature</th>\n",
       "      <th>orb_kp_feature</th>\n",
       "      <th>harris_sift_feature</th>\n",
       "      <th>sift_kp_feature</th>\n",
       "      <th>cm_hsv_0</th>\n",
       "      <th>cm_hsv_2</th>\n",
       "      <th>cm_hsv_3</th>\n",
       "      <th>cm_rgb_0</th>\n",
       "      <th>cm_rgb_2</th>\n",
       "      <th>cm_rgb_3</th>\n",
       "      <th>cm_ycrcb_0</th>\n",
       "      <th>cm_ycrcb_2</th>\n",
       "      <th>cm_ycrcb_3</th>\n",
       "    </tr>\n",
       "  </thead>\n",
       "  <tbody>\n",
       "    <tr>\n",
       "      <th>0</th>\n",
       "      <td>002837.jpg</td>\n",
       "      <td>002837.txt</td>\n",
       "      <td>1.0</td>\n",
       "      <td>1</td>\n",
       "      <td>[[1, 762, 932, 347, 403], [1, 185, 279, 250, 2...</td>\n",
       "      <td>[[196.0, 193.0, 195.0, 198.0, 198.0, 130.0, 12...</td>\n",
       "      <td>[[134, 69, 30, 175, 13, 66, 54, 40, 172, 132, ...</td>\n",
       "      <td>[[93, 229, 27, 160, 213, 222, 109, 101, 160, 1...</td>\n",
       "      <td>[[0.0, 0.0, 0.0, 0.0, 0.0, 0.0, 0.0, 0.0, 0.0,...</td>\n",
       "      <td>[[0.0, 3.0, 5.0, 1.0, 27.0, 17.0, 4.0, 1.0, 11...</td>\n",
       "      <td>[76.49485, 162.83781, 199.68802]</td>\n",
       "      <td>[73.71675845905325, 67.9637041561294, 36.54168...</td>\n",
       "      <td>[57.57648613303671, -76.54733687916887, -39.21...</td>\n",
       "      <td>[198.84003, 121.79107, 73.20924]</td>\n",
       "      <td>[37.08143059480818, 61.253716609134244, 44.857...</td>\n",
       "      <td>[-39.48401557006493, -23.93970058436079, 51.63...</td>\n",
       "      <td>[139.3022, 170.47731, 90.70788]</td>\n",
       "      <td>[44.41095040800821, 24.43668525078755, 28.1218...</td>\n",
       "      <td>[16.23894911389937, -16.547448131172395, -11.1...</td>\n",
       "    </tr>\n",
       "    <tr>\n",
       "      <th>1</th>\n",
       "      <td>002837.jpg</td>\n",
       "      <td>002837.txt</td>\n",
       "      <td>1.0</td>\n",
       "      <td>2</td>\n",
       "      <td>[[1, 762, 932, 347, 403], [1, 185, 279, 250, 2...</td>\n",
       "      <td>[[152.0, 164.0, 176.0, 172.0, 172.0, 165.0, 12...</td>\n",
       "      <td>[[144, 87, 14, 189, 8, 82, 28, 44, 164, 158, 1...</td>\n",
       "      <td>[[40, 167, 150, 102, 237, 51, 196, 125, 192, 1...</td>\n",
       "      <td>[[0.0, 0.0, 0.0, 0.0, 0.0, 0.0, 0.0, 0.0, 0.0,...</td>\n",
       "      <td>[[0.0, 0.0, 3.0, 106.0, 105.0, 0.0, 0.0, 0.0, ...</td>\n",
       "      <td>[40.56497, 197.80472, 210.7956]</td>\n",
       "      <td>[57.559782849082325, 31.79085828997581, 22.491...</td>\n",
       "      <td>[71.3215894160669, -42.95040131194688, -17.588...</td>\n",
       "      <td>[210.75038, 127.91793, 50.036854]</td>\n",
       "      <td>[22.539858309705632, 58.977960290125125, 28.36...</td>\n",
       "      <td>[-17.60054075561355, -47.06080125467377, 34.17...</td>\n",
       "      <td>[143.80016, 175.76558, 75.07599]</td>\n",
       "      <td>[41.70912118770129, 16.936906444048496, 22.190...</td>\n",
       "      <td>[-32.93018669798095, 10.61953639316704, 16.722...</td>\n",
       "    </tr>\n",
       "  </tbody>\n",
       "</table>\n",
       "</div>"
      ],
      "text/plain": [
       "     img_file   bbox_file  label  bbox_num  \\\n",
       "0  002837.jpg  002837.txt    1.0         1   \n",
       "1  002837.jpg  002837.txt    1.0         2   \n",
       "\n",
       "                                        bbox_corners  \\\n",
       "0  [[1, 762, 932, 347, 403], [1, 185, 279, 250, 2...   \n",
       "1  [[1, 762, 932, 347, 403], [1, 185, 279, 250, 2...   \n",
       "\n",
       "                                      simple_feature  \\\n",
       "0  [[196.0, 193.0, 195.0, 198.0, 198.0, 130.0, 12...   \n",
       "1  [[152.0, 164.0, 176.0, 172.0, 172.0, 165.0, 12...   \n",
       "\n",
       "                                  harris_orb_feature  \\\n",
       "0  [[134, 69, 30, 175, 13, 66, 54, 40, 172, 132, ...   \n",
       "1  [[144, 87, 14, 189, 8, 82, 28, 44, 164, 158, 1...   \n",
       "\n",
       "                                      orb_kp_feature  \\\n",
       "0  [[93, 229, 27, 160, 213, 222, 109, 101, 160, 1...   \n",
       "1  [[40, 167, 150, 102, 237, 51, 196, 125, 192, 1...   \n",
       "\n",
       "                                 harris_sift_feature  \\\n",
       "0  [[0.0, 0.0, 0.0, 0.0, 0.0, 0.0, 0.0, 0.0, 0.0,...   \n",
       "1  [[0.0, 0.0, 0.0, 0.0, 0.0, 0.0, 0.0, 0.0, 0.0,...   \n",
       "\n",
       "                                     sift_kp_feature  \\\n",
       "0  [[0.0, 3.0, 5.0, 1.0, 27.0, 17.0, 4.0, 1.0, 11...   \n",
       "1  [[0.0, 0.0, 3.0, 106.0, 105.0, 0.0, 0.0, 0.0, ...   \n",
       "\n",
       "                           cm_hsv_0  \\\n",
       "0  [76.49485, 162.83781, 199.68802]   \n",
       "1   [40.56497, 197.80472, 210.7956]   \n",
       "\n",
       "                                            cm_hsv_2  \\\n",
       "0  [73.71675845905325, 67.9637041561294, 36.54168...   \n",
       "1  [57.559782849082325, 31.79085828997581, 22.491...   \n",
       "\n",
       "                                            cm_hsv_3  \\\n",
       "0  [57.57648613303671, -76.54733687916887, -39.21...   \n",
       "1  [71.3215894160669, -42.95040131194688, -17.588...   \n",
       "\n",
       "                            cm_rgb_0  \\\n",
       "0   [198.84003, 121.79107, 73.20924]   \n",
       "1  [210.75038, 127.91793, 50.036854]   \n",
       "\n",
       "                                            cm_rgb_2  \\\n",
       "0  [37.08143059480818, 61.253716609134244, 44.857...   \n",
       "1  [22.539858309705632, 58.977960290125125, 28.36...   \n",
       "\n",
       "                                            cm_rgb_3  \\\n",
       "0  [-39.48401557006493, -23.93970058436079, 51.63...   \n",
       "1  [-17.60054075561355, -47.06080125467377, 34.17...   \n",
       "\n",
       "                         cm_ycrcb_0  \\\n",
       "0   [139.3022, 170.47731, 90.70788]   \n",
       "1  [143.80016, 175.76558, 75.07599]   \n",
       "\n",
       "                                          cm_ycrcb_2  \\\n",
       "0  [44.41095040800821, 24.43668525078755, 28.1218...   \n",
       "1  [41.70912118770129, 16.936906444048496, 22.190...   \n",
       "\n",
       "                                          cm_ycrcb_3  \n",
       "0  [16.23894911389937, -16.547448131172395, -11.1...  \n",
       "1  [-32.93018669798095, 10.61953639316704, 16.722...  "
      ]
     },
     "execution_count": 3,
     "metadata": {},
     "output_type": "execute_result"
    }
   ],
   "source": [
    "df = pd.read_pickle(base_dir+'data/feature_sets/feature_set_v110822.csv')\n",
    "df = pd.concat([df, df, df, df, df, df, df, df, df], axis=0) # <----- increase size temporarily so each class is represented\n",
    "print(f\"Num Bboxes: {len(df)}\")\n",
    "df.head(2)"
   ]
  },
  {
   "cell_type": "code",
   "execution_count": 4,
   "metadata": {},
   "outputs": [
    {
     "data": {
      "text/html": [
       "<div>\n",
       "<style scoped>\n",
       "    .dataframe tbody tr th:only-of-type {\n",
       "        vertical-align: middle;\n",
       "    }\n",
       "\n",
       "    .dataframe tbody tr th {\n",
       "        vertical-align: top;\n",
       "    }\n",
       "\n",
       "    .dataframe thead th {\n",
       "        text-align: right;\n",
       "    }\n",
       "</style>\n",
       "<table border=\"1\" class=\"dataframe\">\n",
       "  <thead>\n",
       "    <tr style=\"text-align: right;\">\n",
       "      <th></th>\n",
       "      <th>img_file</th>\n",
       "      <th>bbox_file</th>\n",
       "      <th>label</th>\n",
       "      <th>bbox_num</th>\n",
       "      <th>bbox_corners</th>\n",
       "      <th>simple_feature</th>\n",
       "      <th>harris_orb_feature</th>\n",
       "      <th>orb_kp_feature</th>\n",
       "      <th>harris_sift_feature</th>\n",
       "      <th>sift_kp_feature</th>\n",
       "      <th>cm_hsv_0</th>\n",
       "      <th>cm_hsv_2</th>\n",
       "      <th>cm_hsv_3</th>\n",
       "      <th>cm_rgb_0</th>\n",
       "      <th>cm_rgb_2</th>\n",
       "      <th>cm_rgb_3</th>\n",
       "      <th>cm_ycrcb_0</th>\n",
       "      <th>cm_ycrcb_2</th>\n",
       "      <th>cm_ycrcb_3</th>\n",
       "      <th>features</th>\n",
       "    </tr>\n",
       "  </thead>\n",
       "  <tbody>\n",
       "    <tr>\n",
       "      <th>0</th>\n",
       "      <td>002837.jpg</td>\n",
       "      <td>002837.txt</td>\n",
       "      <td>1.0</td>\n",
       "      <td>1</td>\n",
       "      <td>[[1, 762, 932, 347, 403], [1, 185, 279, 250, 2...</td>\n",
       "      <td>[[196.0, 193.0, 195.0, 198.0, 198.0, 130.0, 12...</td>\n",
       "      <td>[[134, 69, 30, 175, 13, 66, 54, 40, 172, 132, ...</td>\n",
       "      <td>[[93, 229, 27, 160, 213, 222, 109, 101, 160, 1...</td>\n",
       "      <td>[[0.0, 0.0, 0.0, 0.0, 0.0, 0.0, 0.0, 0.0, 0.0,...</td>\n",
       "      <td>[[0.0, 3.0, 5.0, 1.0, 27.0, 17.0, 4.0, 1.0, 11...</td>\n",
       "      <td>[76.49485, 162.83781, 199.68802]</td>\n",
       "      <td>[73.71675845905325, 67.9637041561294, 36.54168...</td>\n",
       "      <td>[57.57648613303671, -76.54733687916887, -39.21...</td>\n",
       "      <td>[198.84003, 121.79107, 73.20924]</td>\n",
       "      <td>[37.08143059480818, 61.253716609134244, 44.857...</td>\n",
       "      <td>[-39.48401557006493, -23.93970058436079, 51.63...</td>\n",
       "      <td>[139.3022, 170.47731, 90.70788]</td>\n",
       "      <td>[44.41095040800821, 24.43668525078755, 28.1218...</td>\n",
       "      <td>[16.23894911389937, -16.547448131172395, -11.1...</td>\n",
       "      <td>[76.49485, 162.83781, 199.68802, 73.7167584590...</td>\n",
       "    </tr>\n",
       "    <tr>\n",
       "      <th>1</th>\n",
       "      <td>002837.jpg</td>\n",
       "      <td>002837.txt</td>\n",
       "      <td>1.0</td>\n",
       "      <td>2</td>\n",
       "      <td>[[1, 762, 932, 347, 403], [1, 185, 279, 250, 2...</td>\n",
       "      <td>[[152.0, 164.0, 176.0, 172.0, 172.0, 165.0, 12...</td>\n",
       "      <td>[[144, 87, 14, 189, 8, 82, 28, 44, 164, 158, 1...</td>\n",
       "      <td>[[40, 167, 150, 102, 237, 51, 196, 125, 192, 1...</td>\n",
       "      <td>[[0.0, 0.0, 0.0, 0.0, 0.0, 0.0, 0.0, 0.0, 0.0,...</td>\n",
       "      <td>[[0.0, 0.0, 3.0, 106.0, 105.0, 0.0, 0.0, 0.0, ...</td>\n",
       "      <td>[40.56497, 197.80472, 210.7956]</td>\n",
       "      <td>[57.559782849082325, 31.79085828997581, 22.491...</td>\n",
       "      <td>[71.3215894160669, -42.95040131194688, -17.588...</td>\n",
       "      <td>[210.75038, 127.91793, 50.036854]</td>\n",
       "      <td>[22.539858309705632, 58.977960290125125, 28.36...</td>\n",
       "      <td>[-17.60054075561355, -47.06080125467377, 34.17...</td>\n",
       "      <td>[143.80016, 175.76558, 75.07599]</td>\n",
       "      <td>[41.70912118770129, 16.936906444048496, 22.190...</td>\n",
       "      <td>[-32.93018669798095, 10.61953639316704, 16.722...</td>\n",
       "      <td>[40.56497, 197.80472, 210.7956, 57.55978284908...</td>\n",
       "    </tr>\n",
       "    <tr>\n",
       "      <th>2</th>\n",
       "      <td>002837.jpg</td>\n",
       "      <td>002837.txt</td>\n",
       "      <td>1.0</td>\n",
       "      <td>3</td>\n",
       "      <td>[[1, 762, 932, 347, 403], [1, 185, 279, 250, 2...</td>\n",
       "      <td>[[173.0, 175.0, 179.0, 181.0, 180.0, 177.0, 16...</td>\n",
       "      <td>[[148, 18, 62, 161, 162, 90, 146, 0, 44, 173, ...</td>\n",
       "      <td>[[97, 41, 121, 68, 100, 217, 101, 39, 105, 64,...</td>\n",
       "      <td>[[0.0, 0.0, 0.0, 0.0, 0.0, 0.0, 0.0, 0.0, 0.0,...</td>\n",
       "      <td>[[0.0, 0.0, 8.0, 82.0, 129.0, 1.0, 0.0, 1.0, 3...</td>\n",
       "      <td>[74.71514, 185.4809, 187.13329]</td>\n",
       "      <td>[75.35372550845354, 14.159383823225301, 33.018...</td>\n",
       "      <td>[62.24148576695548, 12.54813329495731, -12.359...</td>\n",
       "      <td>[187.13329, 112.9801, 57.11966]</td>\n",
       "      <td>[33.01873372893843, 59.98636333986114, 13.5509...</td>\n",
       "      <td>[-12.359833569820141, -23.849289930128954, -10...</td>\n",
       "      <td>[128.76869, 169.66412, 87.51522]</td>\n",
       "      <td>[44.67886867883496, 8.721935190194534, 27.7669...</td>\n",
       "      <td>[-16.772304345523, 4.030293608057289, 10.95970...</td>\n",
       "      <td>[74.71514, 185.4809, 187.13329, 75.35372550845...</td>\n",
       "    </tr>\n",
       "    <tr>\n",
       "      <th>3</th>\n",
       "      <td>002837.jpg</td>\n",
       "      <td>002837.txt</td>\n",
       "      <td>1.0</td>\n",
       "      <td>4</td>\n",
       "      <td>[[1, 762, 932, 347, 403], [1, 185, 279, 250, 2...</td>\n",
       "      <td>[[0.0, 0.0, 0.0, 0.0, 0.0, 0.0, 0.0, 0.0, 0.0,...</td>\n",
       "      <td>[[221, 201, 194, 100, 98, 224, 82, 83, 51, 212...</td>\n",
       "      <td>None</td>\n",
       "      <td>[[0.0, 0.0, 0.0, 0.0, 0.0, 0.0, 0.0, 0.0, 0.0,...</td>\n",
       "      <td>None</td>\n",
       "      <td>[13.805555, 164.52083, 214.80556]</td>\n",
       "      <td>[5.6288909724959995, 11.316144287159105, 14.71...</td>\n",
       "      <td>[-2.758756208887799, 7.932613003426183, -12.59...</td>\n",
       "      <td>[214.80556, 141.17361, 76.791664]</td>\n",
       "      <td>[14.713126120811868, 32.85222169493596, 13.805...</td>\n",
       "      <td>[-12.595696747937655, -19.500441157819047, -9....</td>\n",
       "      <td>[155.82639, 170.07639, 83.395836]</td>\n",
       "      <td>[23.92590700159091, 9.20679086712624, 10.32743...</td>\n",
       "      <td>[-17.145156899783824, -1.5324069146049777, 1.8...</td>\n",
       "      <td>[13.805555, 164.52083, 214.80556, 5.6288909724...</td>\n",
       "    </tr>\n",
       "    <tr>\n",
       "      <th>4</th>\n",
       "      <td>002836.jpg</td>\n",
       "      <td>002836.txt</td>\n",
       "      <td>1.0</td>\n",
       "      <td>1</td>\n",
       "      <td>[[1, 751, 773, 304, 310], [1, 827, 849, 297, 3...</td>\n",
       "      <td>[[0.0, 0.0, 0.0, 0.0, 0.0, 0.0, 0.0, 0.0, 0.0,...</td>\n",
       "      <td>[[40, 10, 135, 68, 193, 150, 130, 48, 144, 172...</td>\n",
       "      <td>None</td>\n",
       "      <td>[[0.0, 0.0, 0.0, 0.0, 0.0, 0.0, 0.0, 0.0, 0.0,...</td>\n",
       "      <td>None</td>\n",
       "      <td>[83.51515, 26.060606, 165.59091]</td>\n",
       "      <td>[33.98584483604119, 16.03866402761779, 55.5224...</td>\n",
       "      <td>[-29.66964127611604, 16.138206485285544, -44.6...</td>\n",
       "      <td>[155.7197, 160.34091, 160.35606]</td>\n",
       "      <td>[50.60816714450697, 51.48813184012101, 62.4849...</td>\n",
       "      <td>[-40.12239568816436, -41.86260314284869, -51.3...</td>\n",
       "      <td>[158.98485, 125.69697, 128.72728]</td>\n",
       "      <td>[52.41833256231456, 2.27282828058429, 6.207389...</td>\n",
       "      <td>[-42.37529191000863, -1.6605741283684736, -5.5...</td>\n",
       "      <td>[83.51515, 26.060606, 165.59091, 33.9858448360...</td>\n",
       "    </tr>\n",
       "  </tbody>\n",
       "</table>\n",
       "</div>"
      ],
      "text/plain": [
       "     img_file   bbox_file  label  bbox_num  \\\n",
       "0  002837.jpg  002837.txt    1.0         1   \n",
       "1  002837.jpg  002837.txt    1.0         2   \n",
       "2  002837.jpg  002837.txt    1.0         3   \n",
       "3  002837.jpg  002837.txt    1.0         4   \n",
       "4  002836.jpg  002836.txt    1.0         1   \n",
       "\n",
       "                                        bbox_corners  \\\n",
       "0  [[1, 762, 932, 347, 403], [1, 185, 279, 250, 2...   \n",
       "1  [[1, 762, 932, 347, 403], [1, 185, 279, 250, 2...   \n",
       "2  [[1, 762, 932, 347, 403], [1, 185, 279, 250, 2...   \n",
       "3  [[1, 762, 932, 347, 403], [1, 185, 279, 250, 2...   \n",
       "4  [[1, 751, 773, 304, 310], [1, 827, 849, 297, 3...   \n",
       "\n",
       "                                      simple_feature  \\\n",
       "0  [[196.0, 193.0, 195.0, 198.0, 198.0, 130.0, 12...   \n",
       "1  [[152.0, 164.0, 176.0, 172.0, 172.0, 165.0, 12...   \n",
       "2  [[173.0, 175.0, 179.0, 181.0, 180.0, 177.0, 16...   \n",
       "3  [[0.0, 0.0, 0.0, 0.0, 0.0, 0.0, 0.0, 0.0, 0.0,...   \n",
       "4  [[0.0, 0.0, 0.0, 0.0, 0.0, 0.0, 0.0, 0.0, 0.0,...   \n",
       "\n",
       "                                  harris_orb_feature  \\\n",
       "0  [[134, 69, 30, 175, 13, 66, 54, 40, 172, 132, ...   \n",
       "1  [[144, 87, 14, 189, 8, 82, 28, 44, 164, 158, 1...   \n",
       "2  [[148, 18, 62, 161, 162, 90, 146, 0, 44, 173, ...   \n",
       "3  [[221, 201, 194, 100, 98, 224, 82, 83, 51, 212...   \n",
       "4  [[40, 10, 135, 68, 193, 150, 130, 48, 144, 172...   \n",
       "\n",
       "                                      orb_kp_feature  \\\n",
       "0  [[93, 229, 27, 160, 213, 222, 109, 101, 160, 1...   \n",
       "1  [[40, 167, 150, 102, 237, 51, 196, 125, 192, 1...   \n",
       "2  [[97, 41, 121, 68, 100, 217, 101, 39, 105, 64,...   \n",
       "3                                               None   \n",
       "4                                               None   \n",
       "\n",
       "                                 harris_sift_feature  \\\n",
       "0  [[0.0, 0.0, 0.0, 0.0, 0.0, 0.0, 0.0, 0.0, 0.0,...   \n",
       "1  [[0.0, 0.0, 0.0, 0.0, 0.0, 0.0, 0.0, 0.0, 0.0,...   \n",
       "2  [[0.0, 0.0, 0.0, 0.0, 0.0, 0.0, 0.0, 0.0, 0.0,...   \n",
       "3  [[0.0, 0.0, 0.0, 0.0, 0.0, 0.0, 0.0, 0.0, 0.0,...   \n",
       "4  [[0.0, 0.0, 0.0, 0.0, 0.0, 0.0, 0.0, 0.0, 0.0,...   \n",
       "\n",
       "                                     sift_kp_feature  \\\n",
       "0  [[0.0, 3.0, 5.0, 1.0, 27.0, 17.0, 4.0, 1.0, 11...   \n",
       "1  [[0.0, 0.0, 3.0, 106.0, 105.0, 0.0, 0.0, 0.0, ...   \n",
       "2  [[0.0, 0.0, 8.0, 82.0, 129.0, 1.0, 0.0, 1.0, 3...   \n",
       "3                                               None   \n",
       "4                                               None   \n",
       "\n",
       "                            cm_hsv_0  \\\n",
       "0   [76.49485, 162.83781, 199.68802]   \n",
       "1    [40.56497, 197.80472, 210.7956]   \n",
       "2    [74.71514, 185.4809, 187.13329]   \n",
       "3  [13.805555, 164.52083, 214.80556]   \n",
       "4   [83.51515, 26.060606, 165.59091]   \n",
       "\n",
       "                                            cm_hsv_2  \\\n",
       "0  [73.71675845905325, 67.9637041561294, 36.54168...   \n",
       "1  [57.559782849082325, 31.79085828997581, 22.491...   \n",
       "2  [75.35372550845354, 14.159383823225301, 33.018...   \n",
       "3  [5.6288909724959995, 11.316144287159105, 14.71...   \n",
       "4  [33.98584483604119, 16.03866402761779, 55.5224...   \n",
       "\n",
       "                                            cm_hsv_3  \\\n",
       "0  [57.57648613303671, -76.54733687916887, -39.21...   \n",
       "1  [71.3215894160669, -42.95040131194688, -17.588...   \n",
       "2  [62.24148576695548, 12.54813329495731, -12.359...   \n",
       "3  [-2.758756208887799, 7.932613003426183, -12.59...   \n",
       "4  [-29.66964127611604, 16.138206485285544, -44.6...   \n",
       "\n",
       "                            cm_rgb_0  \\\n",
       "0   [198.84003, 121.79107, 73.20924]   \n",
       "1  [210.75038, 127.91793, 50.036854]   \n",
       "2    [187.13329, 112.9801, 57.11966]   \n",
       "3  [214.80556, 141.17361, 76.791664]   \n",
       "4   [155.7197, 160.34091, 160.35606]   \n",
       "\n",
       "                                            cm_rgb_2  \\\n",
       "0  [37.08143059480818, 61.253716609134244, 44.857...   \n",
       "1  [22.539858309705632, 58.977960290125125, 28.36...   \n",
       "2  [33.01873372893843, 59.98636333986114, 13.5509...   \n",
       "3  [14.713126120811868, 32.85222169493596, 13.805...   \n",
       "4  [50.60816714450697, 51.48813184012101, 62.4849...   \n",
       "\n",
       "                                            cm_rgb_3  \\\n",
       "0  [-39.48401557006493, -23.93970058436079, 51.63...   \n",
       "1  [-17.60054075561355, -47.06080125467377, 34.17...   \n",
       "2  [-12.359833569820141, -23.849289930128954, -10...   \n",
       "3  [-12.595696747937655, -19.500441157819047, -9....   \n",
       "4  [-40.12239568816436, -41.86260314284869, -51.3...   \n",
       "\n",
       "                          cm_ycrcb_0  \\\n",
       "0    [139.3022, 170.47731, 90.70788]   \n",
       "1   [143.80016, 175.76558, 75.07599]   \n",
       "2   [128.76869, 169.66412, 87.51522]   \n",
       "3  [155.82639, 170.07639, 83.395836]   \n",
       "4  [158.98485, 125.69697, 128.72728]   \n",
       "\n",
       "                                          cm_ycrcb_2  \\\n",
       "0  [44.41095040800821, 24.43668525078755, 28.1218...   \n",
       "1  [41.70912118770129, 16.936906444048496, 22.190...   \n",
       "2  [44.67886867883496, 8.721935190194534, 27.7669...   \n",
       "3  [23.92590700159091, 9.20679086712624, 10.32743...   \n",
       "4  [52.41833256231456, 2.27282828058429, 6.207389...   \n",
       "\n",
       "                                          cm_ycrcb_3  \\\n",
       "0  [16.23894911389937, -16.547448131172395, -11.1...   \n",
       "1  [-32.93018669798095, 10.61953639316704, 16.722...   \n",
       "2  [-16.772304345523, 4.030293608057289, 10.95970...   \n",
       "3  [-17.145156899783824, -1.5324069146049777, 1.8...   \n",
       "4  [-42.37529191000863, -1.6605741283684736, -5.5...   \n",
       "\n",
       "                                            features  \n",
       "0  [76.49485, 162.83781, 199.68802, 73.7167584590...  \n",
       "1  [40.56497, 197.80472, 210.7956, 57.55978284908...  \n",
       "2  [74.71514, 185.4809, 187.13329, 75.35372550845...  \n",
       "3  [13.805555, 164.52083, 214.80556, 5.6288909724...  \n",
       "4  [83.51515, 26.060606, 165.59091, 33.9858448360...  "
      ]
     },
     "execution_count": 4,
     "metadata": {},
     "output_type": "execute_result"
    }
   ],
   "source": [
    "# Parse df\n",
    "feature_cols = ['cm_hsv_0', 'cm_hsv_2', 'cm_hsv_3', 'cm_rgb_0', 'cm_rgb_2', 'cm_rgb_3',\n",
    "                'cm_ycrcb_0','cm_ycrcb_2', 'cm_ycrcb_3']\n",
    "\n",
    "# Combine each feature vector into 1-D array\n",
    "feature_vals = []\n",
    "for idx, row in df.iterrows():\n",
    "    vals = []\n",
    "    for col in feature_cols:\n",
    "            vals.extend(list(row[col]))\n",
    "    feature_vals.append(vals)\n",
    "df['features'] = feature_vals\n",
    "\n",
    "df.head()\n"
   ]
  },
  {
   "cell_type": "code",
   "execution_count": 5,
   "metadata": {},
   "outputs": [],
   "source": [
    "# Isolate the Color Moment Features\n",
    "cm_Y = df[['img_file', 'bbox_num', 'label']].copy()\n",
    "\n",
    "# Split (temp until split directories determined)\n",
    "X_train, X_test, y_train, y_test = train_test_split(feature_vals, cm_Y, test_size=0.3, random_state=42, stratify=cm_Y['label'], shuffle=True)\n",
    "y_test.reset_index(level=0, inplace=True)\n",
    "\n",
    "# Save labels as vector\n",
    "labels = y_test['label']"
   ]
  },
  {
   "cell_type": "code",
   "execution_count": 6,
   "metadata": {},
   "outputs": [
    {
     "name": "stdout",
     "output_type": "stream",
     "text": [
      "['dhl' 'apple' 'cocacola' 'fedex' 'heineken' 'pepsi' 'starbucks' 'ups']\n"
     ]
    }
   ],
   "source": [
    "# Map in label brand names\n",
    "class_map= { 0 : 'adidas', 1 : 'dhl', 2 : 'apple', 3 : 'bmw', 4 : 'cocacola', 5 : 'fedex', 6 : 'heineken', 7 : 'pepsi', 8 : 'starbucks', 9 : 'ups'}\n",
    "y_test['label_name'] = y_test[\"label\"].replace(class_map)\n",
    "y_test.sort_values('label', ascending=True, inplace=True)\n",
    "class_names = y_test['label_name'].unique()\n",
    "print(class_names)"
   ]
  },
  {
   "cell_type": "code",
   "execution_count": 7,
   "metadata": {},
   "outputs": [
    {
     "data": {
      "text/plain": [
       "dict_values(['adidas', 'dhl', 'apple', 'bmw', 'cocacola', 'fedex', 'heineken', 'pepsi', 'starbucks', 'ups'])"
      ]
     },
     "execution_count": 7,
     "metadata": {},
     "output_type": "execute_result"
    }
   ],
   "source": [
    "class_map.values()\n"
   ]
  },
  {
   "cell_type": "markdown",
   "metadata": {},
   "source": [
    "# **Modeling**"
   ]
  },
  {
   "cell_type": "markdown",
   "metadata": {},
   "source": [
    "## Model 1: K Nearest-Neighbors"
   ]
  },
  {
   "cell_type": "markdown",
   "metadata": {},
   "source": [
    "### Fit"
   ]
  },
  {
   "cell_type": "code",
   "execution_count": 8,
   "metadata": {},
   "outputs": [
    {
     "data": {
      "text/html": [
       "<style>#sk-container-id-1 {color: black;background-color: white;}#sk-container-id-1 pre{padding: 0;}#sk-container-id-1 div.sk-toggleable {background-color: white;}#sk-container-id-1 label.sk-toggleable__label {cursor: pointer;display: block;width: 100%;margin-bottom: 0;padding: 0.3em;box-sizing: border-box;text-align: center;}#sk-container-id-1 label.sk-toggleable__label-arrow:before {content: \"▸\";float: left;margin-right: 0.25em;color: #696969;}#sk-container-id-1 label.sk-toggleable__label-arrow:hover:before {color: black;}#sk-container-id-1 div.sk-estimator:hover label.sk-toggleable__label-arrow:before {color: black;}#sk-container-id-1 div.sk-toggleable__content {max-height: 0;max-width: 0;overflow: hidden;text-align: left;background-color: #f0f8ff;}#sk-container-id-1 div.sk-toggleable__content pre {margin: 0.2em;color: black;border-radius: 0.25em;background-color: #f0f8ff;}#sk-container-id-1 input.sk-toggleable__control:checked~div.sk-toggleable__content {max-height: 200px;max-width: 100%;overflow: auto;}#sk-container-id-1 input.sk-toggleable__control:checked~label.sk-toggleable__label-arrow:before {content: \"▾\";}#sk-container-id-1 div.sk-estimator input.sk-toggleable__control:checked~label.sk-toggleable__label {background-color: #d4ebff;}#sk-container-id-1 div.sk-label input.sk-toggleable__control:checked~label.sk-toggleable__label {background-color: #d4ebff;}#sk-container-id-1 input.sk-hidden--visually {border: 0;clip: rect(1px 1px 1px 1px);clip: rect(1px, 1px, 1px, 1px);height: 1px;margin: -1px;overflow: hidden;padding: 0;position: absolute;width: 1px;}#sk-container-id-1 div.sk-estimator {font-family: monospace;background-color: #f0f8ff;border: 1px dotted black;border-radius: 0.25em;box-sizing: border-box;margin-bottom: 0.5em;}#sk-container-id-1 div.sk-estimator:hover {background-color: #d4ebff;}#sk-container-id-1 div.sk-parallel-item::after {content: \"\";width: 100%;border-bottom: 1px solid gray;flex-grow: 1;}#sk-container-id-1 div.sk-label:hover label.sk-toggleable__label {background-color: #d4ebff;}#sk-container-id-1 div.sk-serial::before {content: \"\";position: absolute;border-left: 1px solid gray;box-sizing: border-box;top: 0;bottom: 0;left: 50%;z-index: 0;}#sk-container-id-1 div.sk-serial {display: flex;flex-direction: column;align-items: center;background-color: white;padding-right: 0.2em;padding-left: 0.2em;position: relative;}#sk-container-id-1 div.sk-item {position: relative;z-index: 1;}#sk-container-id-1 div.sk-parallel {display: flex;align-items: stretch;justify-content: center;background-color: white;position: relative;}#sk-container-id-1 div.sk-item::before, #sk-container-id-1 div.sk-parallel-item::before {content: \"\";position: absolute;border-left: 1px solid gray;box-sizing: border-box;top: 0;bottom: 0;left: 50%;z-index: -1;}#sk-container-id-1 div.sk-parallel-item {display: flex;flex-direction: column;z-index: 1;position: relative;background-color: white;}#sk-container-id-1 div.sk-parallel-item:first-child::after {align-self: flex-end;width: 50%;}#sk-container-id-1 div.sk-parallel-item:last-child::after {align-self: flex-start;width: 50%;}#sk-container-id-1 div.sk-parallel-item:only-child::after {width: 0;}#sk-container-id-1 div.sk-dashed-wrapped {border: 1px dashed gray;margin: 0 0.4em 0.5em 0.4em;box-sizing: border-box;padding-bottom: 0.4em;background-color: white;}#sk-container-id-1 div.sk-label label {font-family: monospace;font-weight: bold;display: inline-block;line-height: 1.2em;}#sk-container-id-1 div.sk-label-container {text-align: center;}#sk-container-id-1 div.sk-container {/* jupyter's `normalize.less` sets `[hidden] { display: none; }` but bootstrap.min.css set `[hidden] { display: none !important; }` so we also need the `!important` here to be able to override the default hidden behavior on the sphinx rendered scikit-learn.org. See: https://github.com/scikit-learn/scikit-learn/issues/21755 */display: inline-block !important;position: relative;}#sk-container-id-1 div.sk-text-repr-fallback {display: none;}</style><div id=\"sk-container-id-1\" class=\"sk-top-container\"><div class=\"sk-text-repr-fallback\"><pre>KNeighborsClassifier()</pre><b>In a Jupyter environment, please rerun this cell to show the HTML representation or trust the notebook. <br />On GitHub, the HTML representation is unable to render, please try loading this page with nbviewer.org.</b></div><div class=\"sk-container\" hidden><div class=\"sk-item\"><div class=\"sk-estimator sk-toggleable\"><input class=\"sk-toggleable__control sk-hidden--visually\" id=\"sk-estimator-id-1\" type=\"checkbox\" checked><label for=\"sk-estimator-id-1\" class=\"sk-toggleable__label sk-toggleable__label-arrow\">KNeighborsClassifier</label><div class=\"sk-toggleable__content\"><pre>KNeighborsClassifier()</pre></div></div></div></div></div>"
      ],
      "text/plain": [
       "KNeighborsClassifier()"
      ]
     },
     "execution_count": 8,
     "metadata": {},
     "output_type": "execute_result"
    }
   ],
   "source": [
    "neigh = KNeighborsClassifier(n_neighbors=5)\n",
    "neigh.fit(X_train, y_train['label'].values)"
   ]
  },
  {
   "cell_type": "markdown",
   "metadata": {},
   "source": [
    "### Evaluate Test Set"
   ]
  },
  {
   "cell_type": "code",
   "execution_count": 9,
   "metadata": {},
   "outputs": [],
   "source": [
    "# Generate preds\n",
    "preds = neigh.predict(X_test)\n",
    "y_proba = neigh.predict_proba(X_test)\n",
    "y_test['pred'] = preds\n",
    "y_test['pred_name'] = y_test[\"pred\"].replace(class_map)"
   ]
  },
  {
   "cell_type": "code",
   "execution_count": 10,
   "metadata": {},
   "outputs": [
    {
     "name": "stdout",
     "output_type": "stream",
     "text": [
      "              precision    recall  f1-score   support\n",
      "\n",
      "         dhl       1.00      0.98      0.99       780\n",
      "       apple       1.00      1.00      1.00         3\n",
      "    cocacola       1.00      1.00      1.00       130\n",
      "       fedex       0.99      0.98      0.99       921\n",
      "    heineken       0.97      0.99      0.98       521\n",
      "       pepsi       0.98      0.99      0.98       964\n",
      "   starbucks       0.99      1.00      0.99       553\n",
      "         ups       0.98      0.99      0.98       559\n",
      "\n",
      "    accuracy                           0.99      4431\n",
      "   macro avg       0.99      0.99      0.99      4431\n",
      "weighted avg       0.99      0.99      0.99      4431\n",
      "\n"
     ]
    }
   ],
   "source": [
    "# Classification Report\n",
    "print(classification_report(labels, preds, target_names=class_names))\n",
    "#y_test.groupby(['label_name'])['index'].count() #<--- check counts"
   ]
  },
  {
   "cell_type": "code",
   "execution_count": 11,
   "metadata": {},
   "outputs": [
    {
     "data": {
      "image/png": "[encoded data removed]",
      "text/plain": [
       "<Figure size 720x504 with 2 Axes>"
      ]
     },
     "metadata": {
      "needs_background": "light"
     },
     "output_type": "display_data"
    }
   ],
   "source": [
    "# Confusion Matrix\n",
    "cm = confusion_matrix(labels, preds)\n",
    "\n",
    "fig, ax = plt.subplots(1, 1, figsize=(10, 7))\n",
    "sns.heatmap(cm, annot=True, fmt='g', ax=ax);  #annot=True to annotate cells, ftm='g' to disable scientific notation\n",
    "ax.set_xlabel('Predicted labels');ax.set_ylabel('True labels'); \n",
    "ax.set_title('Confusion Matrix')\n",
    "ax.set_xticklabels(class_names, rotation=45, ha='right')\n",
    "ax.set_yticklabels(class_names, rotation=0, ha='right')\n",
    "plt.show()"
   ]
  },
  {
   "cell_type": "code",
   "execution_count": 12,
   "metadata": {},
   "outputs": [],
   "source": [
    "# # ROC Curves: One vs Rest for each class <--- currently errors bc not all classes in each set, try later w final df\n",
    "# roc_ovr_all(y_test, y_proba, class_map, figsize=(40, 8))"
   ]
  },
  {
   "cell_type": "markdown",
   "metadata": {},
   "source": [
    "## Model 2: SVM"
   ]
  },
  {
   "cell_type": "markdown",
   "metadata": {},
   "source": [
    "### Fit"
   ]
  },
  {
   "cell_type": "code",
   "execution_count": 13,
   "metadata": {},
   "outputs": [
    {
     "name": "stdout",
     "output_type": "stream",
     "text": [
      "SVC best score on Train set: 0.2925\n"
     ]
    }
   ],
   "source": [
    "# Instantiate linear SVC\n",
    "lsvc = LinearSVC(penalty='l2', dual=False, multi_class = 'ovr', max_iter = 5000, C = 0.22, class_weight='balanced')\n",
    "\n",
    "# Fit the training histograms and predict with SVC on training data itself\n",
    "lsvc.fit(X_train, y_train['label'].values)\n",
    "\n",
    "y_train_score = lsvc.score(X_train, y_train['label'].values)\n",
    "print(\"SVC best score on Train set: {:.4f}\".format(y_train_score))"
   ]
  },
  {
   "cell_type": "markdown",
   "metadata": {},
   "source": [
    "### Evaluate"
   ]
  },
  {
   "cell_type": "code",
   "execution_count": 14,
   "metadata": {},
   "outputs": [],
   "source": [
    "# Generate preds\n",
    "lsvc_preds = lsvc.predict(X_test)\n",
    "y_test['lsvc_pred'] = lsvc_preds\n",
    "y_test['lsvc_pred_name'] = y_test[\"lsvc_pred\"].replace(class_map)"
   ]
  },
  {
   "cell_type": "code",
   "execution_count": 15,
   "metadata": {},
   "outputs": [
    {
     "name": "stdout",
     "output_type": "stream",
     "text": [
      "              precision    recall  f1-score   support\n",
      "\n",
      "         dhl       0.31      0.36      0.34       780\n",
      "       apple       1.00      1.00      1.00         3\n",
      "    cocacola       0.08      0.43      0.14       130\n",
      "       fedex       0.36      0.25      0.30       921\n",
      "    heineken       0.31      0.40      0.35       521\n",
      "       pepsi       0.30      0.19      0.23       964\n",
      "   starbucks       0.19      0.10      0.13       553\n",
      "         ups       0.28      0.32      0.30       559\n",
      "\n",
      "    accuracy                           0.27      4431\n",
      "   macro avg       0.35      0.38      0.35      4431\n",
      "weighted avg       0.29      0.27      0.27      4431\n",
      "\n"
     ]
    }
   ],
   "source": [
    "# Classification Report\n",
    "print(classification_report(labels, lsvc_preds, target_names=class_names))"
   ]
  },
  {
   "cell_type": "code",
   "execution_count": 16,
   "metadata": {},
   "outputs": [
    {
     "data": {
      "image/png": "[encoded data removed]",
      "text/plain": [
       "<Figure size 720x504 with 2 Axes>"
      ]
     },
     "metadata": {
      "needs_background": "light"
     },
     "output_type": "display_data"
    }
   ],
   "source": [
    "# Confusion Matrix\n",
    "cm = confusion_matrix(labels, lsvc_preds)\n",
    "\n",
    "fig, ax = plt.subplots(1, 1, figsize=(10, 7))\n",
    "sns.heatmap(cm, annot=True, fmt='g', ax=ax);  #annot=True to annotate cells, ftm='g' to disable scientific notation\n",
    "ax.set_xlabel('Predicted labels');ax.set_ylabel('True labels'); \n",
    "ax.set_title('Confusion Matrix')\n",
    "ax.set_xticklabels(class_names, rotation=45, ha='right')\n",
    "ax.set_yticklabels(class_names, rotation=0, ha='right')\n",
    "plt.show()"
   ]
  },
  {
   "cell_type": "code",
   "execution_count": 17,
   "metadata": {},
   "outputs": [],
   "source": [
    "# Can't do ROC bc no probabilities,right?"
   ]
  },
  {
   "cell_type": "code",
   "execution_count": null,
   "metadata": {},
   "outputs": [],
   "source": []
  },
  {
   "cell_type": "markdown",
   "metadata": {},
   "source": [
    "## Model 3: Log Regression"
   ]
  },
  {
   "cell_type": "code",
   "execution_count": 18,
   "metadata": {},
   "outputs": [],
   "source": [
    "from sklearn.model_selection import cross_val_score\n",
    "from sklearn.model_selection import RepeatedStratifiedKFold\n",
    "from sklearn.linear_model import LogisticRegression"
   ]
  },
  {
   "cell_type": "markdown",
   "metadata": {},
   "source": [
    "### Fit"
   ]
  },
  {
   "cell_type": "code",
   "execution_count": 23,
   "metadata": {},
   "outputs": [
    {
     "name": "stderr",
     "output_type": "stream",
     "text": [
      "/Users/jetcalz07/opt/miniconda3/envs/w281/lib/python3.10/site-packages/sklearn/linear_model/_logistic.py:444: ConvergenceWarning: lbfgs failed to converge (status=1):\n",
      "STOP: TOTAL NO. of ITERATIONS REACHED LIMIT.\n",
      "\n",
      "Increase the number of iterations (max_iter) or scale the data as shown in:\n",
      "    https://scikit-learn.org/stable/modules/preprocessing.html\n",
      "Please also refer to the documentation for alternative solver options:\n",
      "    https://scikit-learn.org/stable/modules/linear_model.html#logistic-regression\n",
      "  n_iter_i = _check_optimize_result(\n"
     ]
    },
    {
     "data": {
      "text/html": [
       "<style>#sk-container-id-2 {color: black;background-color: white;}#sk-container-id-2 pre{padding: 0;}#sk-container-id-2 div.sk-toggleable {background-color: white;}#sk-container-id-2 label.sk-toggleable__label {cursor: pointer;display: block;width: 100%;margin-bottom: 0;padding: 0.3em;box-sizing: border-box;text-align: center;}#sk-container-id-2 label.sk-toggleable__label-arrow:before {content: \"▸\";float: left;margin-right: 0.25em;color: #696969;}#sk-container-id-2 label.sk-toggleable__label-arrow:hover:before {color: black;}#sk-container-id-2 div.sk-estimator:hover label.sk-toggleable__label-arrow:before {color: black;}#sk-container-id-2 div.sk-toggleable__content {max-height: 0;max-width: 0;overflow: hidden;text-align: left;background-color: #f0f8ff;}#sk-container-id-2 div.sk-toggleable__content pre {margin: 0.2em;color: black;border-radius: 0.25em;background-color: #f0f8ff;}#sk-container-id-2 input.sk-toggleable__control:checked~div.sk-toggleable__content {max-height: 200px;max-width: 100%;overflow: auto;}#sk-container-id-2 input.sk-toggleable__control:checked~label.sk-toggleable__label-arrow:before {content: \"▾\";}#sk-container-id-2 div.sk-estimator input.sk-toggleable__control:checked~label.sk-toggleable__label {background-color: #d4ebff;}#sk-container-id-2 div.sk-label input.sk-toggleable__control:checked~label.sk-toggleable__label {background-color: #d4ebff;}#sk-container-id-2 input.sk-hidden--visually {border: 0;clip: rect(1px 1px 1px 1px);clip: rect(1px, 1px, 1px, 1px);height: 1px;margin: -1px;overflow: hidden;padding: 0;position: absolute;width: 1px;}#sk-container-id-2 div.sk-estimator {font-family: monospace;background-color: #f0f8ff;border: 1px dotted black;border-radius: 0.25em;box-sizing: border-box;margin-bottom: 0.5em;}#sk-container-id-2 div.sk-estimator:hover {background-color: #d4ebff;}#sk-container-id-2 div.sk-parallel-item::after {content: \"\";width: 100%;border-bottom: 1px solid gray;flex-grow: 1;}#sk-container-id-2 div.sk-label:hover label.sk-toggleable__label {background-color: #d4ebff;}#sk-container-id-2 div.sk-serial::before {content: \"\";position: absolute;border-left: 1px solid gray;box-sizing: border-box;top: 0;bottom: 0;left: 50%;z-index: 0;}#sk-container-id-2 div.sk-serial {display: flex;flex-direction: column;align-items: center;background-color: white;padding-right: 0.2em;padding-left: 0.2em;position: relative;}#sk-container-id-2 div.sk-item {position: relative;z-index: 1;}#sk-container-id-2 div.sk-parallel {display: flex;align-items: stretch;justify-content: center;background-color: white;position: relative;}#sk-container-id-2 div.sk-item::before, #sk-container-id-2 div.sk-parallel-item::before {content: \"\";position: absolute;border-left: 1px solid gray;box-sizing: border-box;top: 0;bottom: 0;left: 50%;z-index: -1;}#sk-container-id-2 div.sk-parallel-item {display: flex;flex-direction: column;z-index: 1;position: relative;background-color: white;}#sk-container-id-2 div.sk-parallel-item:first-child::after {align-self: flex-end;width: 50%;}#sk-container-id-2 div.sk-parallel-item:last-child::after {align-self: flex-start;width: 50%;}#sk-container-id-2 div.sk-parallel-item:only-child::after {width: 0;}#sk-container-id-2 div.sk-dashed-wrapped {border: 1px dashed gray;margin: 0 0.4em 0.5em 0.4em;box-sizing: border-box;padding-bottom: 0.4em;background-color: white;}#sk-container-id-2 div.sk-label label {font-family: monospace;font-weight: bold;display: inline-block;line-height: 1.2em;}#sk-container-id-2 div.sk-label-container {text-align: center;}#sk-container-id-2 div.sk-container {/* jupyter's `normalize.less` sets `[hidden] { display: none; }` but bootstrap.min.css set `[hidden] { display: none !important; }` so we also need the `!important` here to be able to override the default hidden behavior on the sphinx rendered scikit-learn.org. See: https://github.com/scikit-learn/scikit-learn/issues/21755 */display: inline-block !important;position: relative;}#sk-container-id-2 div.sk-text-repr-fallback {display: none;}</style><div id=\"sk-container-id-2\" class=\"sk-top-container\"><div class=\"sk-text-repr-fallback\"><pre>LogisticRegression(multi_class=&#x27;multinomial&#x27;)</pre><b>In a Jupyter environment, please rerun this cell to show the HTML representation or trust the notebook. <br />On GitHub, the HTML representation is unable to render, please try loading this page with nbviewer.org.</b></div><div class=\"sk-container\" hidden><div class=\"sk-item\"><div class=\"sk-estimator sk-toggleable\"><input class=\"sk-toggleable__control sk-hidden--visually\" id=\"sk-estimator-id-2\" type=\"checkbox\" checked><label for=\"sk-estimator-id-2\" class=\"sk-toggleable__label sk-toggleable__label-arrow\">LogisticRegression</label><div class=\"sk-toggleable__content\"><pre>LogisticRegression(multi_class=&#x27;multinomial&#x27;)</pre></div></div></div></div></div>"
      ],
      "text/plain": [
       "LogisticRegression(multi_class='multinomial')"
      ]
     },
     "execution_count": 23,
     "metadata": {},
     "output_type": "execute_result"
    }
   ],
   "source": [
    "# define the multinomial logistic regression model\n",
    "logreg = LogisticRegression(multi_class='multinomial', solver='lbfgs')\n",
    "\n",
    "# # define the model evaluation procedure\n",
    "# cv = RepeatedStratifiedKFold(n_splits=3, n_repeats=3, random_state=1)\n",
    "# n_scores = cross_val_score(logreg, X_train, y_train['label'].values, scoring='accuracy', cv=cv, n_jobs=-1)\n",
    "# # report the model performance\n",
    "# print('Mean Accuracy: %.3f (%.3f)' % (np.mean(n_scores), np.std(n_scores)))\n",
    "\n",
    "logreg.fit(X_train, y_train['label'].values)"
   ]
  },
  {
   "cell_type": "code",
   "execution_count": 20,
   "metadata": {},
   "outputs": [],
   "source": [
    "# # Instantiate logistic regression models\n",
    "# logovr = OneVsRestClassifier(LogisticRegression(max_iter=1000))\n",
    "# # Fit the training histograms and predict with Logistic regression on training data itself \n",
    "# logovr.fit(X_train, y_train['label'].values)\n",
    "# lr_y_train_pred = logovr.predict(X_train)\n",
    "# print('LR Classifier best score on Train set: {:.4f}'.format(accuracy_score(y_train['label'].values, lr_y_train_pred)))"
   ]
  },
  {
   "cell_type": "markdown",
   "metadata": {},
   "source": [
    "### Evaluate Log Reg"
   ]
  },
  {
   "cell_type": "code",
   "execution_count": 25,
   "metadata": {},
   "outputs": [],
   "source": [
    "# Generate preds\n",
    "lr_preds = logreg.predict(X_test)\n",
    "y_test['lr_pred'] = lr_preds\n",
    "y_test['lr_pred_name'] = y_test[\"lr_pred\"].replace(class_map)"
   ]
  },
  {
   "cell_type": "code",
   "execution_count": 26,
   "metadata": {},
   "outputs": [
    {
     "name": "stdout",
     "output_type": "stream",
     "text": [
      "              precision    recall  f1-score   support\n",
      "\n",
      "         dhl       0.27      0.18      0.22       780\n",
      "       apple       0.00      0.00      0.00         3\n",
      "    cocacola       0.00      0.00      0.00       130\n",
      "       fedex       0.36      0.39      0.37       921\n",
      "    heineken       0.34      0.37      0.36       521\n",
      "       pepsi       0.28      0.52      0.36       964\n",
      "   starbucks       0.26      0.13      0.17       553\n",
      "         ups       0.32      0.17      0.23       559\n",
      "\n",
      "    accuracy                           0.31      4431\n",
      "   macro avg       0.23      0.22      0.21      4431\n",
      "weighted avg       0.30      0.31      0.29      4431\n",
      "\n"
     ]
    },
    {
     "name": "stderr",
     "output_type": "stream",
     "text": [
      "/Users/jetcalz07/opt/miniconda3/envs/w281/lib/python3.10/site-packages/sklearn/metrics/_classification.py:1334: UndefinedMetricWarning: Precision and F-score are ill-defined and being set to 0.0 in labels with no predicted samples. Use `zero_division` parameter to control this behavior.\n",
      "  _warn_prf(average, modifier, msg_start, len(result))\n",
      "/Users/jetcalz07/opt/miniconda3/envs/w281/lib/python3.10/site-packages/sklearn/metrics/_classification.py:1334: UndefinedMetricWarning: Precision and F-score are ill-defined and being set to 0.0 in labels with no predicted samples. Use `zero_division` parameter to control this behavior.\n",
      "  _warn_prf(average, modifier, msg_start, len(result))\n",
      "/Users/jetcalz07/opt/miniconda3/envs/w281/lib/python3.10/site-packages/sklearn/metrics/_classification.py:1334: UndefinedMetricWarning: Precision and F-score are ill-defined and being set to 0.0 in labels with no predicted samples. Use `zero_division` parameter to control this behavior.\n",
      "  _warn_prf(average, modifier, msg_start, len(result))\n"
     ]
    }
   ],
   "source": [
    "# Classification Report\n",
    "print(classification_report(labels, lr_preds, target_names=class_names))"
   ]
  },
  {
   "cell_type": "code",
   "execution_count": 27,
   "metadata": {},
   "outputs": [
    {
     "data": {
      "image/png": "[encoded data removed]",
      "text/plain": [
       "<Figure size 720x504 with 2 Axes>"
      ]
     },
     "metadata": {
      "needs_background": "light"
     },
     "output_type": "display_data"
    }
   ],
   "source": [
    "# Confusion Matrix\n",
    "cm = confusion_matrix(labels, lr_preds)\n",
    "\n",
    "fig, ax = plt.subplots(1, 1, figsize=(10, 7))\n",
    "sns.heatmap(cm, annot=True, fmt='g', ax=ax);  #annot=True to annotate cells, ftm='g' to disable scientific notation\n",
    "ax.set_xlabel('Predicted labels');ax.set_ylabel('True labels'); \n",
    "ax.set_title('Confusion Matrix')\n",
    "ax.set_xticklabels(class_names, rotation=45, ha='right')\n",
    "ax.set_yticklabels(class_names, rotation=0, ha='right')\n",
    "plt.show()"
   ]
  },
  {
   "cell_type": "markdown",
   "metadata": {},
   "source": [
    "## DRAFT"
   ]
  },
  {
   "cell_type": "markdown",
   "metadata": {},
   "source": [
    "### Visualize Errors (waiting to finalize pipeline)"
   ]
  },
  {
   "cell_type": "code",
   "execution_count": null,
   "metadata": {},
   "outputs": [],
   "source": [
    "# # We often misclassify type 5 as type 1, lets find an example\n",
    "# error_1_5 = y_test.loc[(y_test['label']==5) & (y_test['pred']==1)].copy()\n",
    "# error_1_5.reset_index(inplace=True)\n",
    "\n",
    "# err = plt.imread(image_dir + error_1_5.loc[0, 'img_file'])\n",
    "# plt.imshow(err)\n",
    "\n",
    "# # To-Do: instead of visualizing image, get the bbox\n",
    "# # TO-DO: Find an example of the 5 class so we can see the similarities"
   ]
  },
  {
   "cell_type": "code",
   "execution_count": null,
   "metadata": {},
   "outputs": [],
   "source": []
  }
 ],
 "metadata": {
  "kernelspec": {
   "display_name": "Python 3.10.0 ('w281')",
   "language": "python",
   "name": "python3"
  },
  "language_info": {
   "codemirror_mode": {
    "name": "ipython",
    "version": 3
   },
   "file_extension": ".py",
   "mimetype": "text/x-python",
   "name": "python",
   "nbconvert_exporter": "python",
   "pygments_lexer": "ipython3",
   "version": "3.10.0"
  },
  "orig_nbformat": 4,
  "vscode": {
   "interpreter": {
    "hash": "7690e95adedd8191f0ce86c5df02585ffc130729bec63a8b5bda66e6900601ad"
   }
  }
 },
 "nbformat": 4,
 "nbformat_minor": 2
}
