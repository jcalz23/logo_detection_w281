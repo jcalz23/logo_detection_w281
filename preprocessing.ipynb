{
  "nbformat": 4,
  "nbformat_minor": 0,
  "metadata": {
    "colab": {
      "provenance": [],
      "machine_shape": "hm",
      "toc_visible": true,
      "collapsed_sections": [
        "QxeTBV1edsZL",
        "53hJWIH_cgJd",
        "kjuYFNsNeNJS",
        "muJ43cirdAkw",
        "_maRVDYbX41s",
        "Z5oDjna3di_l",
        "JoD-fqp9ey9x",
        "5N6gEpvLe2TT",
        "5v8bZlLce53K"
      ]
    },
    "kernelspec": {
      "name": "python3",
      "display_name": "Python 3"
    },
    "language_info": {
      "name": "python"
    },
    "widgets": {
      "application/vnd.jupyter.widget-state+json": {
        "4799d33be5094067b886f8e7646a5724": {
          "model_module": "@jupyter-widgets/controls",
          "model_name": "HBoxModel",
          "model_module_version": "1.5.0",
          "state": {
            "_dom_classes": [],
            "_model_module": "@jupyter-widgets/controls",
            "_model_module_version": "1.5.0",
            "_model_name": "HBoxModel",
            "_view_count": null,
            "_view_module": "@jupyter-widgets/controls",
            "_view_module_version": "1.5.0",
            "_view_name": "HBoxView",
            "box_style": "",
            "children": [
              "IPY_MODEL_c382a8acd672470bacb3231c3a6b400c",
              "IPY_MODEL_9ccb57be49644a638706cdc7f3c80c83",
              "IPY_MODEL_e2964d6ad4ae4db9a22383a48d06b3b1"
            ],
            "layout": "IPY_MODEL_35f281c9787d41b3802e4fc5041fb2d0"
          }
        },
        "c382a8acd672470bacb3231c3a6b400c": {
          "model_module": "@jupyter-widgets/controls",
          "model_name": "HTMLModel",
          "model_module_version": "1.5.0",
          "state": {
            "_dom_classes": [],
            "_model_module": "@jupyter-widgets/controls",
            "_model_module_version": "1.5.0",
            "_model_name": "HTMLModel",
            "_view_count": null,
            "_view_module": "@jupyter-widgets/controls",
            "_view_module_version": "1.5.0",
            "_view_name": "HTMLView",
            "description": "",
            "description_tooltip": null,
            "layout": "IPY_MODEL_43687980190b4e2f8d5b3bffb9675c44",
            "placeholder": "​",
            "style": "IPY_MODEL_42e5a96baa9b4b2391f1c16591eccfe2",
            "value": "100%"
          }
        },
        "9ccb57be49644a638706cdc7f3c80c83": {
          "model_module": "@jupyter-widgets/controls",
          "model_name": "FloatProgressModel",
          "model_module_version": "1.5.0",
          "state": {
            "_dom_classes": [],
            "_model_module": "@jupyter-widgets/controls",
            "_model_module_version": "1.5.0",
            "_model_name": "FloatProgressModel",
            "_view_count": null,
            "_view_module": "@jupyter-widgets/controls",
            "_view_module_version": "1.5.0",
            "_view_name": "ProgressView",
            "bar_style": "success",
            "description": "",
            "description_tooltip": null,
            "layout": "IPY_MODEL_cf9bbf378ce544f68c9e97c5fce469b1",
            "max": 32,
            "min": 0,
            "orientation": "horizontal",
            "style": "IPY_MODEL_71f0ceb1135c4eaa88bff252d9aeb90e",
            "value": 32
          }
        },
        "e2964d6ad4ae4db9a22383a48d06b3b1": {
          "model_module": "@jupyter-widgets/controls",
          "model_name": "HTMLModel",
          "model_module_version": "1.5.0",
          "state": {
            "_dom_classes": [],
            "_model_module": "@jupyter-widgets/controls",
            "_model_module_version": "1.5.0",
            "_model_name": "HTMLModel",
            "_view_count": null,
            "_view_module": "@jupyter-widgets/controls",
            "_view_module_version": "1.5.0",
            "_view_name": "HTMLView",
            "description": "",
            "description_tooltip": null,
            "layout": "IPY_MODEL_3562000c299148fc9f2968a48e87e9a5",
            "placeholder": "​",
            "style": "IPY_MODEL_18d6e224661f4b87958d9efb2975ef99",
            "value": " 32/32 [00:00&lt;00:00, 248.14it/s]"
          }
        },
        "35f281c9787d41b3802e4fc5041fb2d0": {
          "model_module": "@jupyter-widgets/base",
          "model_name": "LayoutModel",
          "model_module_version": "1.2.0",
          "state": {
            "_model_module": "@jupyter-widgets/base",
            "_model_module_version": "1.2.0",
            "_model_name": "LayoutModel",
            "_view_count": null,
            "_view_module": "@jupyter-widgets/base",
            "_view_module_version": "1.2.0",
            "_view_name": "LayoutView",
            "align_content": null,
            "align_items": null,
            "align_self": null,
            "border": null,
            "bottom": null,
            "display": null,
            "flex": null,
            "flex_flow": null,
            "grid_area": null,
            "grid_auto_columns": null,
            "grid_auto_flow": null,
            "grid_auto_rows": null,
            "grid_column": null,
            "grid_gap": null,
            "grid_row": null,
            "grid_template_areas": null,
            "grid_template_columns": null,
            "grid_template_rows": null,
            "height": null,
            "justify_content": null,
            "justify_items": null,
            "left": null,
            "margin": null,
            "max_height": null,
            "max_width": null,
            "min_height": null,
            "min_width": null,
            "object_fit": null,
            "object_position": null,
            "order": null,
            "overflow": null,
            "overflow_x": null,
            "overflow_y": null,
            "padding": null,
            "right": null,
            "top": null,
            "visibility": null,
            "width": null
          }
        },
        "43687980190b4e2f8d5b3bffb9675c44": {
          "model_module": "@jupyter-widgets/base",
          "model_name": "LayoutModel",
          "model_module_version": "1.2.0",
          "state": {
            "_model_module": "@jupyter-widgets/base",
            "_model_module_version": "1.2.0",
            "_model_name": "LayoutModel",
            "_view_count": null,
            "_view_module": "@jupyter-widgets/base",
            "_view_module_version": "1.2.0",
            "_view_name": "LayoutView",
            "align_content": null,
            "align_items": null,
            "align_self": null,
            "border": null,
            "bottom": null,
            "display": null,
            "flex": null,
            "flex_flow": null,
            "grid_area": null,
            "grid_auto_columns": null,
            "grid_auto_flow": null,
            "grid_auto_rows": null,
            "grid_column": null,
            "grid_gap": null,
            "grid_row": null,
            "grid_template_areas": null,
            "grid_template_columns": null,
            "grid_template_rows": null,
            "height": null,
            "justify_content": null,
            "justify_items": null,
            "left": null,
            "margin": null,
            "max_height": null,
            "max_width": null,
            "min_height": null,
            "min_width": null,
            "object_fit": null,
            "object_position": null,
            "order": null,
            "overflow": null,
            "overflow_x": null,
            "overflow_y": null,
            "padding": null,
            "right": null,
            "top": null,
            "visibility": null,
            "width": null
          }
        },
        "42e5a96baa9b4b2391f1c16591eccfe2": {
          "model_module": "@jupyter-widgets/controls",
          "model_name": "DescriptionStyleModel",
          "model_module_version": "1.5.0",
          "state": {
            "_model_module": "@jupyter-widgets/controls",
            "_model_module_version": "1.5.0",
            "_model_name": "DescriptionStyleModel",
            "_view_count": null,
            "_view_module": "@jupyter-widgets/base",
            "_view_module_version": "1.2.0",
            "_view_name": "StyleView",
            "description_width": ""
          }
        },
        "cf9bbf378ce544f68c9e97c5fce469b1": {
          "model_module": "@jupyter-widgets/base",
          "model_name": "LayoutModel",
          "model_module_version": "1.2.0",
          "state": {
            "_model_module": "@jupyter-widgets/base",
            "_model_module_version": "1.2.0",
            "_model_name": "LayoutModel",
            "_view_count": null,
            "_view_module": "@jupyter-widgets/base",
            "_view_module_version": "1.2.0",
            "_view_name": "LayoutView",
            "align_content": null,
            "align_items": null,
            "align_self": null,
            "border": null,
            "bottom": null,
            "display": null,
            "flex": null,
            "flex_flow": null,
            "grid_area": null,
            "grid_auto_columns": null,
            "grid_auto_flow": null,
            "grid_auto_rows": null,
            "grid_column": null,
            "grid_gap": null,
            "grid_row": null,
            "grid_template_areas": null,
            "grid_template_columns": null,
            "grid_template_rows": null,
            "height": null,
            "justify_content": null,
            "justify_items": null,
            "left": null,
            "margin": null,
            "max_height": null,
            "max_width": null,
            "min_height": null,
            "min_width": null,
            "object_fit": null,
            "object_position": null,
            "order": null,
            "overflow": null,
            "overflow_x": null,
            "overflow_y": null,
            "padding": null,
            "right": null,
            "top": null,
            "visibility": null,
            "width": null
          }
        },
        "71f0ceb1135c4eaa88bff252d9aeb90e": {
          "model_module": "@jupyter-widgets/controls",
          "model_name": "ProgressStyleModel",
          "model_module_version": "1.5.0",
          "state": {
            "_model_module": "@jupyter-widgets/controls",
            "_model_module_version": "1.5.0",
            "_model_name": "ProgressStyleModel",
            "_view_count": null,
            "_view_module": "@jupyter-widgets/base",
            "_view_module_version": "1.2.0",
            "_view_name": "StyleView",
            "bar_color": null,
            "description_width": ""
          }
        },
        "3562000c299148fc9f2968a48e87e9a5": {
          "model_module": "@jupyter-widgets/base",
          "model_name": "LayoutModel",
          "model_module_version": "1.2.0",
          "state": {
            "_model_module": "@jupyter-widgets/base",
            "_model_module_version": "1.2.0",
            "_model_name": "LayoutModel",
            "_view_count": null,
            "_view_module": "@jupyter-widgets/base",
            "_view_module_version": "1.2.0",
            "_view_name": "LayoutView",
            "align_content": null,
            "align_items": null,
            "align_self": null,
            "border": null,
            "bottom": null,
            "display": null,
            "flex": null,
            "flex_flow": null,
            "grid_area": null,
            "grid_auto_columns": null,
            "grid_auto_flow": null,
            "grid_auto_rows": null,
            "grid_column": null,
            "grid_gap": null,
            "grid_row": null,
            "grid_template_areas": null,
            "grid_template_columns": null,
            "grid_template_rows": null,
            "height": null,
            "justify_content": null,
            "justify_items": null,
            "left": null,
            "margin": null,
            "max_height": null,
            "max_width": null,
            "min_height": null,
            "min_width": null,
            "object_fit": null,
            "object_position": null,
            "order": null,
            "overflow": null,
            "overflow_x": null,
            "overflow_y": null,
            "padding": null,
            "right": null,
            "top": null,
            "visibility": null,
            "width": null
          }
        },
        "18d6e224661f4b87958d9efb2975ef99": {
          "model_module": "@jupyter-widgets/controls",
          "model_name": "DescriptionStyleModel",
          "model_module_version": "1.5.0",
          "state": {
            "_model_module": "@jupyter-widgets/controls",
            "_model_module_version": "1.5.0",
            "_model_name": "DescriptionStyleModel",
            "_view_count": null,
            "_view_module": "@jupyter-widgets/base",
            "_view_module_version": "1.2.0",
            "_view_name": "StyleView",
            "description_width": ""
          }
        },
        "bdd653061c38410f88cf9146e2f8a266": {
          "model_module": "@jupyter-widgets/controls",
          "model_name": "HBoxModel",
          "model_module_version": "1.5.0",
          "state": {
            "_dom_classes": [],
            "_model_module": "@jupyter-widgets/controls",
            "_model_module_version": "1.5.0",
            "_model_name": "HBoxModel",
            "_view_count": null,
            "_view_module": "@jupyter-widgets/controls",
            "_view_module_version": "1.5.0",
            "_view_name": "HBoxView",
            "box_style": "",
            "children": [
              "IPY_MODEL_b7c10d3e735d4cd2b48e1f558d5b7e78",
              "IPY_MODEL_aacaf69460be4a4aa459354dc7316034",
              "IPY_MODEL_c39098005148447887cf822ab5fb8f04"
            ],
            "layout": "IPY_MODEL_c0c28fc37c324b8b901d575e779ec5af"
          }
        },
        "b7c10d3e735d4cd2b48e1f558d5b7e78": {
          "model_module": "@jupyter-widgets/controls",
          "model_name": "HTMLModel",
          "model_module_version": "1.5.0",
          "state": {
            "_dom_classes": [],
            "_model_module": "@jupyter-widgets/controls",
            "_model_module_version": "1.5.0",
            "_model_name": "HTMLModel",
            "_view_count": null,
            "_view_module": "@jupyter-widgets/controls",
            "_view_module_version": "1.5.0",
            "_view_name": "HTMLView",
            "description": "",
            "description_tooltip": null,
            "layout": "IPY_MODEL_12f54ed0f78f489dab63e3ca70f2e644",
            "placeholder": "​",
            "style": "IPY_MODEL_8bdeda67fce9441eb6655762484b6e1c",
            "value": "100%"
          }
        },
        "aacaf69460be4a4aa459354dc7316034": {
          "model_module": "@jupyter-widgets/controls",
          "model_name": "FloatProgressModel",
          "model_module_version": "1.5.0",
          "state": {
            "_dom_classes": [],
            "_model_module": "@jupyter-widgets/controls",
            "_model_module_version": "1.5.0",
            "_model_name": "FloatProgressModel",
            "_view_count": null,
            "_view_module": "@jupyter-widgets/controls",
            "_view_module_version": "1.5.0",
            "_view_name": "ProgressView",
            "bar_style": "success",
            "description": "",
            "description_tooltip": null,
            "layout": "IPY_MODEL_ff90091f059d467482d9167a2305f363",
            "max": 3068,
            "min": 0,
            "orientation": "horizontal",
            "style": "IPY_MODEL_606673b87e5840fa945a0bda6f813efa",
            "value": 3068
          }
        },
        "c39098005148447887cf822ab5fb8f04": {
          "model_module": "@jupyter-widgets/controls",
          "model_name": "HTMLModel",
          "model_module_version": "1.5.0",
          "state": {
            "_dom_classes": [],
            "_model_module": "@jupyter-widgets/controls",
            "_model_module_version": "1.5.0",
            "_model_name": "HTMLModel",
            "_view_count": null,
            "_view_module": "@jupyter-widgets/controls",
            "_view_module_version": "1.5.0",
            "_view_name": "HTMLView",
            "description": "",
            "description_tooltip": null,
            "layout": "IPY_MODEL_f4fc62cb3c614f698d5e145524ded56b",
            "placeholder": "​",
            "style": "IPY_MODEL_12591dc619954c2e917a5f0a98c924cc",
            "value": " 3068/3068 [02:28&lt;00:00, 15.98it/s]"
          }
        },
        "c0c28fc37c324b8b901d575e779ec5af": {
          "model_module": "@jupyter-widgets/base",
          "model_name": "LayoutModel",
          "model_module_version": "1.2.0",
          "state": {
            "_model_module": "@jupyter-widgets/base",
            "_model_module_version": "1.2.0",
            "_model_name": "LayoutModel",
            "_view_count": null,
            "_view_module": "@jupyter-widgets/base",
            "_view_module_version": "1.2.0",
            "_view_name": "LayoutView",
            "align_content": null,
            "align_items": null,
            "align_self": null,
            "border": null,
            "bottom": null,
            "display": null,
            "flex": null,
            "flex_flow": null,
            "grid_area": null,
            "grid_auto_columns": null,
            "grid_auto_flow": null,
            "grid_auto_rows": null,
            "grid_column": null,
            "grid_gap": null,
            "grid_row": null,
            "grid_template_areas": null,
            "grid_template_columns": null,
            "grid_template_rows": null,
            "height": null,
            "justify_content": null,
            "justify_items": null,
            "left": null,
            "margin": null,
            "max_height": null,
            "max_width": null,
            "min_height": null,
            "min_width": null,
            "object_fit": null,
            "object_position": null,
            "order": null,
            "overflow": null,
            "overflow_x": null,
            "overflow_y": null,
            "padding": null,
            "right": null,
            "top": null,
            "visibility": null,
            "width": null
          }
        },
        "12f54ed0f78f489dab63e3ca70f2e644": {
          "model_module": "@jupyter-widgets/base",
          "model_name": "LayoutModel",
          "model_module_version": "1.2.0",
          "state": {
            "_model_module": "@jupyter-widgets/base",
            "_model_module_version": "1.2.0",
            "_model_name": "LayoutModel",
            "_view_count": null,
            "_view_module": "@jupyter-widgets/base",
            "_view_module_version": "1.2.0",
            "_view_name": "LayoutView",
            "align_content": null,
            "align_items": null,
            "align_self": null,
            "border": null,
            "bottom": null,
            "display": null,
            "flex": null,
            "flex_flow": null,
            "grid_area": null,
            "grid_auto_columns": null,
            "grid_auto_flow": null,
            "grid_auto_rows": null,
            "grid_column": null,
            "grid_gap": null,
            "grid_row": null,
            "grid_template_areas": null,
            "grid_template_columns": null,
            "grid_template_rows": null,
            "height": null,
            "justify_content": null,
            "justify_items": null,
            "left": null,
            "margin": null,
            "max_height": null,
            "max_width": null,
            "min_height": null,
            "min_width": null,
            "object_fit": null,
            "object_position": null,
            "order": null,
            "overflow": null,
            "overflow_x": null,
            "overflow_y": null,
            "padding": null,
            "right": null,
            "top": null,
            "visibility": null,
            "width": null
          }
        },
        "8bdeda67fce9441eb6655762484b6e1c": {
          "model_module": "@jupyter-widgets/controls",
          "model_name": "DescriptionStyleModel",
          "model_module_version": "1.5.0",
          "state": {
            "_model_module": "@jupyter-widgets/controls",
            "_model_module_version": "1.5.0",
            "_model_name": "DescriptionStyleModel",
            "_view_count": null,
            "_view_module": "@jupyter-widgets/base",
            "_view_module_version": "1.2.0",
            "_view_name": "StyleView",
            "description_width": ""
          }
        },
        "ff90091f059d467482d9167a2305f363": {
          "model_module": "@jupyter-widgets/base",
          "model_name": "LayoutModel",
          "model_module_version": "1.2.0",
          "state": {
            "_model_module": "@jupyter-widgets/base",
            "_model_module_version": "1.2.0",
            "_model_name": "LayoutModel",
            "_view_count": null,
            "_view_module": "@jupyter-widgets/base",
            "_view_module_version": "1.2.0",
            "_view_name": "LayoutView",
            "align_content": null,
            "align_items": null,
            "align_self": null,
            "border": null,
            "bottom": null,
            "display": null,
            "flex": null,
            "flex_flow": null,
            "grid_area": null,
            "grid_auto_columns": null,
            "grid_auto_flow": null,
            "grid_auto_rows": null,
            "grid_column": null,
            "grid_gap": null,
            "grid_row": null,
            "grid_template_areas": null,
            "grid_template_columns": null,
            "grid_template_rows": null,
            "height": null,
            "justify_content": null,
            "justify_items": null,
            "left": null,
            "margin": null,
            "max_height": null,
            "max_width": null,
            "min_height": null,
            "min_width": null,
            "object_fit": null,
            "object_position": null,
            "order": null,
            "overflow": null,
            "overflow_x": null,
            "overflow_y": null,
            "padding": null,
            "right": null,
            "top": null,
            "visibility": null,
            "width": null
          }
        },
        "606673b87e5840fa945a0bda6f813efa": {
          "model_module": "@jupyter-widgets/controls",
          "model_name": "ProgressStyleModel",
          "model_module_version": "1.5.0",
          "state": {
            "_model_module": "@jupyter-widgets/controls",
            "_model_module_version": "1.5.0",
            "_model_name": "ProgressStyleModel",
            "_view_count": null,
            "_view_module": "@jupyter-widgets/base",
            "_view_module_version": "1.2.0",
            "_view_name": "StyleView",
            "bar_color": null,
            "description_width": ""
          }
        },
        "f4fc62cb3c614f698d5e145524ded56b": {
          "model_module": "@jupyter-widgets/base",
          "model_name": "LayoutModel",
          "model_module_version": "1.2.0",
          "state": {
            "_model_module": "@jupyter-widgets/base",
            "_model_module_version": "1.2.0",
            "_model_name": "LayoutModel",
            "_view_count": null,
            "_view_module": "@jupyter-widgets/base",
            "_view_module_version": "1.2.0",
            "_view_name": "LayoutView",
            "align_content": null,
            "align_items": null,
            "align_self": null,
            "border": null,
            "bottom": null,
            "display": null,
            "flex": null,
            "flex_flow": null,
            "grid_area": null,
            "grid_auto_columns": null,
            "grid_auto_flow": null,
            "grid_auto_rows": null,
            "grid_column": null,
            "grid_gap": null,
            "grid_row": null,
            "grid_template_areas": null,
            "grid_template_columns": null,
            "grid_template_rows": null,
            "height": null,
            "justify_content": null,
            "justify_items": null,
            "left": null,
            "margin": null,
            "max_height": null,
            "max_width": null,
            "min_height": null,
            "min_width": null,
            "object_fit": null,
            "object_position": null,
            "order": null,
            "overflow": null,
            "overflow_x": null,
            "overflow_y": null,
            "padding": null,
            "right": null,
            "top": null,
            "visibility": null,
            "width": null
          }
        },
        "12591dc619954c2e917a5f0a98c924cc": {
          "model_module": "@jupyter-widgets/controls",
          "model_name": "DescriptionStyleModel",
          "model_module_version": "1.5.0",
          "state": {
            "_model_module": "@jupyter-widgets/controls",
            "_model_module_version": "1.5.0",
            "_model_name": "DescriptionStyleModel",
            "_view_count": null,
            "_view_module": "@jupyter-widgets/base",
            "_view_module_version": "1.2.0",
            "_view_name": "StyleView",
            "description_width": ""
          }
        },
        "4cb10cc2c4e043d89d9ea72513217c0e": {
          "model_module": "@jupyter-widgets/controls",
          "model_name": "HBoxModel",
          "model_module_version": "1.5.0",
          "state": {
            "_dom_classes": [],
            "_model_module": "@jupyter-widgets/controls",
            "_model_module_version": "1.5.0",
            "_model_name": "HBoxModel",
            "_view_count": null,
            "_view_module": "@jupyter-widgets/controls",
            "_view_module_version": "1.5.0",
            "_view_name": "HBoxView",
            "box_style": "",
            "children": [
              "IPY_MODEL_fffc15b5abad4c8d9cad8c3ad93ecdc4",
              "IPY_MODEL_c448ef580b2840278f86e583638af6fd",
              "IPY_MODEL_c9314923a8d24878a37ec905622e4db9"
            ],
            "layout": "IPY_MODEL_7245d903a78a4abc8951120c45663f9e"
          }
        },
        "fffc15b5abad4c8d9cad8c3ad93ecdc4": {
          "model_module": "@jupyter-widgets/controls",
          "model_name": "HTMLModel",
          "model_module_version": "1.5.0",
          "state": {
            "_dom_classes": [],
            "_model_module": "@jupyter-widgets/controls",
            "_model_module_version": "1.5.0",
            "_model_name": "HTMLModel",
            "_view_count": null,
            "_view_module": "@jupyter-widgets/controls",
            "_view_module_version": "1.5.0",
            "_view_name": "HTMLView",
            "description": "",
            "description_tooltip": null,
            "layout": "IPY_MODEL_266f0f58b8e74bca9d06d4d539b5fa30",
            "placeholder": "​",
            "style": "IPY_MODEL_85e407d6b8284c6b8d90984cf09fe52f",
            "value": "100%"
          }
        },
        "c448ef580b2840278f86e583638af6fd": {
          "model_module": "@jupyter-widgets/controls",
          "model_name": "FloatProgressModel",
          "model_module_version": "1.5.0",
          "state": {
            "_dom_classes": [],
            "_model_module": "@jupyter-widgets/controls",
            "_model_module_version": "1.5.0",
            "_model_name": "FloatProgressModel",
            "_view_count": null,
            "_view_module": "@jupyter-widgets/controls",
            "_view_module_version": "1.5.0",
            "_view_name": "ProgressView",
            "bar_style": "success",
            "description": "",
            "description_tooltip": null,
            "layout": "IPY_MODEL_c5064431dda1474e8a2b08a38cd73e39",
            "max": 32,
            "min": 0,
            "orientation": "horizontal",
            "style": "IPY_MODEL_3d046c8664d14828ba5443669d0f3cad",
            "value": 32
          }
        },
        "c9314923a8d24878a37ec905622e4db9": {
          "model_module": "@jupyter-widgets/controls",
          "model_name": "HTMLModel",
          "model_module_version": "1.5.0",
          "state": {
            "_dom_classes": [],
            "_model_module": "@jupyter-widgets/controls",
            "_model_module_version": "1.5.0",
            "_model_name": "HTMLModel",
            "_view_count": null,
            "_view_module": "@jupyter-widgets/controls",
            "_view_module_version": "1.5.0",
            "_view_name": "HTMLView",
            "description": "",
            "description_tooltip": null,
            "layout": "IPY_MODEL_87ec602899ba4b129c72a15bbc35a423",
            "placeholder": "​",
            "style": "IPY_MODEL_0d084b3611c84dd2a08cb8317654d784",
            "value": " 32/32 [01:47&lt;00:00,  4.71s/it]"
          }
        },
        "7245d903a78a4abc8951120c45663f9e": {
          "model_module": "@jupyter-widgets/base",
          "model_name": "LayoutModel",
          "model_module_version": "1.2.0",
          "state": {
            "_model_module": "@jupyter-widgets/base",
            "_model_module_version": "1.2.0",
            "_model_name": "LayoutModel",
            "_view_count": null,
            "_view_module": "@jupyter-widgets/base",
            "_view_module_version": "1.2.0",
            "_view_name": "LayoutView",
            "align_content": null,
            "align_items": null,
            "align_self": null,
            "border": null,
            "bottom": null,
            "display": null,
            "flex": null,
            "flex_flow": null,
            "grid_area": null,
            "grid_auto_columns": null,
            "grid_auto_flow": null,
            "grid_auto_rows": null,
            "grid_column": null,
            "grid_gap": null,
            "grid_row": null,
            "grid_template_areas": null,
            "grid_template_columns": null,
            "grid_template_rows": null,
            "height": null,
            "justify_content": null,
            "justify_items": null,
            "left": null,
            "margin": null,
            "max_height": null,
            "max_width": null,
            "min_height": null,
            "min_width": null,
            "object_fit": null,
            "object_position": null,
            "order": null,
            "overflow": null,
            "overflow_x": null,
            "overflow_y": null,
            "padding": null,
            "right": null,
            "top": null,
            "visibility": null,
            "width": null
          }
        },
        "266f0f58b8e74bca9d06d4d539b5fa30": {
          "model_module": "@jupyter-widgets/base",
          "model_name": "LayoutModel",
          "model_module_version": "1.2.0",
          "state": {
            "_model_module": "@jupyter-widgets/base",
            "_model_module_version": "1.2.0",
            "_model_name": "LayoutModel",
            "_view_count": null,
            "_view_module": "@jupyter-widgets/base",
            "_view_module_version": "1.2.0",
            "_view_name": "LayoutView",
            "align_content": null,
            "align_items": null,
            "align_self": null,
            "border": null,
            "bottom": null,
            "display": null,
            "flex": null,
            "flex_flow": null,
            "grid_area": null,
            "grid_auto_columns": null,
            "grid_auto_flow": null,
            "grid_auto_rows": null,
            "grid_column": null,
            "grid_gap": null,
            "grid_row": null,
            "grid_template_areas": null,
            "grid_template_columns": null,
            "grid_template_rows": null,
            "height": null,
            "justify_content": null,
            "justify_items": null,
            "left": null,
            "margin": null,
            "max_height": null,
            "max_width": null,
            "min_height": null,
            "min_width": null,
            "object_fit": null,
            "object_position": null,
            "order": null,
            "overflow": null,
            "overflow_x": null,
            "overflow_y": null,
            "padding": null,
            "right": null,
            "top": null,
            "visibility": null,
            "width": null
          }
        },
        "85e407d6b8284c6b8d90984cf09fe52f": {
          "model_module": "@jupyter-widgets/controls",
          "model_name": "DescriptionStyleModel",
          "model_module_version": "1.5.0",
          "state": {
            "_model_module": "@jupyter-widgets/controls",
            "_model_module_version": "1.5.0",
            "_model_name": "DescriptionStyleModel",
            "_view_count": null,
            "_view_module": "@jupyter-widgets/base",
            "_view_module_version": "1.2.0",
            "_view_name": "StyleView",
            "description_width": ""
          }
        },
        "c5064431dda1474e8a2b08a38cd73e39": {
          "model_module": "@jupyter-widgets/base",
          "model_name": "LayoutModel",
          "model_module_version": "1.2.0",
          "state": {
            "_model_module": "@jupyter-widgets/base",
            "_model_module_version": "1.2.0",
            "_model_name": "LayoutModel",
            "_view_count": null,
            "_view_module": "@jupyter-widgets/base",
            "_view_module_version": "1.2.0",
            "_view_name": "LayoutView",
            "align_content": null,
            "align_items": null,
            "align_self": null,
            "border": null,
            "bottom": null,
            "display": null,
            "flex": null,
            "flex_flow": null,
            "grid_area": null,
            "grid_auto_columns": null,
            "grid_auto_flow": null,
            "grid_auto_rows": null,
            "grid_column": null,
            "grid_gap": null,
            "grid_row": null,
            "grid_template_areas": null,
            "grid_template_columns": null,
            "grid_template_rows": null,
            "height": null,
            "justify_content": null,
            "justify_items": null,
            "left": null,
            "margin": null,
            "max_height": null,
            "max_width": null,
            "min_height": null,
            "min_width": null,
            "object_fit": null,
            "object_position": null,
            "order": null,
            "overflow": null,
            "overflow_x": null,
            "overflow_y": null,
            "padding": null,
            "right": null,
            "top": null,
            "visibility": null,
            "width": null
          }
        },
        "3d046c8664d14828ba5443669d0f3cad": {
          "model_module": "@jupyter-widgets/controls",
          "model_name": "ProgressStyleModel",
          "model_module_version": "1.5.0",
          "state": {
            "_model_module": "@jupyter-widgets/controls",
            "_model_module_version": "1.5.0",
            "_model_name": "ProgressStyleModel",
            "_view_count": null,
            "_view_module": "@jupyter-widgets/base",
            "_view_module_version": "1.2.0",
            "_view_name": "StyleView",
            "bar_color": null,
            "description_width": ""
          }
        },
        "87ec602899ba4b129c72a15bbc35a423": {
          "model_module": "@jupyter-widgets/base",
          "model_name": "LayoutModel",
          "model_module_version": "1.2.0",
          "state": {
            "_model_module": "@jupyter-widgets/base",
            "_model_module_version": "1.2.0",
            "_model_name": "LayoutModel",
            "_view_count": null,
            "_view_module": "@jupyter-widgets/base",
            "_view_module_version": "1.2.0",
            "_view_name": "LayoutView",
            "align_content": null,
            "align_items": null,
            "align_self": null,
            "border": null,
            "bottom": null,
            "display": null,
            "flex": null,
            "flex_flow": null,
            "grid_area": null,
            "grid_auto_columns": null,
            "grid_auto_flow": null,
            "grid_auto_rows": null,
            "grid_column": null,
            "grid_gap": null,
            "grid_row": null,
            "grid_template_areas": null,
            "grid_template_columns": null,
            "grid_template_rows": null,
            "height": null,
            "justify_content": null,
            "justify_items": null,
            "left": null,
            "margin": null,
            "max_height": null,
            "max_width": null,
            "min_height": null,
            "min_width": null,
            "object_fit": null,
            "object_position": null,
            "order": null,
            "overflow": null,
            "overflow_x": null,
            "overflow_y": null,
            "padding": null,
            "right": null,
            "top": null,
            "visibility": null,
            "width": null
          }
        },
        "0d084b3611c84dd2a08cb8317654d784": {
          "model_module": "@jupyter-widgets/controls",
          "model_name": "DescriptionStyleModel",
          "model_module_version": "1.5.0",
          "state": {
            "_model_module": "@jupyter-widgets/controls",
            "_model_module_version": "1.5.0",
            "_model_name": "DescriptionStyleModel",
            "_view_count": null,
            "_view_module": "@jupyter-widgets/base",
            "_view_module_version": "1.2.0",
            "_view_name": "StyleView",
            "description_width": ""
          }
        },
        "7cf4ae5655024517b074b069217d87e7": {
          "model_module": "@jupyter-widgets/controls",
          "model_name": "HBoxModel",
          "model_module_version": "1.5.0",
          "state": {
            "_dom_classes": [],
            "_model_module": "@jupyter-widgets/controls",
            "_model_module_version": "1.5.0",
            "_model_name": "HBoxModel",
            "_view_count": null,
            "_view_module": "@jupyter-widgets/controls",
            "_view_module_version": "1.5.0",
            "_view_name": "HBoxView",
            "box_style": "",
            "children": [
              "IPY_MODEL_11c7ebac10054f98bad50f747afc0563",
              "IPY_MODEL_67865f2032d64dd9a700df1383ba42cd",
              "IPY_MODEL_b7f7e34027074dd5a11ccf5dc2727c50"
            ],
            "layout": "IPY_MODEL_6088b3fcb15444c497041bb94f1ea541"
          }
        },
        "11c7ebac10054f98bad50f747afc0563": {
          "model_module": "@jupyter-widgets/controls",
          "model_name": "HTMLModel",
          "model_module_version": "1.5.0",
          "state": {
            "_dom_classes": [],
            "_model_module": "@jupyter-widgets/controls",
            "_model_module_version": "1.5.0",
            "_model_name": "HTMLModel",
            "_view_count": null,
            "_view_module": "@jupyter-widgets/controls",
            "_view_module_version": "1.5.0",
            "_view_name": "HTMLView",
            "description": "",
            "description_tooltip": null,
            "layout": "IPY_MODEL_8c4b295ce24049e0b2144ee5da2d7332",
            "placeholder": "​",
            "style": "IPY_MODEL_6ae92baca32446aa9e4ccc86f4637587",
            "value": "100%"
          }
        },
        "67865f2032d64dd9a700df1383ba42cd": {
          "model_module": "@jupyter-widgets/controls",
          "model_name": "FloatProgressModel",
          "model_module_version": "1.5.0",
          "state": {
            "_dom_classes": [],
            "_model_module": "@jupyter-widgets/controls",
            "_model_module_version": "1.5.0",
            "_model_name": "FloatProgressModel",
            "_view_count": null,
            "_view_module": "@jupyter-widgets/controls",
            "_view_module_version": "1.5.0",
            "_view_name": "ProgressView",
            "bar_style": "success",
            "description": "",
            "description_tooltip": null,
            "layout": "IPY_MODEL_a2d6b5a9774f468d83507daf246cb2cb",
            "max": 4598,
            "min": 0,
            "orientation": "horizontal",
            "style": "IPY_MODEL_163761aa72664b6c911c863a9b5a9206",
            "value": 4598
          }
        },
        "b7f7e34027074dd5a11ccf5dc2727c50": {
          "model_module": "@jupyter-widgets/controls",
          "model_name": "HTMLModel",
          "model_module_version": "1.5.0",
          "state": {
            "_dom_classes": [],
            "_model_module": "@jupyter-widgets/controls",
            "_model_module_version": "1.5.0",
            "_model_name": "HTMLModel",
            "_view_count": null,
            "_view_module": "@jupyter-widgets/controls",
            "_view_module_version": "1.5.0",
            "_view_name": "HTMLView",
            "description": "",
            "description_tooltip": null,
            "layout": "IPY_MODEL_fe7531dc9f954ce9ac346ec3681dabdd",
            "placeholder": "​",
            "style": "IPY_MODEL_750b68c12c8a4414868c69514e8a0bda",
            "value": " 4598/4598 [01:27&lt;00:00, 62.04it/s]"
          }
        },
        "6088b3fcb15444c497041bb94f1ea541": {
          "model_module": "@jupyter-widgets/base",
          "model_name": "LayoutModel",
          "model_module_version": "1.2.0",
          "state": {
            "_model_module": "@jupyter-widgets/base",
            "_model_module_version": "1.2.0",
            "_model_name": "LayoutModel",
            "_view_count": null,
            "_view_module": "@jupyter-widgets/base",
            "_view_module_version": "1.2.0",
            "_view_name": "LayoutView",
            "align_content": null,
            "align_items": null,
            "align_self": null,
            "border": null,
            "bottom": null,
            "display": null,
            "flex": null,
            "flex_flow": null,
            "grid_area": null,
            "grid_auto_columns": null,
            "grid_auto_flow": null,
            "grid_auto_rows": null,
            "grid_column": null,
            "grid_gap": null,
            "grid_row": null,
            "grid_template_areas": null,
            "grid_template_columns": null,
            "grid_template_rows": null,
            "height": null,
            "justify_content": null,
            "justify_items": null,
            "left": null,
            "margin": null,
            "max_height": null,
            "max_width": null,
            "min_height": null,
            "min_width": null,
            "object_fit": null,
            "object_position": null,
            "order": null,
            "overflow": null,
            "overflow_x": null,
            "overflow_y": null,
            "padding": null,
            "right": null,
            "top": null,
            "visibility": null,
            "width": null
          }
        },
        "8c4b295ce24049e0b2144ee5da2d7332": {
          "model_module": "@jupyter-widgets/base",
          "model_name": "LayoutModel",
          "model_module_version": "1.2.0",
          "state": {
            "_model_module": "@jupyter-widgets/base",
            "_model_module_version": "1.2.0",
            "_model_name": "LayoutModel",
            "_view_count": null,
            "_view_module": "@jupyter-widgets/base",
            "_view_module_version": "1.2.0",
            "_view_name": "LayoutView",
            "align_content": null,
            "align_items": null,
            "align_self": null,
            "border": null,
            "bottom": null,
            "display": null,
            "flex": null,
            "flex_flow": null,
            "grid_area": null,
            "grid_auto_columns": null,
            "grid_auto_flow": null,
            "grid_auto_rows": null,
            "grid_column": null,
            "grid_gap": null,
            "grid_row": null,
            "grid_template_areas": null,
            "grid_template_columns": null,
            "grid_template_rows": null,
            "height": null,
            "justify_content": null,
            "justify_items": null,
            "left": null,
            "margin": null,
            "max_height": null,
            "max_width": null,
            "min_height": null,
            "min_width": null,
            "object_fit": null,
            "object_position": null,
            "order": null,
            "overflow": null,
            "overflow_x": null,
            "overflow_y": null,
            "padding": null,
            "right": null,
            "top": null,
            "visibility": null,
            "width": null
          }
        },
        "6ae92baca32446aa9e4ccc86f4637587": {
          "model_module": "@jupyter-widgets/controls",
          "model_name": "DescriptionStyleModel",
          "model_module_version": "1.5.0",
          "state": {
            "_model_module": "@jupyter-widgets/controls",
            "_model_module_version": "1.5.0",
            "_model_name": "DescriptionStyleModel",
            "_view_count": null,
            "_view_module": "@jupyter-widgets/base",
            "_view_module_version": "1.2.0",
            "_view_name": "StyleView",
            "description_width": ""
          }
        },
        "a2d6b5a9774f468d83507daf246cb2cb": {
          "model_module": "@jupyter-widgets/base",
          "model_name": "LayoutModel",
          "model_module_version": "1.2.0",
          "state": {
            "_model_module": "@jupyter-widgets/base",
            "_model_module_version": "1.2.0",
            "_model_name": "LayoutModel",
            "_view_count": null,
            "_view_module": "@jupyter-widgets/base",
            "_view_module_version": "1.2.0",
            "_view_name": "LayoutView",
            "align_content": null,
            "align_items": null,
            "align_self": null,
            "border": null,
            "bottom": null,
            "display": null,
            "flex": null,
            "flex_flow": null,
            "grid_area": null,
            "grid_auto_columns": null,
            "grid_auto_flow": null,
            "grid_auto_rows": null,
            "grid_column": null,
            "grid_gap": null,
            "grid_row": null,
            "grid_template_areas": null,
            "grid_template_columns": null,
            "grid_template_rows": null,
            "height": null,
            "justify_content": null,
            "justify_items": null,
            "left": null,
            "margin": null,
            "max_height": null,
            "max_width": null,
            "min_height": null,
            "min_width": null,
            "object_fit": null,
            "object_position": null,
            "order": null,
            "overflow": null,
            "overflow_x": null,
            "overflow_y": null,
            "padding": null,
            "right": null,
            "top": null,
            "visibility": null,
            "width": null
          }
        },
        "163761aa72664b6c911c863a9b5a9206": {
          "model_module": "@jupyter-widgets/controls",
          "model_name": "ProgressStyleModel",
          "model_module_version": "1.5.0",
          "state": {
            "_model_module": "@jupyter-widgets/controls",
            "_model_module_version": "1.5.0",
            "_model_name": "ProgressStyleModel",
            "_view_count": null,
            "_view_module": "@jupyter-widgets/base",
            "_view_module_version": "1.2.0",
            "_view_name": "StyleView",
            "bar_color": null,
            "description_width": ""
          }
        },
        "fe7531dc9f954ce9ac346ec3681dabdd": {
          "model_module": "@jupyter-widgets/base",
          "model_name": "LayoutModel",
          "model_module_version": "1.2.0",
          "state": {
            "_model_module": "@jupyter-widgets/base",
            "_model_module_version": "1.2.0",
            "_model_name": "LayoutModel",
            "_view_count": null,
            "_view_module": "@jupyter-widgets/base",
            "_view_module_version": "1.2.0",
            "_view_name": "LayoutView",
            "align_content": null,
            "align_items": null,
            "align_self": null,
            "border": null,
            "bottom": null,
            "display": null,
            "flex": null,
            "flex_flow": null,
            "grid_area": null,
            "grid_auto_columns": null,
            "grid_auto_flow": null,
            "grid_auto_rows": null,
            "grid_column": null,
            "grid_gap": null,
            "grid_row": null,
            "grid_template_areas": null,
            "grid_template_columns": null,
            "grid_template_rows": null,
            "height": null,
            "justify_content": null,
            "justify_items": null,
            "left": null,
            "margin": null,
            "max_height": null,
            "max_width": null,
            "min_height": null,
            "min_width": null,
            "object_fit": null,
            "object_position": null,
            "order": null,
            "overflow": null,
            "overflow_x": null,
            "overflow_y": null,
            "padding": null,
            "right": null,
            "top": null,
            "visibility": null,
            "width": null
          }
        },
        "750b68c12c8a4414868c69514e8a0bda": {
          "model_module": "@jupyter-widgets/controls",
          "model_name": "DescriptionStyleModel",
          "model_module_version": "1.5.0",
          "state": {
            "_model_module": "@jupyter-widgets/controls",
            "_model_module_version": "1.5.0",
            "_model_name": "DescriptionStyleModel",
            "_view_count": null,
            "_view_module": "@jupyter-widgets/base",
            "_view_module_version": "1.2.0",
            "_view_name": "StyleView",
            "description_width": ""
          }
        },
        "1acfa043d38e48a2a6168758214860d9": {
          "model_module": "@jupyter-widgets/controls",
          "model_name": "HBoxModel",
          "model_module_version": "1.5.0",
          "state": {
            "_dom_classes": [],
            "_model_module": "@jupyter-widgets/controls",
            "_model_module_version": "1.5.0",
            "_model_name": "HBoxModel",
            "_view_count": null,
            "_view_module": "@jupyter-widgets/controls",
            "_view_module_version": "1.5.0",
            "_view_name": "HBoxView",
            "box_style": "",
            "children": [
              "IPY_MODEL_81c93f6ebf8249f6aee394dd2cc15f49",
              "IPY_MODEL_4188f628953d4c979cb57b5276f7f24a",
              "IPY_MODEL_458cf5a306414b36923f26a7c5169041"
            ],
            "layout": "IPY_MODEL_f549be799a534b439dfbba5066cc9f73"
          }
        },
        "81c93f6ebf8249f6aee394dd2cc15f49": {
          "model_module": "@jupyter-widgets/controls",
          "model_name": "HTMLModel",
          "model_module_version": "1.5.0",
          "state": {
            "_dom_classes": [],
            "_model_module": "@jupyter-widgets/controls",
            "_model_module_version": "1.5.0",
            "_model_name": "HTMLModel",
            "_view_count": null,
            "_view_module": "@jupyter-widgets/controls",
            "_view_module_version": "1.5.0",
            "_view_name": "HTMLView",
            "description": "",
            "description_tooltip": null,
            "layout": "IPY_MODEL_722a4b92c55e4da4ac1915ff043b50c0",
            "placeholder": "​",
            "style": "IPY_MODEL_c6691568bdd04ad58b232904b50fe548",
            "value": "100%"
          }
        },
        "4188f628953d4c979cb57b5276f7f24a": {
          "model_module": "@jupyter-widgets/controls",
          "model_name": "FloatProgressModel",
          "model_module_version": "1.5.0",
          "state": {
            "_dom_classes": [],
            "_model_module": "@jupyter-widgets/controls",
            "_model_module_version": "1.5.0",
            "_model_name": "FloatProgressModel",
            "_view_count": null,
            "_view_module": "@jupyter-widgets/controls",
            "_view_module_version": "1.5.0",
            "_view_name": "ProgressView",
            "bar_style": "success",
            "description": "",
            "description_tooltip": null,
            "layout": "IPY_MODEL_c276bc025b224cf1a166170703664be3",
            "max": 4598,
            "min": 0,
            "orientation": "horizontal",
            "style": "IPY_MODEL_685ba40e3acd48b79f4303a48bf71c82",
            "value": 4598
          }
        },
        "458cf5a306414b36923f26a7c5169041": {
          "model_module": "@jupyter-widgets/controls",
          "model_name": "HTMLModel",
          "model_module_version": "1.5.0",
          "state": {
            "_dom_classes": [],
            "_model_module": "@jupyter-widgets/controls",
            "_model_module_version": "1.5.0",
            "_model_name": "HTMLModel",
            "_view_count": null,
            "_view_module": "@jupyter-widgets/controls",
            "_view_module_version": "1.5.0",
            "_view_name": "HTMLView",
            "description": "",
            "description_tooltip": null,
            "layout": "IPY_MODEL_6e83d8d2d95e4f5a92f705104b0b23a8",
            "placeholder": "​",
            "style": "IPY_MODEL_dd294c237a504a539d0995ce13259d24",
            "value": " 4598/4598 [04:01&lt;00:00, 28.32it/s]"
          }
        },
        "f549be799a534b439dfbba5066cc9f73": {
          "model_module": "@jupyter-widgets/base",
          "model_name": "LayoutModel",
          "model_module_version": "1.2.0",
          "state": {
            "_model_module": "@jupyter-widgets/base",
            "_model_module_version": "1.2.0",
            "_model_name": "LayoutModel",
            "_view_count": null,
            "_view_module": "@jupyter-widgets/base",
            "_view_module_version": "1.2.0",
            "_view_name": "LayoutView",
            "align_content": null,
            "align_items": null,
            "align_self": null,
            "border": null,
            "bottom": null,
            "display": null,
            "flex": null,
            "flex_flow": null,
            "grid_area": null,
            "grid_auto_columns": null,
            "grid_auto_flow": null,
            "grid_auto_rows": null,
            "grid_column": null,
            "grid_gap": null,
            "grid_row": null,
            "grid_template_areas": null,
            "grid_template_columns": null,
            "grid_template_rows": null,
            "height": null,
            "justify_content": null,
            "justify_items": null,
            "left": null,
            "margin": null,
            "max_height": null,
            "max_width": null,
            "min_height": null,
            "min_width": null,
            "object_fit": null,
            "object_position": null,
            "order": null,
            "overflow": null,
            "overflow_x": null,
            "overflow_y": null,
            "padding": null,
            "right": null,
            "top": null,
            "visibility": null,
            "width": null
          }
        },
        "722a4b92c55e4da4ac1915ff043b50c0": {
          "model_module": "@jupyter-widgets/base",
          "model_name": "LayoutModel",
          "model_module_version": "1.2.0",
          "state": {
            "_model_module": "@jupyter-widgets/base",
            "_model_module_version": "1.2.0",
            "_model_name": "LayoutModel",
            "_view_count": null,
            "_view_module": "@jupyter-widgets/base",
            "_view_module_version": "1.2.0",
            "_view_name": "LayoutView",
            "align_content": null,
            "align_items": null,
            "align_self": null,
            "border": null,
            "bottom": null,
            "display": null,
            "flex": null,
            "flex_flow": null,
            "grid_area": null,
            "grid_auto_columns": null,
            "grid_auto_flow": null,
            "grid_auto_rows": null,
            "grid_column": null,
            "grid_gap": null,
            "grid_row": null,
            "grid_template_areas": null,
            "grid_template_columns": null,
            "grid_template_rows": null,
            "height": null,
            "justify_content": null,
            "justify_items": null,
            "left": null,
            "margin": null,
            "max_height": null,
            "max_width": null,
            "min_height": null,
            "min_width": null,
            "object_fit": null,
            "object_position": null,
            "order": null,
            "overflow": null,
            "overflow_x": null,
            "overflow_y": null,
            "padding": null,
            "right": null,
            "top": null,
            "visibility": null,
            "width": null
          }
        },
        "c6691568bdd04ad58b232904b50fe548": {
          "model_module": "@jupyter-widgets/controls",
          "model_name": "DescriptionStyleModel",
          "model_module_version": "1.5.0",
          "state": {
            "_model_module": "@jupyter-widgets/controls",
            "_model_module_version": "1.5.0",
            "_model_name": "DescriptionStyleModel",
            "_view_count": null,
            "_view_module": "@jupyter-widgets/base",
            "_view_module_version": "1.2.0",
            "_view_name": "StyleView",
            "description_width": ""
          }
        },
        "c276bc025b224cf1a166170703664be3": {
          "model_module": "@jupyter-widgets/base",
          "model_name": "LayoutModel",
          "model_module_version": "1.2.0",
          "state": {
            "_model_module": "@jupyter-widgets/base",
            "_model_module_version": "1.2.0",
            "_model_name": "LayoutModel",
            "_view_count": null,
            "_view_module": "@jupyter-widgets/base",
            "_view_module_version": "1.2.0",
            "_view_name": "LayoutView",
            "align_content": null,
            "align_items": null,
            "align_self": null,
            "border": null,
            "bottom": null,
            "display": null,
            "flex": null,
            "flex_flow": null,
            "grid_area": null,
            "grid_auto_columns": null,
            "grid_auto_flow": null,
            "grid_auto_rows": null,
            "grid_column": null,
            "grid_gap": null,
            "grid_row": null,
            "grid_template_areas": null,
            "grid_template_columns": null,
            "grid_template_rows": null,
            "height": null,
            "justify_content": null,
            "justify_items": null,
            "left": null,
            "margin": null,
            "max_height": null,
            "max_width": null,
            "min_height": null,
            "min_width": null,
            "object_fit": null,
            "object_position": null,
            "order": null,
            "overflow": null,
            "overflow_x": null,
            "overflow_y": null,
            "padding": null,
            "right": null,
            "top": null,
            "visibility": null,
            "width": null
          }
        },
        "685ba40e3acd48b79f4303a48bf71c82": {
          "model_module": "@jupyter-widgets/controls",
          "model_name": "ProgressStyleModel",
          "model_module_version": "1.5.0",
          "state": {
            "_model_module": "@jupyter-widgets/controls",
            "_model_module_version": "1.5.0",
            "_model_name": "ProgressStyleModel",
            "_view_count": null,
            "_view_module": "@jupyter-widgets/base",
            "_view_module_version": "1.2.0",
            "_view_name": "StyleView",
            "bar_color": null,
            "description_width": ""
          }
        },
        "6e83d8d2d95e4f5a92f705104b0b23a8": {
          "model_module": "@jupyter-widgets/base",
          "model_name": "LayoutModel",
          "model_module_version": "1.2.0",
          "state": {
            "_model_module": "@jupyter-widgets/base",
            "_model_module_version": "1.2.0",
            "_model_name": "LayoutModel",
            "_view_count": null,
            "_view_module": "@jupyter-widgets/base",
            "_view_module_version": "1.2.0",
            "_view_name": "LayoutView",
            "align_content": null,
            "align_items": null,
            "align_self": null,
            "border": null,
            "bottom": null,
            "display": null,
            "flex": null,
            "flex_flow": null,
            "grid_area": null,
            "grid_auto_columns": null,
            "grid_auto_flow": null,
            "grid_auto_rows": null,
            "grid_column": null,
            "grid_gap": null,
            "grid_row": null,
            "grid_template_areas": null,
            "grid_template_columns": null,
            "grid_template_rows": null,
            "height": null,
            "justify_content": null,
            "justify_items": null,
            "left": null,
            "margin": null,
            "max_height": null,
            "max_width": null,
            "min_height": null,
            "min_width": null,
            "object_fit": null,
            "object_position": null,
            "order": null,
            "overflow": null,
            "overflow_x": null,
            "overflow_y": null,
            "padding": null,
            "right": null,
            "top": null,
            "visibility": null,
            "width": null
          }
        },
        "dd294c237a504a539d0995ce13259d24": {
          "model_module": "@jupyter-widgets/controls",
          "model_name": "DescriptionStyleModel",
          "model_module_version": "1.5.0",
          "state": {
            "_model_module": "@jupyter-widgets/controls",
            "_model_module_version": "1.5.0",
            "_model_name": "DescriptionStyleModel",
            "_view_count": null,
            "_view_module": "@jupyter-widgets/base",
            "_view_module_version": "1.2.0",
            "_view_name": "StyleView",
            "description_width": ""
          }
        },
        "f52376f808754066adc8aca52ae8fd08": {
          "model_module": "@jupyter-widgets/controls",
          "model_name": "HBoxModel",
          "model_module_version": "1.5.0",
          "state": {
            "_dom_classes": [],
            "_model_module": "@jupyter-widgets/controls",
            "_model_module_version": "1.5.0",
            "_model_name": "HBoxModel",
            "_view_count": null,
            "_view_module": "@jupyter-widgets/controls",
            "_view_module_version": "1.5.0",
            "_view_name": "HBoxView",
            "box_style": "",
            "children": [
              "IPY_MODEL_e88552fa7bc24694a1ae2e7d655930fa",
              "IPY_MODEL_fc55e79a1e8f4ce3a4f2af1470600ba8",
              "IPY_MODEL_154c3db9347f4b9b842d2a8e1f5b6d23"
            ],
            "layout": "IPY_MODEL_3cf909882d1f4b049190a7d4eb974a3c"
          }
        },
        "e88552fa7bc24694a1ae2e7d655930fa": {
          "model_module": "@jupyter-widgets/controls",
          "model_name": "HTMLModel",
          "model_module_version": "1.5.0",
          "state": {
            "_dom_classes": [],
            "_model_module": "@jupyter-widgets/controls",
            "_model_module_version": "1.5.0",
            "_model_name": "HTMLModel",
            "_view_count": null,
            "_view_module": "@jupyter-widgets/controls",
            "_view_module_version": "1.5.0",
            "_view_name": "HTMLView",
            "description": "",
            "description_tooltip": null,
            "layout": "IPY_MODEL_0ff9b489742c4e4fbd1aeef5849af979",
            "placeholder": "​",
            "style": "IPY_MODEL_8d4e8ba8008c424dbac6a24f090991d3",
            "value": "100%"
          }
        },
        "fc55e79a1e8f4ce3a4f2af1470600ba8": {
          "model_module": "@jupyter-widgets/controls",
          "model_name": "FloatProgressModel",
          "model_module_version": "1.5.0",
          "state": {
            "_dom_classes": [],
            "_model_module": "@jupyter-widgets/controls",
            "_model_module_version": "1.5.0",
            "_model_name": "FloatProgressModel",
            "_view_count": null,
            "_view_module": "@jupyter-widgets/controls",
            "_view_module_version": "1.5.0",
            "_view_name": "ProgressView",
            "bar_style": "success",
            "description": "",
            "description_tooltip": null,
            "layout": "IPY_MODEL_c9ee037996d14664b86e21faf0909153",
            "max": 21671,
            "min": 0,
            "orientation": "horizontal",
            "style": "IPY_MODEL_d1f8bd1896414e5c8b38eef5512b9dcb",
            "value": 21671
          }
        },
        "154c3db9347f4b9b842d2a8e1f5b6d23": {
          "model_module": "@jupyter-widgets/controls",
          "model_name": "HTMLModel",
          "model_module_version": "1.5.0",
          "state": {
            "_dom_classes": [],
            "_model_module": "@jupyter-widgets/controls",
            "_model_module_version": "1.5.0",
            "_model_name": "HTMLModel",
            "_view_count": null,
            "_view_module": "@jupyter-widgets/controls",
            "_view_module_version": "1.5.0",
            "_view_name": "HTMLView",
            "description": "",
            "description_tooltip": null,
            "layout": "IPY_MODEL_c81343b63423422f950341b3244e034d",
            "placeholder": "​",
            "style": "IPY_MODEL_45f8bacf85e845b7b5f84ec6f4a10fec",
            "value": " 21671/21671 [05:04&lt;00:00, 52.77it/s]"
          }
        },
        "3cf909882d1f4b049190a7d4eb974a3c": {
          "model_module": "@jupyter-widgets/base",
          "model_name": "LayoutModel",
          "model_module_version": "1.2.0",
          "state": {
            "_model_module": "@jupyter-widgets/base",
            "_model_module_version": "1.2.0",
            "_model_name": "LayoutModel",
            "_view_count": null,
            "_view_module": "@jupyter-widgets/base",
            "_view_module_version": "1.2.0",
            "_view_name": "LayoutView",
            "align_content": null,
            "align_items": null,
            "align_self": null,
            "border": null,
            "bottom": null,
            "display": null,
            "flex": null,
            "flex_flow": null,
            "grid_area": null,
            "grid_auto_columns": null,
            "grid_auto_flow": null,
            "grid_auto_rows": null,
            "grid_column": null,
            "grid_gap": null,
            "grid_row": null,
            "grid_template_areas": null,
            "grid_template_columns": null,
            "grid_template_rows": null,
            "height": null,
            "justify_content": null,
            "justify_items": null,
            "left": null,
            "margin": null,
            "max_height": null,
            "max_width": null,
            "min_height": null,
            "min_width": null,
            "object_fit": null,
            "object_position": null,
            "order": null,
            "overflow": null,
            "overflow_x": null,
            "overflow_y": null,
            "padding": null,
            "right": null,
            "top": null,
            "visibility": null,
            "width": null
          }
        },
        "0ff9b489742c4e4fbd1aeef5849af979": {
          "model_module": "@jupyter-widgets/base",
          "model_name": "LayoutModel",
          "model_module_version": "1.2.0",
          "state": {
            "_model_module": "@jupyter-widgets/base",
            "_model_module_version": "1.2.0",
            "_model_name": "LayoutModel",
            "_view_count": null,
            "_view_module": "@jupyter-widgets/base",
            "_view_module_version": "1.2.0",
            "_view_name": "LayoutView",
            "align_content": null,
            "align_items": null,
            "align_self": null,
            "border": null,
            "bottom": null,
            "display": null,
            "flex": null,
            "flex_flow": null,
            "grid_area": null,
            "grid_auto_columns": null,
            "grid_auto_flow": null,
            "grid_auto_rows": null,
            "grid_column": null,
            "grid_gap": null,
            "grid_row": null,
            "grid_template_areas": null,
            "grid_template_columns": null,
            "grid_template_rows": null,
            "height": null,
            "justify_content": null,
            "justify_items": null,
            "left": null,
            "margin": null,
            "max_height": null,
            "max_width": null,
            "min_height": null,
            "min_width": null,
            "object_fit": null,
            "object_position": null,
            "order": null,
            "overflow": null,
            "overflow_x": null,
            "overflow_y": null,
            "padding": null,
            "right": null,
            "top": null,
            "visibility": null,
            "width": null
          }
        },
        "8d4e8ba8008c424dbac6a24f090991d3": {
          "model_module": "@jupyter-widgets/controls",
          "model_name": "DescriptionStyleModel",
          "model_module_version": "1.5.0",
          "state": {
            "_model_module": "@jupyter-widgets/controls",
            "_model_module_version": "1.5.0",
            "_model_name": "DescriptionStyleModel",
            "_view_count": null,
            "_view_module": "@jupyter-widgets/base",
            "_view_module_version": "1.2.0",
            "_view_name": "StyleView",
            "description_width": ""
          }
        },
        "c9ee037996d14664b86e21faf0909153": {
          "model_module": "@jupyter-widgets/base",
          "model_name": "LayoutModel",
          "model_module_version": "1.2.0",
          "state": {
            "_model_module": "@jupyter-widgets/base",
            "_model_module_version": "1.2.0",
            "_model_name": "LayoutModel",
            "_view_count": null,
            "_view_module": "@jupyter-widgets/base",
            "_view_module_version": "1.2.0",
            "_view_name": "LayoutView",
            "align_content": null,
            "align_items": null,
            "align_self": null,
            "border": null,
            "bottom": null,
            "display": null,
            "flex": null,
            "flex_flow": null,
            "grid_area": null,
            "grid_auto_columns": null,
            "grid_auto_flow": null,
            "grid_auto_rows": null,
            "grid_column": null,
            "grid_gap": null,
            "grid_row": null,
            "grid_template_areas": null,
            "grid_template_columns": null,
            "grid_template_rows": null,
            "height": null,
            "justify_content": null,
            "justify_items": null,
            "left": null,
            "margin": null,
            "max_height": null,
            "max_width": null,
            "min_height": null,
            "min_width": null,
            "object_fit": null,
            "object_position": null,
            "order": null,
            "overflow": null,
            "overflow_x": null,
            "overflow_y": null,
            "padding": null,
            "right": null,
            "top": null,
            "visibility": null,
            "width": null
          }
        },
        "d1f8bd1896414e5c8b38eef5512b9dcb": {
          "model_module": "@jupyter-widgets/controls",
          "model_name": "ProgressStyleModel",
          "model_module_version": "1.5.0",
          "state": {
            "_model_module": "@jupyter-widgets/controls",
            "_model_module_version": "1.5.0",
            "_model_name": "ProgressStyleModel",
            "_view_count": null,
            "_view_module": "@jupyter-widgets/base",
            "_view_module_version": "1.2.0",
            "_view_name": "StyleView",
            "bar_color": null,
            "description_width": ""
          }
        },
        "c81343b63423422f950341b3244e034d": {
          "model_module": "@jupyter-widgets/base",
          "model_name": "LayoutModel",
          "model_module_version": "1.2.0",
          "state": {
            "_model_module": "@jupyter-widgets/base",
            "_model_module_version": "1.2.0",
            "_model_name": "LayoutModel",
            "_view_count": null,
            "_view_module": "@jupyter-widgets/base",
            "_view_module_version": "1.2.0",
            "_view_name": "LayoutView",
            "align_content": null,
            "align_items": null,
            "align_self": null,
            "border": null,
            "bottom": null,
            "display": null,
            "flex": null,
            "flex_flow": null,
            "grid_area": null,
            "grid_auto_columns": null,
            "grid_auto_flow": null,
            "grid_auto_rows": null,
            "grid_column": null,
            "grid_gap": null,
            "grid_row": null,
            "grid_template_areas": null,
            "grid_template_columns": null,
            "grid_template_rows": null,
            "height": null,
            "justify_content": null,
            "justify_items": null,
            "left": null,
            "margin": null,
            "max_height": null,
            "max_width": null,
            "min_height": null,
            "min_width": null,
            "object_fit": null,
            "object_position": null,
            "order": null,
            "overflow": null,
            "overflow_x": null,
            "overflow_y": null,
            "padding": null,
            "right": null,
            "top": null,
            "visibility": null,
            "width": null
          }
        },
        "45f8bacf85e845b7b5f84ec6f4a10fec": {
          "model_module": "@jupyter-widgets/controls",
          "model_name": "DescriptionStyleModel",
          "model_module_version": "1.5.0",
          "state": {
            "_model_module": "@jupyter-widgets/controls",
            "_model_module_version": "1.5.0",
            "_model_name": "DescriptionStyleModel",
            "_view_count": null,
            "_view_module": "@jupyter-widgets/base",
            "_view_module_version": "1.2.0",
            "_view_name": "StyleView",
            "description_width": ""
          }
        }
      }
    },
    "gpuClass": "standard"
  },
  "cells": [
    {
      "cell_type": "markdown",
      "source": [
        "# Setup"
      ],
      "metadata": {
        "id": "QxeTBV1edsZL"
      }
    },
    {
      "cell_type": "markdown",
      "source": [
        "## Config"
      ],
      "metadata": {
        "id": "53hJWIH_cgJd"
      }
    },
    {
      "cell_type": "code",
      "source": [
        "# to mount w281FinalProjectLogo - you can go to Drive > Shared with me > Add Shortcut to drive\n",
        "from google.colab import drive\n",
        "drive.mount('/content/drive', force_remount=False)"
      ],
      "metadata": {
        "id": "i8VveiB6ZXVO",
        "outputId": "2fa799aa-e8be-4d84-8378-422123c8bfe0",
        "colab": {
          "base_uri": "https://localhost:8080/"
        }
      },
      "execution_count": 4,
      "outputs": [
        {
          "output_type": "stream",
          "name": "stdout",
          "text": [
            "Drive already mounted at /content/drive; to attempt to forcibly remount, call drive.mount(\"/content/drive\", force_remount=True).\n"
          ]
        }
      ]
    },
    {
      "cell_type": "code",
      "source": [
        "!pip install opencv-python"
      ],
      "metadata": {
        "id": "WOuTDFQfZ17r",
        "colab": {
          "base_uri": "https://localhost:8080/"
        },
        "outputId": "7eaf558a-36ec-4ee5-987d-ac5d7f62bda0"
      },
      "execution_count": 5,
      "outputs": [
        {
          "output_type": "stream",
          "name": "stdout",
          "text": [
            "Looking in indexes: https://pypi.org/simple, https://us-python.pkg.dev/colab-wheels/public/simple/\n",
            "Requirement already satisfied: opencv-python in /usr/local/lib/python3.7/dist-packages (4.6.0.66)\n",
            "Requirement already satisfied: numpy>=1.14.5 in /usr/local/lib/python3.7/dist-packages (from opencv-python) (1.21.6)\n"
          ]
        }
      ]
    },
    {
      "cell_type": "code",
      "source": [
        "# Import libraries\n",
        "import os, glob\n",
        "import pandas as pd\n",
        "import numpy as np\n",
        "import matplotlib.pyplot as plt\n",
        "from matplotlib.patches import Rectangle\n",
        "import cv2\n",
        "from scipy.stats import moment\n",
        "import math, random\n",
        "import json, copy\n",
        "from tqdm.notebook import tqdm\n",
        "from sklearn.model_selection import train_test_split"
      ],
      "metadata": {
        "id": "XkHXRXCE139s"
      },
      "execution_count": 6,
      "outputs": []
    },
    {
      "cell_type": "code",
      "source": [
        "# Define paths\n",
        "base_dir = '/content/drive/MyDrive/w281FinalProjectLogo/Logos-32plus_v1.0.1/'\n",
        "\n",
        "image_dir         = base_dir + 'images/'\n",
        "bbox_dir          = base_dir + 'yolofinalset/obj_train_data/'\n",
        "preproc_dir       = base_dir + 'preprocessed/'\n",
        "preproc_bb_dir    = preproc_dir + 'bb/'\n",
        "preproc_cn_dir    = preproc_dir + 'cn/'\n",
        "preproc_da_dir    = preproc_dir + 'da/'\n",
        "preproc_gray_dir  = preproc_dir + 'gray/'\n",
        "\n",
        "os.chdir(base_dir)\n",
        "\n",
        "class_dirs = os.listdir(image_dir)[1:]\n",
        "class_map = ['adidas', 'apple', 'bmw', 'cocacola', 'dhl', 'fedex', 'heineken', 'pepsi', 'starbucks', 'ups']\n",
        "inv_class_map = { v: k for k, v in enumerate(class_map) }"
      ],
      "metadata": {
        "id": "j5jGiM7I16x8"
      },
      "execution_count": 7,
      "outputs": []
    },
    {
      "cell_type": "markdown",
      "source": [
        "## Clear output"
      ],
      "metadata": {
        "id": "VSjqTDxXcdhY"
      }
    },
    {
      "cell_type": "code",
      "source": [
        "# remove bb files\n",
        "files = glob.glob(preproc_dir + 'bb/*')\n",
        "for f in files:\n",
        "  os.remove(f)\n",
        "\n",
        "# os.remove(preproc_dir + 'class_map_summary_bb.json')\n",
        "# os.remove(preproc_dir + 'preproc_map_bb.json')\n",
        "os.listdir(preproc_bb_dir)"
      ],
      "metadata": {
        "colab": {
          "base_uri": "https://localhost:8080/"
        },
        "id": "BT4Zm1FtHDZn",
        "outputId": "98f500bf-b9f8-47a0-a5e3-3169b386ed0e"
      },
      "execution_count": 484,
      "outputs": [
        {
          "output_type": "execute_result",
          "data": {
            "text/plain": [
              "[]"
            ]
          },
          "metadata": {},
          "execution_count": 484
        }
      ]
    },
    {
      "cell_type": "code",
      "source": [
        "# remove cn files\n",
        "files = glob.glob(preproc_dir + 'cn/*')\n",
        "for f in files:\n",
        "  os.remove(f)\n",
        "\n",
        "os.remove(preproc_dir + 'class_map_summary_cn.json')\n",
        "os.remove(preproc_dir + 'preproc_map_cn.json')\n",
        "os.listdir(preproc_cn_dir)"
      ],
      "metadata": {
        "colab": {
          "base_uri": "https://localhost:8080/"
        },
        "id": "DWhHGpNwHJej",
        "outputId": "413c9f18-1d46-4849-f384-2e0cdcdfd303"
      },
      "execution_count": 485,
      "outputs": [
        {
          "output_type": "execute_result",
          "data": {
            "text/plain": [
              "[]"
            ]
          },
          "metadata": {},
          "execution_count": 485
        }
      ]
    },
    {
      "cell_type": "code",
      "source": [
        "# remove da files\n",
        "files = glob.glob(preproc_dir + 'da/*')\n",
        "for f in files:\n",
        "  os.remove(f)\n",
        "\n",
        "# os.remove(preproc_dir + 'class_map_summary_da.json')\n",
        "# os.remove(preproc_dir + 'preproc_map_da.json')\n",
        "os.listdir(preproc_da_dir)"
      ],
      "metadata": {
        "colab": {
          "base_uri": "https://localhost:8080/"
        },
        "id": "XYQHoIbEHNuq",
        "outputId": "0af2d8b6-1982-47f7-e574-86a9e6947cd2"
      },
      "execution_count": 535,
      "outputs": [
        {
          "output_type": "execute_result",
          "data": {
            "text/plain": [
              "[]"
            ]
          },
          "metadata": {},
          "execution_count": 535
        }
      ]
    },
    {
      "cell_type": "code",
      "source": [
        "# remove gray files\n",
        "files = glob.glob(preproc_dir + 'gray/*')\n",
        "for f in files:\n",
        "  os.remove(f)\n",
        "\n",
        "# os.remove(preproc_dir + 'class_map_summary_gray.json')\n",
        "# os.remove(preproc_dir + 'preproc_map_gray.json')\n",
        "os.listdir(preproc_gray_dir)"
      ],
      "metadata": {
        "colab": {
          "base_uri": "https://localhost:8080/"
        },
        "id": "AhprN2K2HTYB",
        "outputId": "0fb877f6-3f09-4465-91fe-8278bdaedaf3"
      },
      "execution_count": 486,
      "outputs": [
        {
          "output_type": "execute_result",
          "data": {
            "text/plain": [
              "[]"
            ]
          },
          "metadata": {},
          "execution_count": 486
        }
      ]
    },
    {
      "cell_type": "code",
      "source": [
        "# remove img json files in preproc_dir\n",
        "# os.remove(preproc_dir + 'groundtruth_dict.json')\n",
        "# os.remove(preproc_dir + 'preproc_map_img.json')\n",
        "# os.remove(preproc_dir + 'class_map_summary_img.json')\n",
        "# os.remove(preproc_dir + 'train_test_split_img.json')\n",
        "# os.remove(preproc_dir + 'img_preproc_dict_tt.json')\n",
        "os.listdir(preproc_dir)"
      ],
      "metadata": {
        "id": "Cke5REAIHnXn",
        "colab": {
          "base_uri": "https://localhost:8080/"
        },
        "outputId": "7c4bfd7e-d27c-4a6b-d7cc-3cf92781b1db"
      },
      "execution_count": 17,
      "outputs": [
        {
          "output_type": "execute_result",
          "data": {
            "text/plain": [
              "['bb',\n",
              " 'cn',\n",
              " 'da',\n",
              " 'gray',\n",
              " 'preproc_map_bb.json',\n",
              " 'class_map_summary_bb.json',\n",
              " 'preproc_map_img.json',\n",
              " 'class_map_summary_img.json',\n",
              " 'train_test_split_img.json',\n",
              " 'img_preproc_dict_tt.json',\n",
              " 'preproc_map_cn.json',\n",
              " 'class_map_summary_cn.json',\n",
              " 'preproc_map_da.json',\n",
              " 'class_map_summary_da.json',\n",
              " 'preproc_map_gray.json',\n",
              " 'class_map_summary_gray.json']"
            ]
          },
          "metadata": {},
          "execution_count": 17
        }
      ]
    },
    {
      "cell_type": "markdown",
      "source": [
        "# Train-test split"
      ],
      "metadata": {
        "id": "kjuYFNsNeNJS"
      }
    },
    {
      "cell_type": "code",
      "source": [
        "# train test split\n",
        "class_map_summary_img = { v: {'code': k, 'num_imgs': 0} for k, v in enumerate(class_map) }\n",
        "img_preproc_dict_img = {}\n",
        "\n",
        "for class_dir in tqdm(class_dirs):\n",
        "  if class_dir not in class_map:\n",
        "    continue\n",
        "\n",
        "  img_fnames = os.listdir(image_dir + class_dir)\n",
        "\n",
        "  for img_fname in img_fnames:\n",
        "    class_map_summary_img[class_dir]['num_imgs'] += 1\n",
        "    img_preproc_dict_img[img_fname] = {\n",
        "      'image_source': '/images/' + class_dir + '/' + img_fname,\n",
        "      'preprocessing': ['tt_split'],\n",
        "      'class': class_dir,\n",
        "      'class_code': inv_class_map[class_dir] \n",
        "    }\n",
        "\n",
        "print('Image counts per class:\\n')\n",
        "for k,v in class_map_summary_img.items():\n",
        "  print(k, '     \\t', v['num_imgs'])\n",
        "\n",
        "print('\\nTotal image count -', len(img_preproc_dict_img.items()))\n",
        "print('Average image count per class -', len(img_preproc_dict_img.items()) / len(class_map_summary_img.items()))"
      ],
      "metadata": {
        "colab": {
          "base_uri": "https://localhost:8080/",
          "height": 0,
          "referenced_widgets": [
            "4799d33be5094067b886f8e7646a5724",
            "c382a8acd672470bacb3231c3a6b400c",
            "9ccb57be49644a638706cdc7f3c80c83",
            "e2964d6ad4ae4db9a22383a48d06b3b1",
            "35f281c9787d41b3802e4fc5041fb2d0",
            "43687980190b4e2f8d5b3bffb9675c44",
            "42e5a96baa9b4b2391f1c16591eccfe2",
            "cf9bbf378ce544f68c9e97c5fce469b1",
            "71f0ceb1135c4eaa88bff252d9aeb90e",
            "3562000c299148fc9f2968a48e87e9a5",
            "18d6e224661f4b87958d9efb2975ef99"
          ]
        },
        "id": "MOoZyR0Xzrrc",
        "outputId": "931164b1-cde6-4983-8741-c320f3f0f4c8"
      },
      "execution_count": 490,
      "outputs": [
        {
          "output_type": "display_data",
          "data": {
            "text/plain": [
              "  0%|          | 0/32 [00:00<?, ?it/s]"
            ],
            "application/vnd.jupyter.widget-view+json": {
              "version_major": 2,
              "version_minor": 0,
              "model_id": "4799d33be5094067b886f8e7646a5724"
            }
          },
          "metadata": {}
        },
        {
          "output_type": "stream",
          "name": "stdout",
          "text": [
            "Image counts per class:\n",
            "\n",
            "adidas      \t 166\n",
            "apple      \t 433\n",
            "bmw      \t 502\n",
            "cocacola      \t 341\n",
            "dhl      \t 348\n",
            "fedex      \t 225\n",
            "heineken      \t 113\n",
            "pepsi      \t 281\n",
            "starbucks      \t 442\n",
            "ups      \t 217\n",
            "\n",
            "Total image count - 3068\n",
            "Average image count per class - 306.8\n"
          ]
        }
      ]
    },
    {
      "cell_type": "code",
      "source": [
        "# save dictionaries to file\n",
        "with open(preproc_dir + \"preproc_map_img.json\", \"w\") as outfile:\n",
        "  json.dump(img_preproc_dict_img, outfile)\n",
        "\n",
        "with open(preproc_dir + \"class_map_summary_img.json\", \"w\") as outfile:\n",
        "  json.dump(class_map_summary_img, outfile)"
      ],
      "metadata": {
        "id": "dXXs37Gb2G7P"
      },
      "execution_count": 491,
      "outputs": []
    },
    {
      "cell_type": "code",
      "source": [
        "# read dictionaries from file\n",
        "with open(preproc_dir + \"preproc_map_img.json\", \"r\") as outfile:\n",
        "  img_preproc_dict_img = json.load(outfile)\n",
        "\n",
        "with open(preproc_dir + \"class_map_summary_img.json\", \"r\") as outfile:\n",
        "  class_map_summary_img = json.load(outfile)"
      ],
      "metadata": {
        "id": "JBkwCaA51KNN"
      },
      "execution_count": 36,
      "outputs": []
    },
    {
      "cell_type": "code",
      "source": [
        "# stratified train and test split\n",
        "X = np.array(list(img_preproc_dict_img.keys()))\n",
        "y = np.array([elem['class_code'] for elem in img_preproc_dict_img.values()])\n",
        "\n",
        "X_train, X_test, y_train, y_test = train_test_split(X, y, stratify=y, test_size=0.30, random_state=42)\n",
        "X_test, X_val, y_test, y_val = train_test_split(X_test, y_test, stratify=y_test, test_size=0.50, random_state=42)"
      ],
      "metadata": {
        "id": "3s1O2XzbPyPW"
      },
      "execution_count": 37,
      "outputs": []
    },
    {
      "cell_type": "code",
      "source": [
        "train_test_split_img = {\n",
        "  'X_train': list(X_train),\n",
        "  'y_train': y_train.tolist(),\n",
        "  'X_val': list(X_val),\n",
        "  'y_val': y_val.tolist(), \n",
        "  'X_test': list(X_test),\n",
        "  'y_test': y_test.tolist()\n",
        "}\n",
        "\n",
        "print('Total image count per data split:\\n')\n",
        "print('train\\t', len(train_test_split_img['X_train']))\n",
        "print('val\\t', len(train_test_split_img['X_val']))\n",
        "print('test\\t', len(train_test_split_img['X_test']))"
      ],
      "metadata": {
        "id": "RCsmRECFP6pq",
        "colab": {
          "base_uri": "https://localhost:8080/"
        },
        "outputId": "293d1a33-3259-43bf-f969-d8c0cb9ccaf0"
      },
      "execution_count": 38,
      "outputs": [
        {
          "output_type": "stream",
          "name": "stdout",
          "text": [
            "Total image count per data split:\n",
            "\n",
            "train\t 2147\n",
            "val\t 461\n",
            "test\t 460\n"
          ]
        }
      ]
    },
    {
      "cell_type": "code",
      "source": [
        "# save dictionary to file\n",
        "with open(preproc_dir + \"train_test_split_img.json\", \"w\") as outfile:\n",
        "  json.dump(train_test_split_img, outfile)"
      ],
      "metadata": {
        "id": "hBYH7EUKPf3d"
      },
      "execution_count": 495,
      "outputs": []
    },
    {
      "cell_type": "code",
      "source": [
        "# read dictionary from file\n",
        "with open(preproc_dir + \"train_test_split_img.json\", \"r\") as outfile:\n",
        "  train_test_split_img = json.load(outfile)"
      ],
      "metadata": {
        "id": "C9y8yBFilVcu"
      },
      "execution_count": 496,
      "outputs": []
    },
    {
      "cell_type": "code",
      "source": [
        "# create img lookup dictionary and class summary dictionary\n",
        "img_preproc_dict_tt = {}\n",
        "class_map_summary_tt = { v: {'code': k, 'train': 0, 'val': 0, 'test': 0, 'total': 0} for k,v in enumerate(class_map) }\n",
        "\n",
        "for i in range(len(train_test_split_img['X_train'])):\n",
        "  img_fname = train_test_split_img['X_train'][i]\n",
        "  img_class_code = train_test_split_img['y_train'][i]\n",
        "  img_class = class_map[img_class_code]\n",
        "\n",
        "  img_preproc_dict_tt[img_fname] = {\n",
        "    'class': img_class,\n",
        "    'class_code': img_class_code,\n",
        "    'set': 'train'\n",
        "  }\n",
        "  class_map_summary_tt[img_class]['train'] += 1\n",
        "  class_map_summary_tt[img_class]['total'] += 1\n",
        "\n",
        "for i in range(len(train_test_split_img['X_val'])):\n",
        "  img_fname = train_test_split_img['X_val'][i]\n",
        "  img_class_code = train_test_split_img['y_val'][i]\n",
        "  img_class = class_map[img_class_code]\n",
        "\n",
        "  img_preproc_dict_tt[img_fname] = {\n",
        "    'class': img_class,\n",
        "    'class_code': img_class_code,\n",
        "    'set': 'val'\n",
        "  }\n",
        "  class_map_summary_tt[img_class]['val'] += 1\n",
        "  class_map_summary_tt[img_class]['total'] += 1\n",
        "\n",
        "for i in range(len(train_test_split_img['X_test'])):\n",
        "  img_fname = train_test_split_img['X_test'][i]\n",
        "  img_class_code = train_test_split_img['y_test'][i]\n",
        "  img_class = class_map[img_class_code]\n",
        "\n",
        "  img_preproc_dict_tt[img_fname] = {\n",
        "    'class': img_class,\n",
        "    'class_code': img_class_code,\n",
        "    'set': 'test'\n",
        "  }\n",
        "  class_map_summary_tt[img_class]['test'] += 1\n",
        "  class_map_summary_tt[img_class]['total'] += 1\n",
        "\n",
        "print('Image counts per data split per class:\\n')\n",
        "for k,v in class_map_summary_tt.items():\n",
        "  print(k, '     \\t', v)\n",
        "\n",
        "print('\\nTotal image counts per data split:\\n')\n",
        "print('train\\t', len(y_train))\n",
        "print('val\\t', len(y_val))\n",
        "print('test\\t', len(y_test))"
      ],
      "metadata": {
        "colab": {
          "base_uri": "https://localhost:8080/"
        },
        "id": "x96R57AEitgi",
        "outputId": "18e7bc2c-7a90-4ef3-931c-4afb352ec7b0"
      },
      "execution_count": 497,
      "outputs": [
        {
          "output_type": "stream",
          "name": "stdout",
          "text": [
            "Image counts per data split per class:\n",
            "\n",
            "adidas      \t {'code': 0, 'train': 116, 'val': 25, 'test': 25, 'total': 166}\n",
            "apple      \t {'code': 1, 'train': 303, 'val': 65, 'test': 65, 'total': 433}\n",
            "bmw      \t {'code': 2, 'train': 351, 'val': 76, 'test': 75, 'total': 502}\n",
            "cocacola      \t {'code': 3, 'train': 239, 'val': 51, 'test': 51, 'total': 341}\n",
            "dhl      \t {'code': 4, 'train': 244, 'val': 52, 'test': 52, 'total': 348}\n",
            "fedex      \t {'code': 5, 'train': 157, 'val': 34, 'test': 34, 'total': 225}\n",
            "heineken      \t {'code': 6, 'train': 79, 'val': 17, 'test': 17, 'total': 113}\n",
            "pepsi      \t {'code': 7, 'train': 197, 'val': 42, 'test': 42, 'total': 281}\n",
            "starbucks      \t {'code': 8, 'train': 309, 'val': 67, 'test': 66, 'total': 442}\n",
            "ups      \t {'code': 9, 'train': 152, 'val': 32, 'test': 33, 'total': 217}\n",
            "\n",
            "Total image counts per data split:\n",
            "\n",
            "train\t 2147\n",
            "val\t 461\n",
            "test\t 460\n"
          ]
        }
      ]
    },
    {
      "cell_type": "code",
      "source": [
        "# save dictionary to file\n",
        "with open(preproc_dir + \"img_preproc_dict_tt.json\", \"w\") as outfile:\n",
        "  json.dump(img_preproc_dict_tt, outfile)"
      ],
      "metadata": {
        "id": "NIy7ldw0oo6K"
      },
      "execution_count": 498,
      "outputs": []
    },
    {
      "cell_type": "code",
      "source": [
        "# read dictionary from file\n",
        "with open(preproc_dir + \"img_preproc_dict_tt.json\", \"r\") as outfile:\n",
        "  img_preproc_dict_tt = json.load(outfile)"
      ],
      "metadata": {
        "id": "q9ZqAvk4oqmm"
      },
      "execution_count": 10,
      "outputs": []
    },
    {
      "cell_type": "markdown",
      "source": [
        "# Read ground truth"
      ],
      "metadata": {
        "id": "muJ43cirdAkw"
      }
    },
    {
      "cell_type": "code",
      "source": [
        "# convert ground truth into dict indexed by file name\n",
        "groundtruth_dict = copy.deepcopy(img_preproc_dict_tt)\n",
        "\n",
        "with open(base_dir + \"groundtruth.json\") as f:\n",
        "  groundtruth_raw = json.load(f)\n",
        "\n",
        "for groundtruth in groundtruth_raw:\n",
        "  img_fname = groundtruth['file'].split('\\\\')[1]\n",
        "  if img_fname not in img_preproc_dict_tt:\n",
        "    continue\n",
        "\n",
        "  if type(groundtruth['bboxes'][0]) == list:\n",
        "    bboxes = groundtruth['bboxes']\n",
        "  else:\n",
        "    bboxes = [groundtruth['bboxes']]\n",
        "  groundtruth_dict[img_fname]['bboxes'] = bboxes\n",
        "\n",
        "test_img = plt.imread(image_dir + 'adidas/000001.jpg')\n",
        "for bbox in groundtruth_dict['000001.jpg']['bboxes']:\n",
        "  x_top_left, y_top_left, width, height = bbox\n",
        "  plt.gca().add_patch(Rectangle((x_top_left, y_top_left), width, height, linewidth=2, edgecolor='r', facecolor='none'))\n",
        "\n",
        "plt.imshow(test_img)\n",
        "plt.show()\n",
        "print('\\n', groundtruth_dict['000001.jpg'])"
      ],
      "metadata": {
        "colab": {
          "base_uri": "https://localhost:8080/",
          "height": 0
        },
        "id": "Xeam_DJQQhbG",
        "outputId": "ea51ccac-ba78-41b0-8c16-f3900b225073"
      },
      "execution_count": 22,
      "outputs": [
        {
          "output_type": "display_data",
          "data": {
            "text/plain": [
              "<Figure size 432x288 with 1 Axes>"
            ],
            "image/png": "[encoded data removed]"
          },
          "metadata": {
            "needs_background": "light"
          }
        },
        {
          "output_type": "stream",
          "name": "stdout",
          "text": [
            "\n",
            " {'class': 'adidas', 'class_code': 0, 'set': 'train', 'bboxes': [[427, 284, 87, 81], [167, 395.99999999999994, 61, 97.00000000000006]]}\n"
          ]
        }
      ]
    },
    {
      "cell_type": "code",
      "source": [
        "# save dictionary to file\n",
        "with open(preproc_dir + \"groundtruth_dict.json\", \"w\") as outfile:\n",
        "  json.dump(groundtruth_dict, outfile)"
      ],
      "metadata": {
        "id": "ku45h6_BDshX"
      },
      "execution_count": 20,
      "outputs": []
    },
    {
      "cell_type": "code",
      "source": [
        "# read dictionary from file\n",
        "with open(preproc_dir + \"groundtruth_dict.json\", \"r\") as outfile:\n",
        "  groundtruth_dict = json.load(outfile)"
      ],
      "metadata": {
        "id": "hnO2TvL-DxLH"
      },
      "execution_count": 21,
      "outputs": []
    },
    {
      "cell_type": "markdown",
      "source": [
        "## Create YOLO annotations"
      ],
      "metadata": {
        "id": "_maRVDYbX41s"
      }
    },
    {
      "cell_type": "code",
      "source": [
        "# remove yolo annotation files\n",
        "groundtruth_to_yolo_dir = base_dir + 'groundtruth_to_yolo/'\n",
        "files = glob.glob(groundtruth_to_yolo_dir + '*')\n",
        "for f in files:\n",
        "  os.remove(f)\n",
        "\n",
        "os.listdir(groundtruth_to_yolo_dir)"
      ],
      "metadata": {
        "colab": {
          "base_uri": "https://localhost:8080/"
        },
        "id": "qO20lS17Y7RV",
        "outputId": "e40f1ca9-dc37-4a13-e5cc-08da674d771b"
      },
      "execution_count": 35,
      "outputs": [
        {
          "output_type": "execute_result",
          "data": {
            "text/plain": [
              "[]"
            ]
          },
          "metadata": {},
          "execution_count": 35
        }
      ]
    },
    {
      "cell_type": "code",
      "source": [
        "# create and save yolo annotation files for train and val images\n",
        "for img_fname, img_data in tqdm(groundtruth_dict.items()):\n",
        "  if img_data['set'] == 'test':\n",
        "    continue\n",
        "  \n",
        "  yolo_data = []\n",
        "  yolo_fname = img_fname.replace('jpg', 'txt')\n",
        "\n",
        "  for bbox in img_data['bboxes']:\n",
        "    img = plt.imread(image_dir + '/' + img_data['class'] + '/' + img_fname)\n",
        "    img_height, img_width, _ = img.shape\n",
        "\n",
        "    x_top_left, y_top_left, bbox_width, bbox_height = bbox\n",
        "    center_x = (x_top_left + 0.5*bbox_width) / img_width\n",
        "    center_y = (y_top_left + 0.5*bbox_height) / img_height\n",
        "    width = bbox_width / img_width\n",
        "    height = bbox_height / img_height\n",
        "    yolo_data.append(f\"{inv_class_map[img_data['class']]} {center_x} {center_y} {width} {height}\")\n",
        "\n",
        "  with open(groundtruth_to_yolo_dir + yolo_fname, \"w\") as f:\n",
        "    f.write('\\n'.join(yolo_data))\n",
        "\n",
        "print('File count:', len(os.listdir(groundtruth_to_yolo_dir)))\n",
        "print('Size of train + val:', len(y_train) + len(y_val))"
      ],
      "metadata": {
        "colab": {
          "base_uri": "https://localhost:8080/",
          "height": 0,
          "referenced_widgets": [
            "bdd653061c38410f88cf9146e2f8a266",
            "b7c10d3e735d4cd2b48e1f558d5b7e78",
            "aacaf69460be4a4aa459354dc7316034",
            "c39098005148447887cf822ab5fb8f04",
            "c0c28fc37c324b8b901d575e779ec5af",
            "12f54ed0f78f489dab63e3ca70f2e644",
            "8bdeda67fce9441eb6655762484b6e1c",
            "ff90091f059d467482d9167a2305f363",
            "606673b87e5840fa945a0bda6f813efa",
            "f4fc62cb3c614f698d5e145524ded56b",
            "12591dc619954c2e917a5f0a98c924cc"
          ]
        },
        "id": "tiKZCgdRRgL6",
        "outputId": "37aaf360-d325-404e-9000-efdaa9f3fda7"
      },
      "execution_count": 39,
      "outputs": [
        {
          "output_type": "display_data",
          "data": {
            "text/plain": [
              "  0%|          | 0/3068 [00:00<?, ?it/s]"
            ],
            "application/vnd.jupyter.widget-view+json": {
              "version_major": 2,
              "version_minor": 0,
              "model_id": "bdd653061c38410f88cf9146e2f8a266"
            }
          },
          "metadata": {}
        },
        {
          "output_type": "stream",
          "name": "stdout",
          "text": [
            "File count: 2608\n",
            "Size of train + val: 2608\n"
          ]
        }
      ]
    },
    {
      "cell_type": "code",
      "source": [
        "# write all files to google storage bucket\n",
        "!gsutil -mq cp -r /content/drive/MyDrive/w281FinalProjectLogo/Logos-32plus_v1.0.1/groundtruth_to_yolo/* gs://w281finalprojectlogo/Logos-32plus_v1.0.1/groundtruth_to_yolo\n",
        "\n",
        "num_files = !gsutil ls gs://w281finalprojectlogo/Logos-32plus_v1.0.1/groundtruth_to_yolo\n",
        "print(len(num_files))"
      ],
      "metadata": {
        "colab": {
          "base_uri": "https://localhost:8080/"
        },
        "id": "QhoGvymsdg2Z",
        "outputId": "d04116db-70e4-4df1-ac85-48276437f023"
      },
      "execution_count": 44,
      "outputs": [
        {
          "output_type": "stream",
          "name": "stdout",
          "text": [
            "2609\n"
          ]
        }
      ]
    },
    {
      "cell_type": "markdown",
      "source": [
        "# Image processing"
      ],
      "metadata": {
        "id": "leuljD8XeaS7"
      }
    },
    {
      "cell_type": "markdown",
      "source": [
        "## Image processing functions"
      ],
      "metadata": {
        "id": "Z5oDjna3di_l"
      }
    },
    {
      "cell_type": "code",
      "source": [
        "# YOLO format is [center_x, center_y, width, height]\n",
        "def extract_bbox_yolo(img, center_x, center_y, width, height, gray=True):\n",
        "  if gray:\n",
        "    img_y, img_x = img.shape\n",
        "  else:\n",
        "    img_y, img_x, img_z = img.shape\n",
        "  min_x = round((center_x - 0.5*width) * img_x)\n",
        "  max_x = round((center_x + 0.5*width) * img_x)\n",
        "  min_y = round((center_y - 0.5*height) * img_y)\n",
        "  max_y = round((center_y + 0.5*height) * img_y)\n",
        "  \n",
        "  if gray:\n",
        "    return img[min_y:max_y, min_x:max_x]\n",
        "  else:\n",
        "    return img[min_y:max_y, min_x:max_x,:]"
      ],
      "metadata": {
        "id": "1eMfUS3F-HOI"
      },
      "execution_count": 500,
      "outputs": []
    },
    {
      "cell_type": "code",
      "source": [
        "# groundtruth.json has format [top_left_corner_x, top_left_corner_y, width, height]\n",
        "def extract_bbox_groundtruth(img, min_x, min_y, width, height, gray=False):\n",
        "  max_x = min_x + width\n",
        "  max_y = min_y + height\n",
        "  \n",
        "  if gray:\n",
        "    return img[min_y:max_y, min_x:max_x]\n",
        "  else:\n",
        "    return img[min_y:max_y, min_x:max_x,:]\n",
        "\n",
        "min_x, min_y, width, height = [round(x) for x in groundtruth_dict['000001.jpg']['bboxes'][0]]\n",
        "test_bbox = extract_bbox_groundtruth(test_img, min_x, min_y, width, height, False)\n",
        "plt.axis('off')\n",
        "plt.imshow(test_bbox)\n",
        "plt.show()\n",
        "\n",
        "min_x, min_y, width, height = [round(x) for x in groundtruth_dict['000001.jpg']['bboxes'][1]]\n",
        "test_bbox = extract_bbox_groundtruth(test_img, min_x, min_y, width, height, False)\n",
        "plt.axis('off')\n",
        "plt.imshow(test_bbox)\n",
        "plt.show()"
      ],
      "metadata": {
        "colab": {
          "base_uri": "https://localhost:8080/",
          "height": 0
        },
        "id": "jwoEtAx9HTD_",
        "outputId": "50e8b62d-8ea8-48b9-a5ef-67586661983d"
      },
      "execution_count": 501,
      "outputs": [
        {
          "output_type": "display_data",
          "data": {
            "text/plain": [
              "<Figure size 432x288 with 1 Axes>"
            ],
            "image/png": "[encoded data removed]"
          },
          "metadata": {
            "needs_background": "light"
          }
        },
        {
          "output_type": "display_data",
          "data": {
            "text/plain": [
              "<Figure size 432x288 with 1 Axes>"
            ],
            "image/png": "[encoded data removed]"
          },
          "metadata": {
            "needs_background": "light"
          }
        }
      ]
    },
    {
      "cell_type": "code",
      "source": [
        "# Transform image by applying homography\n",
        "def rotate_3d(img, x=0.0, y=0.0, z=0.0):\n",
        "  # 2d to 3d (projection)\n",
        "  proj2dto3d = np.array([[1,0,-img.shape[1]/2],\n",
        "                         [0,1,-img.shape[0]/2],\n",
        "                         [0,0,0],\n",
        "                         [0,0,1]], np.float32)\n",
        "\n",
        "  proj3dto2d = np.array([[200,0,img.shape[1]/2,0],\n",
        "                         [0,200,img.shape[0]/2,0],\n",
        "                         [0,0,1,0]], np.float32)\n",
        "  \n",
        "  # Define rotation\n",
        "  ax = float(x * (math.pi / 180.0))\n",
        "  ay = float(y * (math.pi / 180.0)) \n",
        "  az = float(z * (math.pi / 180.0))\n",
        "  rx = np.array([[1,0,0,0],\n",
        "                 [0,math.cos(ax),-math.sin(ax),0],\n",
        "                 [0,math.sin(ax),math.cos(ax),0],\n",
        "                 [0,0,0,1]], np.float32)\n",
        "  ry = np.array([[math.cos(ay),0,-math.sin(ay),0],\n",
        "                 [0,1,0,0],\n",
        "                 [math.sin(ay),0,math.cos(ay),0],\n",
        "                 [0,0,0,1]], np.float32)\n",
        "  rz = np.array([[math.cos(az),-math.sin(az),0,0],\n",
        "                 [math.sin(az),math.cos(az),0,0],\n",
        "                 [0,0,1,0],\n",
        "                 [0,0,0,1]], np.float32)\n",
        "  r = rx.dot(ry).dot(rz)\n",
        "  trans = np.array([[1,0,0,0],\n",
        "                   [0,1,0,0],\n",
        "                   [0,0,1,200], # 400 to move the image back in z axis so full logo shown after y-rotation\n",
        "                   [0,0,0,1]], np.float32)\n",
        "  \n",
        "  # Execute rotation\n",
        "  final = proj3dto2d.dot(trans.dot(r.dot(proj2dto3d)))   \n",
        "\n",
        "  bvalue=(int(img[0,0,0]), int(img[0,0,1]), int(img[0,0,2]))\n",
        "  dst = cv2.warpPerspective(img, final, (img.shape[1],img.shape[0]), None,\n",
        "                            cv2.INTER_LINEAR, cv2.BORDER_CONSTANT, bvalue)\n",
        "  return dst\n",
        "\n",
        "test_bbox_rot = rotate_3d(test_bbox, 30, 30, 30)\n",
        "plt.imshow(test_bbox_rot)\n",
        "plt.show()"
      ],
      "metadata": {
        "colab": {
          "base_uri": "https://localhost:8080/",
          "height": 0
        },
        "id": "Z-3mtPmjHyRS",
        "outputId": "db483f72-7d65-418b-89e4-df31835acf68"
      },
      "execution_count": 502,
      "outputs": [
        {
          "output_type": "display_data",
          "data": {
            "text/plain": [
              "<Figure size 432x288 with 1 Axes>"
            ],
            "image/png": "[encoded data removed]"
          },
          "metadata": {
            "needs_background": "light"
          }
        }
      ]
    },
    {
      "cell_type": "code",
      "source": [
        "def resize_image(img, percent):\n",
        "  percent = 60 # percent of original size\n",
        "  width = int(img.shape[1] * percent / 100)\n",
        "  height = int(img.shape[0] * percent / 100)\n",
        "  dim = (width, height)\n",
        "  \n",
        "  # resize image\n",
        "  resized = cv2.resize(img, dim, interpolation=cv2.INTER_AREA)\n",
        "  return resized"
      ],
      "metadata": {
        "id": "wKqYviQQO3tS"
      },
      "execution_count": 503,
      "outputs": []
    },
    {
      "cell_type": "code",
      "source": [
        "def invert_image(img):\n",
        "  inv_img = cv2.bitwise_not(img)\n",
        "  return(inv_img)"
      ],
      "metadata": {
        "id": "4I8a22XrO-NR"
      },
      "execution_count": 504,
      "outputs": []
    },
    {
      "cell_type": "code",
      "source": [
        "def histogram_equalize(img):\n",
        "  ycrcb = cv2.cvtColor(img, cv2.COLOR_BGR2YCR_CB)\n",
        "  channels = cv2.split(ycrcb)\n",
        "  cv2.equalizeHist(channels[0], channels[0])\n",
        "  cv2.merge(channels, ycrcb)\n",
        "  cv2.cvtColor(ycrcb, cv2.COLOR_YCR_CB2BGR, img)\n",
        "  return img"
      ],
      "metadata": {
        "id": "-pb7hopoqy10"
      },
      "execution_count": 505,
      "outputs": []
    },
    {
      "cell_type": "code",
      "source": [
        "def clahe(img):\n",
        "  lab = cv2.cvtColor(img, cv2.COLOR_BGR2LAB)\n",
        "  clahe = cv2.createCLAHE(tileGridSize=(4,4))\n",
        "  lab[...,0] = clahe.apply(lab[...,0])\n",
        "  bgr = cv2.cvtColor(lab, cv2.COLOR_LAB2BGR)\n",
        "  return bgr\n",
        "\n",
        "\n",
        "center_x, center_y, width, height = [round(x) for x in groundtruth_dict['000001.jpg']['bboxes'][0]]\n",
        "test_bbox = extract_bbox_groundtruth(test_img, center_x, center_y, width, height, False)\n",
        "plt.axis('off')\n",
        "plt.imshow(test_bbox)\n",
        "plt.show()\n",
        "\n",
        "clahe_test_img = clahe(test_bbox)\n",
        "plt.axis('off')\n",
        "plt.imshow(clahe_test_img)\n",
        "plt.show()"
      ],
      "metadata": {
        "colab": {
          "base_uri": "https://localhost:8080/",
          "height": 0
        },
        "id": "IFQ73JDzLQVs",
        "outputId": "2534e55e-f397-4b9f-82e9-44a21db9e7fb"
      },
      "execution_count": 506,
      "outputs": [
        {
          "output_type": "display_data",
          "data": {
            "text/plain": [
              "<Figure size 432x288 with 1 Axes>"
            ],
            "image/png": "[encoded data removed]"
          },
          "metadata": {
            "needs_background": "light"
          }
        },
        {
          "output_type": "display_data",
          "data": {
            "text/plain": [
              "<Figure size 432x288 with 1 Axes>"
            ],
            "image/png": "[encoded data removed]"
          },
          "metadata": {
            "needs_background": "light"
          }
        }
      ]
    },
    {
      "cell_type": "code",
      "source": [
        "def normalize_img(img):\n",
        "  normalized = (img - img.min()) / (img.max() - img.min())\n",
        "  return normalized"
      ],
      "metadata": {
        "id": "ROrr62hvsRnZ"
      },
      "execution_count": 507,
      "outputs": []
    },
    {
      "cell_type": "markdown",
      "source": [
        "## Extract bounding boxes"
      ],
      "metadata": {
        "id": "JoD-fqp9ey9x"
      }
    },
    {
      "cell_type": "code",
      "source": [
        "# loop through original images, extract bbox using groundtruth annotations, save in color\n",
        "class_map_summary_bb = { v: {'code': k, 'train': 0, 'val': 0, 'test': 0, 'total': 0} for k,v in enumerate(class_map) }\n",
        "img_preproc_dict_bb = {}\n",
        "\n",
        "for c_dir in tqdm(class_dirs):\n",
        "  if c_dir not in class_map:\n",
        "    continue\n",
        "  \n",
        "  img_fnames = os.listdir(image_dir + '/' + c_dir)\n",
        "\n",
        "  for img_fname in img_fnames:\n",
        "    img_data = groundtruth_dict.get(img_fname)\n",
        "\n",
        "    if img_data:\n",
        "      img_bgr = plt.imread(image_dir + '/' + c_dir + '/' + img_fname)\n",
        "      img_class = img_data['class']\n",
        "      img_set = img_preproc_dict_tt[img_fname]['set']\n",
        "\n",
        "      for num, line in enumerate(img_data['bboxes']):\n",
        "        min_x, min_y, width, height = [round(x) for x in line]\n",
        "        bbox_img_bgr_color = extract_bbox_groundtruth(img_bgr, min_x, min_y, width, height, False)\n",
        "        \n",
        "        new_img_fname = img_fname.split('.')[0] + '_' + str(num).zfill(2) + '_bb.jpg'\n",
        "        plt.imsave(preproc_bb_dir + new_img_fname, bbox_img_bgr_color)\n",
        "\n",
        "        class_map_summary_bb[img_class]['total'] += 1\n",
        "        class_map_summary_bb[img_class][img_set] += 1\n",
        "        img_preproc_dict_bb[new_img_fname] = {\n",
        "          'image_source': '/images/' + c_dir + '/' + img_fname,\n",
        "          'preprocessing': ['bbox'],\n",
        "          'class': img_class,\n",
        "          'class_code': inv_class_map[img_class],\n",
        "          'set': img_set,\n",
        "        }\n",
        "\n",
        "print('Image counts per data split per class:\\n')\n",
        "for k,v in class_map_summary_bb.items():\n",
        "  print(k, '     \\t', v)\n",
        "\n",
        "print('\\nTotal image count -', len(img_preproc_dict_bb.items()))\n",
        "print('Total stored image count -', len(os.listdir(preproc_bb_dir)))"
      ],
      "metadata": {
        "colab": {
          "base_uri": "https://localhost:8080/",
          "height": 0,
          "referenced_widgets": [
            "4cb10cc2c4e043d89d9ea72513217c0e",
            "fffc15b5abad4c8d9cad8c3ad93ecdc4",
            "c448ef580b2840278f86e583638af6fd",
            "c9314923a8d24878a37ec905622e4db9",
            "7245d903a78a4abc8951120c45663f9e",
            "266f0f58b8e74bca9d06d4d539b5fa30",
            "85e407d6b8284c6b8d90984cf09fe52f",
            "c5064431dda1474e8a2b08a38cd73e39",
            "3d046c8664d14828ba5443669d0f3cad",
            "87ec602899ba4b129c72a15bbc35a423",
            "0d084b3611c84dd2a08cb8317654d784"
          ]
        },
        "id": "urptfgI4B-FK",
        "outputId": "83ab3c93-1573-4229-d9be-c4884811f1eb"
      },
      "execution_count": 508,
      "outputs": [
        {
          "output_type": "display_data",
          "data": {
            "text/plain": [
              "  0%|          | 0/32 [00:00<?, ?it/s]"
            ],
            "application/vnd.jupyter.widget-view+json": {
              "version_major": 2,
              "version_minor": 0,
              "model_id": "4cb10cc2c4e043d89d9ea72513217c0e"
            }
          },
          "metadata": {}
        },
        {
          "output_type": "stream",
          "name": "stdout",
          "text": [
            "Image counts per data split per class:\n",
            "\n",
            "adidas      \t {'code': 0, 'train': 147, 'val': 33, 'test': 28, 'total': 208}\n",
            "apple      \t {'code': 1, 'train': 378, 'val': 70, 'test': 82, 'total': 530}\n",
            "bmw      \t {'code': 2, 'train': 403, 'val': 81, 'test': 81, 'total': 565}\n",
            "cocacola      \t {'code': 3, 'train': 364, 'val': 78, 'test': 71, 'total': 513}\n",
            "dhl      \t {'code': 4, 'train': 474, 'val': 92, 'test': 88, 'total': 654}\n",
            "fedex      \t {'code': 5, 'train': 364, 'val': 74, 'test': 81, 'total': 519}\n",
            "heineken      \t {'code': 6, 'train': 150, 'val': 62, 'test': 31, 'total': 243}\n",
            "pepsi      \t {'code': 7, 'train': 361, 'val': 53, 'test': 100, 'total': 514}\n",
            "starbucks      \t {'code': 8, 'train': 376, 'val': 81, 'test': 79, 'total': 536}\n",
            "ups      \t {'code': 9, 'train': 230, 'val': 50, 'test': 36, 'total': 316}\n",
            "\n",
            "Total image count - 4598\n",
            "Total stored image count - 4598\n"
          ]
        }
      ]
    },
    {
      "cell_type": "code",
      "source": [
        "# save dictionaries to file\n",
        "with open(preproc_dir + \"preproc_map_bb.json\", \"w\") as outfile:\n",
        "  json.dump(img_preproc_dict_bb, outfile)\n",
        "\n",
        "with open(preproc_dir + \"class_map_summary_bb.json\", \"w\") as outfile:\n",
        "  json.dump(class_map_summary_bb, outfile)"
      ],
      "metadata": {
        "id": "EAer39C79j-i"
      },
      "execution_count": 509,
      "outputs": []
    },
    {
      "cell_type": "code",
      "source": [
        "# load dictionaries\n",
        "with open(preproc_dir + \"preproc_map_bb.json\", \"r\") as outfile:\n",
        "  img_preproc_dict_bb = json.load(outfile)\n",
        "\n",
        "with open(preproc_dir + \"class_map_summary_bb.json\", \"r\") as outfile:\n",
        "  class_map_summary_bb = json.load(outfile)"
      ],
      "metadata": {
        "id": "1vuV0doxI39S"
      },
      "execution_count": 510,
      "outputs": []
    },
    {
      "cell_type": "markdown",
      "source": [
        "## Contrast normalization"
      ],
      "metadata": {
        "id": "5N6gEpvLe2TT"
      }
    },
    {
      "cell_type": "code",
      "source": [
        "# image contrast normalization using CLAHE\n",
        "img_preproc_dict_cn = {}\n",
        "class_map_summary_cn = { v: {'code': k, 'train': 0, 'val': 0, 'test': 0, 'total': 0} for k,v in enumerate(class_map) }\n",
        "\n",
        "for img_fname, img_data in tqdm(img_preproc_dict_bb.items()):\n",
        "  img = plt.imread(preproc_bb_dir + img_fname)\n",
        "  img_cn = normalize_img(clahe(img.copy()))\n",
        "  img_class = img_class\n",
        "  img_set = img_data['set']\n",
        "\n",
        "  new_img_fname = img_fname.split('.')[0] + '_cn.jpg'\n",
        "  plt.imsave(preproc_cn_dir + new_img_fname, img_cn)\n",
        "  \n",
        "  class_map_summary_cn[img_class]['total'] += 1\n",
        "  class_map_summary_cn[img_class][img_set] += 1\n",
        "  img_preproc_dict_cn[new_img_fname] = {\n",
        "    'image_source': img_data['image_source'],\n",
        "    'preprocessing': ['bbox','cn'],\n",
        "    'class': img_class,\n",
        "    'class_code': img_data['class_code'],\n",
        "    'set' : img_set\n",
        "  }\n",
        "\n",
        "print('Image counts per data split per class:\\n')\n",
        "for k,v in class_map_summary_cn.items():\n",
        "  print(k, '     \\t', v)\n",
        "\n",
        "print('\\nTotal image count -', len(img_preproc_dict_cn.items()))\n",
        "print('Total stored image count -', len(os.listdir(preproc_cn_dir)))"
      ],
      "metadata": {
        "id": "-UYfoKuZco2G",
        "colab": {
          "base_uri": "https://localhost:8080/",
          "referenced_widgets": [
            "7cf4ae5655024517b074b069217d87e7",
            "11c7ebac10054f98bad50f747afc0563",
            "67865f2032d64dd9a700df1383ba42cd",
            "b7f7e34027074dd5a11ccf5dc2727c50",
            "6088b3fcb15444c497041bb94f1ea541",
            "8c4b295ce24049e0b2144ee5da2d7332",
            "6ae92baca32446aa9e4ccc86f4637587",
            "a2d6b5a9774f468d83507daf246cb2cb",
            "163761aa72664b6c911c863a9b5a9206",
            "fe7531dc9f954ce9ac346ec3681dabdd",
            "750b68c12c8a4414868c69514e8a0bda"
          ],
          "height": 0
        },
        "outputId": "d843a29a-eda5-44bb-d5ed-22fbe03f7aff"
      },
      "execution_count": 511,
      "outputs": [
        {
          "output_type": "display_data",
          "data": {
            "text/plain": [
              "  0%|          | 0/4598 [00:00<?, ?it/s]"
            ],
            "application/vnd.jupyter.widget-view+json": {
              "version_major": 2,
              "version_minor": 0,
              "model_id": "7cf4ae5655024517b074b069217d87e7"
            }
          },
          "metadata": {}
        },
        {
          "output_type": "stream",
          "name": "stdout",
          "text": [
            "Image counts per data split per class:\n",
            "\n",
            "adidas      \t {'code': 0, 'train': 147, 'val': 33, 'test': 28, 'total': 208}\n",
            "apple      \t {'code': 1, 'train': 378, 'val': 70, 'test': 82, 'total': 530}\n",
            "bmw      \t {'code': 2, 'train': 403, 'val': 81, 'test': 81, 'total': 565}\n",
            "cocacola      \t {'code': 3, 'train': 364, 'val': 78, 'test': 71, 'total': 513}\n",
            "dhl      \t {'code': 4, 'train': 474, 'val': 92, 'test': 88, 'total': 654}\n",
            "fedex      \t {'code': 5, 'train': 364, 'val': 74, 'test': 81, 'total': 519}\n",
            "heineken      \t {'code': 6, 'train': 150, 'val': 62, 'test': 31, 'total': 243}\n",
            "pepsi      \t {'code': 7, 'train': 361, 'val': 53, 'test': 100, 'total': 514}\n",
            "starbucks      \t {'code': 8, 'train': 376, 'val': 81, 'test': 79, 'total': 536}\n",
            "ups      \t {'code': 9, 'train': 230, 'val': 50, 'test': 36, 'total': 316}\n",
            "\n",
            "Total image count - 4598\n",
            "Total stored image count - 4598\n"
          ]
        }
      ]
    },
    {
      "cell_type": "code",
      "source": [
        "# save dictionaries to file\n",
        "with open(preproc_dir + \"preproc_map_cn.json\", \"w\") as outfile:\n",
        "  json.dump(img_preproc_dict_cn, outfile)\n",
        "\n",
        "with open(preproc_dir + \"class_map_summary_cn.json\", \"w\") as outfile:\n",
        "  json.dump(class_map_summary_cn, outfile)"
      ],
      "metadata": {
        "id": "ewsTfIiQcpUT"
      },
      "execution_count": 512,
      "outputs": []
    },
    {
      "cell_type": "code",
      "source": [
        "# load dictionaries\n",
        "with open(preproc_dir + \"preproc_map_cn.json\", \"r\") as outfile:\n",
        "  img_preproc_dict_cn = json.load(outfile)\n",
        "\n",
        "with open(preproc_dir + \"class_map_summary_cn.json\", \"r\") as outfile:\n",
        "  class_map_summary_cn = json.load(outfile)"
      ],
      "metadata": {
        "id": "JTpUWlovdH9_"
      },
      "execution_count": 513,
      "outputs": []
    },
    {
      "cell_type": "markdown",
      "source": [
        "## Data augmentation"
      ],
      "metadata": {
        "id": "5v8bZlLce53K"
      }
    },
    {
      "cell_type": "code",
      "source": [
        "# calculate number of augmented images per class\n",
        "max_da_count = 2000\n",
        "da_aug_class_counts = {}\n",
        "\n",
        "for img_class in class_map:\n",
        "  aug_count = math.floor(max_da_count / class_map_summary_cn[img_class]['train'])\n",
        "  da_aug_class_counts[img_class] = {'aug_count': aug_count, 'target_total': (aug_count + 1) * class_map_summary_cn[img_class]['train']}\n",
        "\n",
        "print('Generated image count per source image per class:\\n')\n",
        "for k,v in class_map_summary_cn.items():\n",
        "  print(k, '     \\t', v)\n",
        "  print('\\t\\t', da_aug_class_counts[k], '\\n')"
      ],
      "metadata": {
        "colab": {
          "base_uri": "https://localhost:8080/"
        },
        "id": "Ven0o_9yz-19",
        "outputId": "746c1bf6-eb8c-4336-e43d-b793e88cb8a6"
      },
      "execution_count": 534,
      "outputs": [
        {
          "output_type": "stream",
          "name": "stdout",
          "text": [
            "Generated image count per source image per class:\n",
            "\n",
            "adidas      \t {'code': 0, 'train': 147, 'val': 33, 'test': 28, 'total': 208}\n",
            "\t\t {'aug_count': 13, 'target_total': 2058} \n",
            "\n",
            "apple      \t {'code': 1, 'train': 378, 'val': 70, 'test': 82, 'total': 530}\n",
            "\t\t {'aug_count': 5, 'target_total': 2268} \n",
            "\n",
            "bmw      \t {'code': 2, 'train': 403, 'val': 81, 'test': 81, 'total': 565}\n",
            "\t\t {'aug_count': 4, 'target_total': 2015} \n",
            "\n",
            "cocacola      \t {'code': 3, 'train': 364, 'val': 78, 'test': 71, 'total': 513}\n",
            "\t\t {'aug_count': 5, 'target_total': 2184} \n",
            "\n",
            "dhl      \t {'code': 4, 'train': 474, 'val': 92, 'test': 88, 'total': 654}\n",
            "\t\t {'aug_count': 4, 'target_total': 2370} \n",
            "\n",
            "fedex      \t {'code': 5, 'train': 364, 'val': 74, 'test': 81, 'total': 519}\n",
            "\t\t {'aug_count': 5, 'target_total': 2184} \n",
            "\n",
            "heineken      \t {'code': 6, 'train': 150, 'val': 62, 'test': 31, 'total': 243}\n",
            "\t\t {'aug_count': 13, 'target_total': 2100} \n",
            "\n",
            "pepsi      \t {'code': 7, 'train': 361, 'val': 53, 'test': 100, 'total': 514}\n",
            "\t\t {'aug_count': 5, 'target_total': 2166} \n",
            "\n",
            "starbucks      \t {'code': 8, 'train': 376, 'val': 81, 'test': 79, 'total': 536}\n",
            "\t\t {'aug_count': 5, 'target_total': 2256} \n",
            "\n",
            "ups      \t {'code': 9, 'train': 230, 'val': 50, 'test': 36, 'total': 316}\n",
            "\t\t {'aug_count': 8, 'target_total': 2070} \n",
            "\n"
          ]
        }
      ]
    },
    {
      "cell_type": "code",
      "source": [
        "# data augmentation on train examples\n",
        "img_preproc_dict_da = {}\n",
        "class_map_summary_da = { v: {'code': k, 'train': 0, 'val': 0, 'test': 0, 'total': 0} for k,v in enumerate(class_map) }\n",
        "\n",
        "for img_fname, img_data in tqdm(img_preproc_dict_cn.items()):\n",
        "  img_class = img_data['class']\n",
        "  img_set = img_data['set']\n",
        "  if img_set != 'train':\n",
        "    class_map_summary_da[img_class]['total'] += 1\n",
        "    class_map_summary_da[img_class][img_set] += 1\n",
        "    continue\n",
        "\n",
        "  img_da = plt.imread(preproc_cn_dir + img_fname)\n",
        "  aug_count = da_aug_class_counts[img_class]['aug_count']\n",
        "\n",
        "  xrots = [0] + random.sample(range(-30, 30, 1), aug_count)\n",
        "  yrots = [0] + random.sample(range(-30, 30, 1), aug_count)\n",
        "  zrots = [0] + random.sample(range(-45, 45, 1), aug_count)\n",
        "  invs = [0] + [random.randint(0,1) for x in range(aug_count)]\n",
        "\n",
        "  for num,(xrot,yrot,zrot,inv) in enumerate(zip(xrots,yrots,zrots,invs)): \n",
        "    rdm_img = rotate_3d(img_da, x=xrot, y=yrot, z=zrot)\n",
        "    if inv:\n",
        "      rdm_img = invert_image(rdm_img)\n",
        "\n",
        "    new_img_fname = img_fname.split('.')[0] + '_' + str(num).zfill(2) + '_da.jpg'\n",
        "    plt.imsave(preproc_da_dir + new_img_fname, rdm_img)\n",
        "\n",
        "    class_map_summary_da[img_class]['total'] += 1\n",
        "    class_map_summary_da[img_class][img_set] += 1\n",
        "    img_preproc_dict_da[new_img_fname] = {\n",
        "      'image_source': img_data['image_source'],\n",
        "      'preprocessing': ['bbox','cn','da'],\n",
        "      'class': img_class,\n",
        "      'class_code': img_data['class_code'],\n",
        "      'set' : img_set\n",
        "    }\n",
        "\n",
        "print('Image counts per data split per class:\\n')\n",
        "for k,v in class_map_summary_da.items():\n",
        "  print(k, '     \\t', v)\n",
        "\n",
        "print('\\nTotal image count -', len(img_preproc_dict_da.items()))\n",
        "print('Total stored image count -', len(os.listdir(preproc_da_dir)))"
      ],
      "metadata": {
        "colab": {
          "base_uri": "https://localhost:8080/",
          "height": 0,
          "referenced_widgets": [
            "1acfa043d38e48a2a6168758214860d9",
            "81c93f6ebf8249f6aee394dd2cc15f49",
            "4188f628953d4c979cb57b5276f7f24a",
            "458cf5a306414b36923f26a7c5169041",
            "f549be799a534b439dfbba5066cc9f73",
            "722a4b92c55e4da4ac1915ff043b50c0",
            "c6691568bdd04ad58b232904b50fe548",
            "c276bc025b224cf1a166170703664be3",
            "685ba40e3acd48b79f4303a48bf71c82",
            "6e83d8d2d95e4f5a92f705104b0b23a8",
            "dd294c237a504a539d0995ce13259d24"
          ]
        },
        "id": "oK-pzf0w37os",
        "outputId": "070bf68f-dde6-44e3-b565-7be3b1d789c7"
      },
      "execution_count": 537,
      "outputs": [
        {
          "output_type": "display_data",
          "data": {
            "text/plain": [
              "  0%|          | 0/4598 [00:00<?, ?it/s]"
            ],
            "application/vnd.jupyter.widget-view+json": {
              "version_major": 2,
              "version_minor": 0,
              "model_id": "1acfa043d38e48a2a6168758214860d9"
            }
          },
          "metadata": {}
        },
        {
          "output_type": "stream",
          "name": "stdout",
          "text": [
            "Image counts per data split per class:\n",
            "\n",
            "adidas      \t {'code': 0, 'train': 2058, 'val': 33, 'test': 28, 'total': 2119}\n",
            "apple      \t {'code': 1, 'train': 2268, 'val': 70, 'test': 82, 'total': 2420}\n",
            "bmw      \t {'code': 2, 'train': 2015, 'val': 81, 'test': 81, 'total': 2177}\n",
            "cocacola      \t {'code': 3, 'train': 2184, 'val': 78, 'test': 71, 'total': 2333}\n",
            "dhl      \t {'code': 4, 'train': 2370, 'val': 92, 'test': 88, 'total': 2550}\n",
            "fedex      \t {'code': 5, 'train': 2184, 'val': 74, 'test': 81, 'total': 2339}\n",
            "heineken      \t {'code': 6, 'train': 2100, 'val': 62, 'test': 31, 'total': 2193}\n",
            "pepsi      \t {'code': 7, 'train': 2166, 'val': 53, 'test': 100, 'total': 2319}\n",
            "starbucks      \t {'code': 8, 'train': 2256, 'val': 81, 'test': 79, 'total': 2416}\n",
            "ups      \t {'code': 9, 'train': 2070, 'val': 50, 'test': 36, 'total': 2156}\n",
            "\n",
            "Total image count - 21671\n",
            "Total stored image count - 21671\n"
          ]
        }
      ]
    },
    {
      "cell_type": "code",
      "source": [
        "# save dictionaries to file\n",
        "with open(preproc_dir + \"preproc_map_da.json\", \"w\") as outfile:\n",
        "  json.dump(img_preproc_dict_da, outfile)\n",
        "\n",
        "with open(preproc_dir + \"class_map_summary_da.json\", \"w\") as outfile:\n",
        "  json.dump(class_map_summary_da, outfile)"
      ],
      "metadata": {
        "id": "3f3d-A2ARbcW"
      },
      "execution_count": 538,
      "outputs": []
    },
    {
      "cell_type": "code",
      "source": [
        "# load dictionaries\n",
        "with open(preproc_dir + \"preproc_map_da.json\", \"r\") as outfile:\n",
        "  img_preproc_dict_da = json.load(outfile)\n",
        "\n",
        "with open(preproc_dir + \"class_map_summary_da.json\", \"r\") as outfile:\n",
        "  class_map_summary_da = json.load(outfile)"
      ],
      "metadata": {
        "id": "4uuy6r4aM9Gv"
      },
      "execution_count": 539,
      "outputs": []
    },
    {
      "cell_type": "markdown",
      "source": [
        "## Grayscale images"
      ],
      "metadata": {
        "id": "OC56wZTTe9St"
      }
    },
    {
      "cell_type": "code",
      "source": [
        "# save grayscale version of final image set\n",
        "img_preproc_dict_gray = {}\n",
        "class_map_summary_gray = { v: {'code': k, 'train': 0, 'val': 0, 'test': 0, 'total': 0} for k,v in enumerate(class_map) }\n",
        "\n",
        "for img_fname, img_data in tqdm(img_preproc_dict_da.items()):\n",
        "  img_gray_in = plt.imread(preproc_da_dir + img_fname)\n",
        "  img_gray = cv2.cvtColor(img_gray_in, cv2.COLOR_BGR2GRAY)\n",
        "  img_class = img_data['class']\n",
        "  img_set = img_data['set']\n",
        "\n",
        "  new_img_fname = img_fname.split('.')[0] + '_gray.jpg'\n",
        "  plt.imsave(preproc_gray_dir + new_img_fname, img_gray, cmap='gray')\n",
        "  \n",
        "  class_map_summary_gray[img_class]['total'] += 1\n",
        "  class_map_summary_gray[img_class][img_set] += 1\n",
        "  img_preproc_dict_gray[new_img_fname] = {\n",
        "    'image_source': img_data['image_source'],\n",
        "    'preprocessing': ['bbox','cn','da','gray'],\n",
        "    'class': img_class,\n",
        "    'class_code': img_data['class_code'],\n",
        "    'set': img_set\n",
        "  }\n",
        "\n",
        "print('Image counts per data split per class:\\n')\n",
        "for k,v in class_map_summary_gray.items():\n",
        "  print(k, '     \\t', v)\n",
        "\n",
        "print('\\nTotal image count -', len(img_preproc_dict_gray.items()))\n",
        "print('Total stored image count -', len(os.listdir(preproc_gray_dir)))"
      ],
      "metadata": {
        "colab": {
          "base_uri": "https://localhost:8080/",
          "height": 315,
          "referenced_widgets": [
            "f52376f808754066adc8aca52ae8fd08",
            "e88552fa7bc24694a1ae2e7d655930fa",
            "fc55e79a1e8f4ce3a4f2af1470600ba8",
            "154c3db9347f4b9b842d2a8e1f5b6d23",
            "3cf909882d1f4b049190a7d4eb974a3c",
            "0ff9b489742c4e4fbd1aeef5849af979",
            "8d4e8ba8008c424dbac6a24f090991d3",
            "c9ee037996d14664b86e21faf0909153",
            "d1f8bd1896414e5c8b38eef5512b9dcb",
            "c81343b63423422f950341b3244e034d",
            "45f8bacf85e845b7b5f84ec6f4a10fec"
          ]
        },
        "id": "pK462zZr_GKn",
        "outputId": "23d57c59-d98b-469d-a8a1-0857c99241a2"
      },
      "execution_count": 540,
      "outputs": [
        {
          "output_type": "display_data",
          "data": {
            "text/plain": [
              "  0%|          | 0/21671 [00:00<?, ?it/s]"
            ],
            "application/vnd.jupyter.widget-view+json": {
              "version_major": 2,
              "version_minor": 0,
              "model_id": "f52376f808754066adc8aca52ae8fd08"
            }
          },
          "metadata": {}
        },
        {
          "output_type": "stream",
          "name": "stdout",
          "text": [
            "Image counts per data split per class:\n",
            "\n",
            "adidas      \t {'code': 0, 'train': 2058, 'val': 0, 'test': 0, 'total': 2058}\n",
            "apple      \t {'code': 1, 'train': 2268, 'val': 0, 'test': 0, 'total': 2268}\n",
            "bmw      \t {'code': 2, 'train': 2015, 'val': 0, 'test': 0, 'total': 2015}\n",
            "cocacola      \t {'code': 3, 'train': 2184, 'val': 0, 'test': 0, 'total': 2184}\n",
            "dhl      \t {'code': 4, 'train': 2370, 'val': 0, 'test': 0, 'total': 2370}\n",
            "fedex      \t {'code': 5, 'train': 2184, 'val': 0, 'test': 0, 'total': 2184}\n",
            "heineken      \t {'code': 6, 'train': 2100, 'val': 0, 'test': 0, 'total': 2100}\n",
            "pepsi      \t {'code': 7, 'train': 2166, 'val': 0, 'test': 0, 'total': 2166}\n",
            "starbucks      \t {'code': 8, 'train': 2256, 'val': 0, 'test': 0, 'total': 2256}\n",
            "ups      \t {'code': 9, 'train': 2070, 'val': 0, 'test': 0, 'total': 2070}\n",
            "\n",
            "Total image count - 21671\n",
            "Total stored image count - 21671\n"
          ]
        }
      ]
    },
    {
      "cell_type": "code",
      "source": [
        "# save dictionaries to file\n",
        "with open(preproc_dir + \"preproc_map_gray.json\", \"w\") as outfile:\n",
        "  json.dump(img_preproc_dict_gray, outfile)\n",
        "\n",
        "with open(preproc_dir + \"class_map_summary_gray.json\", \"w\") as outfile:\n",
        "  json.dump(class_map_summary_gray, outfile)"
      ],
      "metadata": {
        "id": "bQbDW1DpFLCW"
      },
      "execution_count": 541,
      "outputs": []
    },
    {
      "cell_type": "markdown",
      "source": [
        "## Upload to cloud storage"
      ],
      "metadata": {
        "id": "uJhBhxNkSEzY"
      }
    },
    {
      "cell_type": "code",
      "source": [
        "from google.colab import auth\n",
        "auth.authenticate_user()\n",
        "\n",
        "# display files and directories from bucket\n",
        "!gsutil ls gs://w281finalprojectlogo/Logos-32plus_v1.0.1/"
      ],
      "metadata": {
        "colab": {
          "base_uri": "https://localhost:8080/"
        },
        "id": "rBXnCJWA5Nja",
        "outputId": "13d50880-7d67-42bb-83d6-b2bebaddf2cd"
      },
      "execution_count": 542,
      "outputs": [
        {
          "output_type": "stream",
          "name": "stdout",
          "text": [
            "gs://w281finalprojectlogo/Logos-32plus_v1.0.1/.DS_Store\n",
            "gs://w281finalprojectlogo/Logos-32plus_v1.0.1/groundtruth.mat\n",
            "gs://w281finalprojectlogo/Logos-32plus_v1.0.1/hu_moments_train.json\n",
            "gs://w281finalprojectlogo/Logos-32plus_v1.0.1/hu_moments_train.npy\n",
            "gs://w281finalprojectlogo/Logos-32plus_v1.0.1/hu_moments_val.npy\n",
            "gs://w281finalprojectlogo/Logos-32plus_v1.0.1/image.png\n",
            "gs://w281finalprojectlogo/Logos-32plus_v1.0.1/feature_extraction/\n",
            "gs://w281finalprojectlogo/Logos-32plus_v1.0.1/images/\n",
            "gs://w281finalprojectlogo/Logos-32plus_v1.0.1/preprocessed/\n",
            "gs://w281finalprojectlogo/Logos-32plus_v1.0.1/yolofinalset/\n"
          ]
        }
      ]
    },
    {
      "cell_type": "code",
      "source": [
        "# write all of preprocessed/ to google storage bucket\n",
        "!gsutil -mq cp -r /content/drive/MyDrive/w281FinalProjectLogo/Logos-32plus_v1.0.1/preprocessed/* gs://w281finalprojectlogo/Logos-32plus_v1.0.1/preprocessedv2/"
      ],
      "metadata": {
        "id": "UGGBMziSk4PF"
      },
      "execution_count": null,
      "outputs": []
    },
    {
      "cell_type": "code",
      "source": [
        "num_gray_imgs = !gsutil ls gs://w281finalprojectlogo/Logos-32plus_v1.0.1/preprocessedv2/gray\n",
        "print(len(num_gray_imgs))"
      ],
      "metadata": {
        "colab": {
          "base_uri": "https://localhost:8080/"
        },
        "id": "H6en2dZ4k_55",
        "outputId": "56800bd1-48b8-4bda-812e-7b486fa44e0a"
      },
      "execution_count": 42,
      "outputs": [
        {
          "output_type": "stream",
          "name": "stdout",
          "text": [
            "21671\n"
          ]
        }
      ]
    }
  ]
}